{
  "nbformat": 4,
  "nbformat_minor": 0,
  "metadata": {
    "colab": {
      "name": "5_6_vectorization.ipynb",
      "provenance": [],
      "collapsed_sections": []
    },
    "kernelspec": {
      "name": "python3",
      "display_name": "Python 3"
    },
    "language_info": {
      "name": "python"
    }
  },
  "cells": [
    {
      "cell_type": "markdown",
      "metadata": {
        "id": "EBUtvvMAPOEE"
      },
      "source": [
        "# Загружаем библиотеки"
      ]
    },
    {
      "cell_type": "code",
      "metadata": {
        "id": "KT6ZUZaSaru_"
      },
      "source": [
        "import pandas as pd\n",
        "from nltk.tokenize import word_tokenize\n",
        "import string"
      ],
      "execution_count": 2,
      "outputs": []
    },
    {
      "cell_type": "code",
      "metadata": {
        "colab": {
          "base_uri": "https://localhost:8080/"
        },
        "id": "silE_on5G78B",
        "outputId": "95a37a3e-91b3-49f6-f587-4e628ebc72c2"
      },
      "source": [
        "import nltk\n",
        "nltk.download('punkt')"
      ],
      "execution_count": 3,
      "outputs": [
        {
          "output_type": "stream",
          "text": [
            "[nltk_data] Downloading package punkt to /root/nltk_data...\n",
            "[nltk_data]   Unzipping tokenizers/punkt.zip.\n"
          ],
          "name": "stdout"
        },
        {
          "output_type": "execute_result",
          "data": {
            "text/plain": [
              "True"
            ]
          },
          "metadata": {
            "tags": []
          },
          "execution_count": 3
        }
      ]
    },
    {
      "cell_type": "code",
      "metadata": {
        "colab": {
          "base_uri": "https://localhost:8080/"
        },
        "id": "8zK6qQJqKJOl",
        "outputId": "94b7441a-b43c-49aa-83fc-5262ef5d39fb"
      },
      "source": [
        "!pip install pymorphy2"
      ],
      "execution_count": 4,
      "outputs": [
        {
          "output_type": "stream",
          "text": [
            "Collecting pymorphy2\n",
            "\u001b[?25l  Downloading https://files.pythonhosted.org/packages/07/57/b2ff2fae3376d4f3c697b9886b64a54b476e1a332c67eee9f88e7f1ae8c9/pymorphy2-0.9.1-py3-none-any.whl (55kB)\n",
            "\u001b[K     |████████████████████████████████| 61kB 2.8MB/s \n",
            "\u001b[?25hCollecting pymorphy2-dicts-ru<3.0,>=2.4\n",
            "\u001b[?25l  Downloading https://files.pythonhosted.org/packages/3a/79/bea0021eeb7eeefde22ef9e96badf174068a2dd20264b9a378f2be1cdd9e/pymorphy2_dicts_ru-2.4.417127.4579844-py2.py3-none-any.whl (8.2MB)\n",
            "\u001b[K     |████████████████████████████████| 8.2MB 5.6MB/s \n",
            "\u001b[?25hCollecting dawg-python>=0.7.1\n",
            "  Downloading https://files.pythonhosted.org/packages/6a/84/ff1ce2071d4c650ec85745766c0047ccc3b5036f1d03559fd46bb38b5eeb/DAWG_Python-0.7.2-py2.py3-none-any.whl\n",
            "Requirement already satisfied: docopt>=0.6 in /usr/local/lib/python3.7/dist-packages (from pymorphy2) (0.6.2)\n",
            "Installing collected packages: pymorphy2-dicts-ru, dawg-python, pymorphy2\n",
            "Successfully installed dawg-python-0.7.2 pymorphy2-0.9.1 pymorphy2-dicts-ru-2.4.417127.4579844\n"
          ],
          "name": "stdout"
        }
      ]
    },
    {
      "cell_type": "code",
      "metadata": {
        "id": "lLbq--ovKMYT"
      },
      "source": [
        "from pymorphy2 import MorphAnalyzer"
      ],
      "execution_count": 5,
      "outputs": []
    },
    {
      "cell_type": "code",
      "metadata": {
        "id": "u0G9EPNBmVcE"
      },
      "source": [
        "from sklearn.model_selection import train_test_split\n",
        "from sklearn.feature_extraction.text import CountVectorizer\n",
        "from sklearn.feature_extraction.text import TfidfVectorizer\n",
        "from sklearn.naive_bayes import MultinomialNB\n",
        "from sklearn.metrics import * "
      ],
      "execution_count": 30,
      "outputs": []
    },
    {
      "cell_type": "markdown",
      "metadata": {
        "id": "xFH19kInPTcY"
      },
      "source": [
        "# Читаем данные"
      ]
    },
    {
      "cell_type": "markdown",
      "metadata": {
        "id": "e8-UMG8NPerK"
      },
      "source": [
        "[Датасет с твитами на русском языке](http://study.mokoron.com/) с разметкой *positive/negative*."
      ]
    },
    {
      "cell_type": "markdown",
      "metadata": {
        "id": "iAFTFQgMP6JA"
      },
      "source": [
        "Читаем датафрейм с позитивными твитами, затем с негативными"
      ]
    },
    {
      "cell_type": "code",
      "metadata": {
        "id": "Y_d-y6fBBgHi"
      },
      "source": [
        "tweets_positive = pd.read_csv('/content/drive/MyDrive/Colab Notebooks/комп линг/tweets sentiment dataset/positive.csv',\n",
        "                              sep=';', header=None, \n",
        "                              names=['id', 'date', 'author', 'text', 'type', 'replies', 'added_to_faves', 'author_tweets_count', 'retweets', 'followers','followed', 'lists'])"
      ],
      "execution_count": 6,
      "outputs": []
    },
    {
      "cell_type": "code",
      "metadata": {
        "colab": {
          "base_uri": "https://localhost:8080/"
        },
        "id": "nCmBEaQLEVll",
        "outputId": "8705e57d-b063-4d56-dfb3-9e254b8f8c41"
      },
      "source": [
        "print(tweets_positive.shape)\n",
        "tweets_positive['type'].unique()"
      ],
      "execution_count": 7,
      "outputs": [
        {
          "output_type": "stream",
          "text": [
            "(114911, 12)\n"
          ],
          "name": "stdout"
        },
        {
          "output_type": "execute_result",
          "data": {
            "text/plain": [
              "array([1])"
            ]
          },
          "metadata": {
            "tags": []
          },
          "execution_count": 7
        }
      ]
    },
    {
      "cell_type": "code",
      "metadata": {
        "id": "zGOriqSoDb--"
      },
      "source": [
        "tweets_negative = pd.read_csv('/content/drive/MyDrive/Colab Notebooks/комп линг/tweets sentiment dataset/negative.csv',\n",
        "                              sep=';', header=None, \n",
        "                              names=['id', 'date', 'author', 'text', 'type', 'replies', 'added_to_faves', 'author_tweets_count', 'retweets', 'followers','followed', 'lists'])"
      ],
      "execution_count": 8,
      "outputs": []
    },
    {
      "cell_type": "code",
      "metadata": {
        "colab": {
          "base_uri": "https://localhost:8080/"
        },
        "id": "QRdyAqDiEc_b",
        "outputId": "8b659a89-fc9d-4f21-caea-90dabd69bb6a"
      },
      "source": [
        "print(tweets_negative.shape)\n",
        "tweets_negative['type'].unique()"
      ],
      "execution_count": 9,
      "outputs": [
        {
          "output_type": "stream",
          "text": [
            "(111923, 12)\n"
          ],
          "name": "stdout"
        },
        {
          "output_type": "execute_result",
          "data": {
            "text/plain": [
              "array([-1])"
            ]
          },
          "metadata": {
            "tags": []
          },
          "execution_count": 9
        }
      ]
    },
    {
      "cell_type": "markdown",
      "metadata": {
        "id": "cX7lrrgQcfYn"
      },
      "source": [
        "Датасеты очень большие (около 100 000 строк каждый), поэтому возьмем часть данных - по 25 000 твитов с позитивной и негативной меткой"
      ]
    },
    {
      "cell_type": "code",
      "metadata": {
        "id": "UWixNjNEDP6D"
      },
      "source": [
        "tweets = tweets_positive.head(25000).append(tweets_negative.head(25000))"
      ],
      "execution_count": 10,
      "outputs": []
    },
    {
      "cell_type": "code",
      "metadata": {
        "colab": {
          "base_uri": "https://localhost:8080/"
        },
        "id": "jrUtAwYBEhok",
        "outputId": "a0bc2bbd-dd81-4acc-de52-a385f4ed000b"
      },
      "source": [
        "print(tweets.shape)\n",
        "tweets['type'].unique()"
      ],
      "execution_count": 11,
      "outputs": [
        {
          "output_type": "stream",
          "text": [
            "(50000, 12)\n"
          ],
          "name": "stdout"
        },
        {
          "output_type": "execute_result",
          "data": {
            "text/plain": [
              "array([ 1, -1])"
            ]
          },
          "metadata": {
            "tags": []
          },
          "execution_count": 11
        }
      ]
    },
    {
      "cell_type": "markdown",
      "metadata": {
        "id": "algMCr29QQkN"
      },
      "source": [
        "Оставляем только столбцы *text* (текст твита) и *type* (индикатор разметки) - с ними будем работать."
      ]
    },
    {
      "cell_type": "code",
      "metadata": {
        "colab": {
          "base_uri": "https://localhost:8080/",
          "height": 203
        },
        "id": "JOumkCdyE-9a",
        "outputId": "44c05e2a-ca1c-40d7-f8e7-ea1faf7065fd"
      },
      "source": [
        "df = tweets[['text', 'type']]\n",
        "df.head()"
      ],
      "execution_count": 19,
      "outputs": [
        {
          "output_type": "execute_result",
          "data": {
            "text/html": [
              "<div>\n",
              "<style scoped>\n",
              "    .dataframe tbody tr th:only-of-type {\n",
              "        vertical-align: middle;\n",
              "    }\n",
              "\n",
              "    .dataframe tbody tr th {\n",
              "        vertical-align: top;\n",
              "    }\n",
              "\n",
              "    .dataframe thead th {\n",
              "        text-align: right;\n",
              "    }\n",
              "</style>\n",
              "<table border=\"1\" class=\"dataframe\">\n",
              "  <thead>\n",
              "    <tr style=\"text-align: right;\">\n",
              "      <th></th>\n",
              "      <th>text</th>\n",
              "      <th>type</th>\n",
              "    </tr>\n",
              "  </thead>\n",
              "  <tbody>\n",
              "    <tr>\n",
              "      <th>0</th>\n",
              "      <td>@first_timee хоть я и школота, но поверь, у на...</td>\n",
              "      <td>1</td>\n",
              "    </tr>\n",
              "    <tr>\n",
              "      <th>1</th>\n",
              "      <td>Да, все-таки он немного похож на него. Но мой ...</td>\n",
              "      <td>1</td>\n",
              "    </tr>\n",
              "    <tr>\n",
              "      <th>2</th>\n",
              "      <td>RT @KatiaCheh: Ну ты идиотка) я испугалась за ...</td>\n",
              "      <td>1</td>\n",
              "    </tr>\n",
              "    <tr>\n",
              "      <th>3</th>\n",
              "      <td>RT @digger2912: \"Кто то в углу сидит и погибае...</td>\n",
              "      <td>1</td>\n",
              "    </tr>\n",
              "    <tr>\n",
              "      <th>4</th>\n",
              "      <td>@irina_dyshkant Вот что значит страшилка :D\\nН...</td>\n",
              "      <td>1</td>\n",
              "    </tr>\n",
              "  </tbody>\n",
              "</table>\n",
              "</div>"
            ],
            "text/plain": [
              "                                                text  type\n",
              "0  @first_timee хоть я и школота, но поверь, у на...     1\n",
              "1  Да, все-таки он немного похож на него. Но мой ...     1\n",
              "2  RT @KatiaCheh: Ну ты идиотка) я испугалась за ...     1\n",
              "3  RT @digger2912: \"Кто то в углу сидит и погибае...     1\n",
              "4  @irina_dyshkant Вот что значит страшилка :D\\nН...     1"
            ]
          },
          "metadata": {
            "tags": []
          },
          "execution_count": 19
        }
      ]
    },
    {
      "cell_type": "markdown",
      "metadata": {
        "id": "hvksUhfpQjRh"
      },
      "source": [
        "# Предобработка"
      ]
    },
    {
      "cell_type": "markdown",
      "metadata": {
        "id": "g0f9L1SJQhka"
      },
      "source": [
        "Очищаем от тегов других пользователей и лишних пробельных символов."
      ]
    },
    {
      "cell_type": "code",
      "metadata": {
        "colab": {
          "base_uri": "https://localhost:8080/",
          "height": 311
        },
        "id": "G04rnLGjF633",
        "outputId": "c97ed73e-8904-4289-cb66-e246a68817cd"
      },
      "source": [
        "df['text'].replace('(RT )?@[\\w]*:?','', regex=True, inplace = True)\n",
        "df['text'].replace('\\s',' ', regex=True, inplace = True)\n",
        "df.head()"
      ],
      "execution_count": 20,
      "outputs": [
        {
          "output_type": "stream",
          "text": [
            "/usr/local/lib/python3.7/dist-packages/pandas/core/series.py:4582: SettingWithCopyWarning: \n",
            "A value is trying to be set on a copy of a slice from a DataFrame\n",
            "\n",
            "See the caveats in the documentation: https://pandas.pydata.org/pandas-docs/stable/user_guide/indexing.html#returning-a-view-versus-a-copy\n",
            "  method=method,\n"
          ],
          "name": "stderr"
        },
        {
          "output_type": "execute_result",
          "data": {
            "text/html": [
              "<div>\n",
              "<style scoped>\n",
              "    .dataframe tbody tr th:only-of-type {\n",
              "        vertical-align: middle;\n",
              "    }\n",
              "\n",
              "    .dataframe tbody tr th {\n",
              "        vertical-align: top;\n",
              "    }\n",
              "\n",
              "    .dataframe thead th {\n",
              "        text-align: right;\n",
              "    }\n",
              "</style>\n",
              "<table border=\"1\" class=\"dataframe\">\n",
              "  <thead>\n",
              "    <tr style=\"text-align: right;\">\n",
              "      <th></th>\n",
              "      <th>text</th>\n",
              "      <th>type</th>\n",
              "    </tr>\n",
              "  </thead>\n",
              "  <tbody>\n",
              "    <tr>\n",
              "      <th>0</th>\n",
              "      <td>хоть я и школота, но поверь, у нас то же само...</td>\n",
              "      <td>1</td>\n",
              "    </tr>\n",
              "    <tr>\n",
              "      <th>1</th>\n",
              "      <td>Да, все-таки он немного похож на него. Но мой ...</td>\n",
              "      <td>1</td>\n",
              "    </tr>\n",
              "    <tr>\n",
              "      <th>2</th>\n",
              "      <td>Ну ты идиотка) я испугалась за тебя!!!</td>\n",
              "      <td>1</td>\n",
              "    </tr>\n",
              "    <tr>\n",
              "      <th>3</th>\n",
              "      <td>\"Кто то в углу сидит и погибает от голода, а ...</td>\n",
              "      <td>1</td>\n",
              "    </tr>\n",
              "    <tr>\n",
              "      <th>4</th>\n",
              "      <td>Вот что значит страшилка :D Но блин,посмотрев...</td>\n",
              "      <td>1</td>\n",
              "    </tr>\n",
              "  </tbody>\n",
              "</table>\n",
              "</div>"
            ],
            "text/plain": [
              "                                                text  type\n",
              "0   хоть я и школота, но поверь, у нас то же само...     1\n",
              "1  Да, все-таки он немного похож на него. Но мой ...     1\n",
              "2             Ну ты идиотка) я испугалась за тебя!!!     1\n",
              "3   \"Кто то в углу сидит и погибает от голода, а ...     1\n",
              "4   Вот что значит страшилка :D Но блин,посмотрев...     1"
            ]
          },
          "metadata": {
            "tags": []
          },
          "execution_count": 20
        }
      ]
    },
    {
      "cell_type": "code",
      "metadata": {
        "colab": {
          "base_uri": "https://localhost:8080/"
        },
        "id": "NK0UIejcGJw5",
        "outputId": "6d1a5d5d-082e-4c3a-c5d7-e2a6dd5d01fc"
      },
      "source": [
        "corpus = df['text'].to_list()\n",
        "corpus[:5]"
      ],
      "execution_count": 22,
      "outputs": [
        {
          "output_type": "execute_result",
          "data": {
            "text/plain": [
              "[' хоть я и школота, но поверь, у нас то же самое :D общество профилирующий предмет типа)',\n",
              " 'Да, все-таки он немного похож на него. Но мой мальчик все равно лучше:D',\n",
              " ' Ну ты идиотка) я испугалась за тебя!!!',\n",
              " ' \"Кто то в углу сидит и погибает от голода, а мы ещё 2 порции взяли, хотя уже и так жрать не хотим\" :DD http://t.co/GqG6iuE2…',\n",
              " ' Вот что значит страшилка :D Но блин,посмотрев все части,у тебя создастся ощущение,что авторы курили что-то :D']"
            ]
          },
          "metadata": {
            "tags": []
          },
          "execution_count": 22
        }
      ]
    },
    {
      "cell_type": "markdown",
      "metadata": {
        "id": "BjioGK2oQm2W"
      },
      "source": [
        "Токенизация, приведение к нижнему регистру и удаление знаков препинания"
      ]
    },
    {
      "cell_type": "code",
      "metadata": {
        "id": "xVqgya6xJGHU"
      },
      "source": [
        "punct_marks = string.punctuation + \"—\" + \"«\" + \"»\" + \"`\" + \"``\""
      ],
      "execution_count": 15,
      "outputs": []
    },
    {
      "cell_type": "code",
      "metadata": {
        "colab": {
          "base_uri": "https://localhost:8080/"
        },
        "id": "RRddeJYOIDPI",
        "outputId": "0fb932f6-0924-461b-b403-47896f79dffd"
      },
      "source": [
        "for i in range(len(corpus)):\n",
        "  doc = corpus[i]\n",
        "  doc = word_tokenize(doc)\n",
        "  doc = [word.lower() for word in doc if word not in punct_marks]\n",
        "  corpus[i] = doc\n",
        "\n",
        "corpus[0]"
      ],
      "execution_count": 23,
      "outputs": [
        {
          "output_type": "execute_result",
          "data": {
            "text/plain": [
              "['хоть',\n",
              " 'я',\n",
              " 'и',\n",
              " 'школота',\n",
              " 'но',\n",
              " 'поверь',\n",
              " 'у',\n",
              " 'нас',\n",
              " 'то',\n",
              " 'же',\n",
              " 'самое',\n",
              " 'd',\n",
              " 'общество',\n",
              " 'профилирующий',\n",
              " 'предмет',\n",
              " 'типа']"
            ]
          },
          "metadata": {
            "tags": []
          },
          "execution_count": 23
        }
      ]
    },
    {
      "cell_type": "markdown",
      "metadata": {
        "id": "QqvLiCFiQuz9"
      },
      "source": [
        "Лемматизация и удаление стоп-слов: \n",
        "* предлогов\n",
        "* союзов\n",
        "* частиц\n",
        "* междометий \n",
        "* местоимений"
      ]
    },
    {
      "cell_type": "code",
      "metadata": {
        "id": "Ug1LecacKYD-"
      },
      "source": [
        "morph = MorphAnalyzer()"
      ],
      "execution_count": 24,
      "outputs": []
    },
    {
      "cell_type": "code",
      "metadata": {
        "id": "q9eepK2GKBv7"
      },
      "source": [
        "corpus_lemmatized = []\n",
        "\n",
        "for i in range(len(corpus)):\n",
        "  doc = corpus[i]\n",
        "  doc_lemmatized = []\n",
        "  for word in doc:\n",
        "    p = morph.parse(word)[0]\n",
        "    if p.tag.POS is None or \\\n",
        "      p.tag.POS in ('PREP', 'CONJ', 'PRCL', 'INTJ', 'NPRO') or \\\n",
        "      'Anph' in p.tag or 'Apro' in p.tag:\n",
        "      continue\n",
        "    doc_lemmatized.append(p.normal_form)\n",
        "  corpus_lemmatized.append(doc_lemmatized)"
      ],
      "execution_count": 25,
      "outputs": []
    },
    {
      "cell_type": "code",
      "metadata": {
        "colab": {
          "base_uri": "https://localhost:8080/"
        },
        "id": "SK_3RSFpL5tN",
        "outputId": "42a89dd3-024c-4896-8480-b2d09d4e7d61"
      },
      "source": [
        "corpus_lemmatized[:5]"
      ],
      "execution_count": 26,
      "outputs": [
        {
          "output_type": "execute_result",
          "data": {
            "text/plain": [
              "[['школотый', 'общество', 'профилировать', 'предмет', 'тип'],\n",
              " ['немного', 'похожий', 'мальчик', 'хороший'],\n",
              " ['идиотка', 'испугаться'],\n",
              " ['угол',\n",
              "  'сидеть',\n",
              "  'погибать',\n",
              "  'голод',\n",
              "  'ещё',\n",
              "  'порция',\n",
              "  'взять',\n",
              "  'уже',\n",
              "  'жрать',\n",
              "  'хотеть'],\n",
              " ['страшилка',\n",
              "  'посмотреть',\n",
              "  'часть',\n",
              "  'создаться',\n",
              "  'ощущение',\n",
              "  'автор',\n",
              "  'курить',\n",
              "  'что-то']]"
            ]
          },
          "metadata": {
            "tags": []
          },
          "execution_count": 26
        }
      ]
    },
    {
      "cell_type": "markdown",
      "metadata": {
        "id": "R1Xf8MSPnGNz"
      },
      "source": [
        "Сохраним лемматизированные документы в виде строк, чтобы их мог принять векторизатор"
      ]
    },
    {
      "cell_type": "code",
      "metadata": {
        "colab": {
          "base_uri": "https://localhost:8080/",
          "height": 35
        },
        "id": "M3mPCpCvnOus",
        "outputId": "1267a907-5aa5-4ed8-eec4-56fcd5f10b91"
      },
      "source": [
        "X = [' '.join(text) for text in corpus_lemmatized]\n",
        "X[0]"
      ],
      "execution_count": 27,
      "outputs": [
        {
          "output_type": "execute_result",
          "data": {
            "application/vnd.google.colaboratory.intrinsic+json": {
              "type": "string"
            },
            "text/plain": [
              "'школотый общество профилировать предмет тип'"
            ]
          },
          "metadata": {
            "tags": []
          },
          "execution_count": 27
        }
      ]
    },
    {
      "cell_type": "markdown",
      "metadata": {
        "id": "C7ygeKcanCX4"
      },
      "source": [
        "Разделим выборку на обучающую и тестовую"
      ]
    },
    {
      "cell_type": "code",
      "metadata": {
        "id": "T7qoijDmj6D7"
      },
      "source": [
        "y = df['type']"
      ],
      "execution_count": 28,
      "outputs": []
    },
    {
      "cell_type": "code",
      "metadata": {
        "id": "sp_zAMvQnXNB"
      },
      "source": [
        "X_train, X_test, y_train, y_test = train_test_split(X, y, test_size=0.33)"
      ],
      "execution_count": 31,
      "outputs": []
    },
    {
      "cell_type": "markdown",
      "metadata": {
        "id": "iW82WJrAmRBH"
      },
      "source": [
        "# Мешок слов"
      ]
    },
    {
      "cell_type": "markdown",
      "metadata": {
        "id": "LDJb0fhNoCoZ"
      },
      "source": [
        "Векторизуем тренировочные и тестовые данные"
      ]
    },
    {
      "cell_type": "code",
      "metadata": {
        "id": "kAh7-9p_mZze"
      },
      "source": [
        "vectorizer = CountVectorizer(ngram_range=(1, 3))"
      ],
      "execution_count": 32,
      "outputs": []
    },
    {
      "cell_type": "code",
      "metadata": {
        "colab": {
          "base_uri": "https://localhost:8080/"
        },
        "id": "9AUpZwLmmg9x",
        "outputId": "38e4d5cb-f110-4aeb-e49a-1c4239b1ae39"
      },
      "source": [
        "X_train_vectorized = vectorizer.fit_transform(X_train)\n",
        "list(vectorizer.vocabulary_.items())[:10]"
      ],
      "execution_count": 59,
      "outputs": [
        {
          "output_type": "execute_result",
          "data": {
            "text/plain": [
              "[('быть', 18380),\n",
              " ('жуйковке', 76424),\n",
              " ('хабаровск', 285553),\n",
              " ('май', 117123),\n",
              " ('говориться', 45169),\n",
              " ('семейный', 228720),\n",
              " ('обстоятельство', 154322),\n",
              " ('жаль', 72716),\n",
              " ('причина', 202929),\n",
              " ('уважитель', 270894)]"
            ]
          },
          "metadata": {
            "tags": []
          },
          "execution_count": 59
        }
      ]
    },
    {
      "cell_type": "markdown",
      "metadata": {
        "id": "6HrZOgC-lIBy"
      },
      "source": [
        "Обучим модель и выведем матрицу с оценками качества классификации"
      ]
    },
    {
      "cell_type": "code",
      "metadata": {
        "colab": {
          "base_uri": "https://localhost:8080/"
        },
        "id": "vAoaAQ1QjCms",
        "outputId": "47d92a5b-ed13-4e03-a78a-9c6c387cd3ca"
      },
      "source": [
        "clf = MultinomialNB()\n",
        "clf.fit(X_train_vectorized, y_train)"
      ],
      "execution_count": 60,
      "outputs": [
        {
          "output_type": "execute_result",
          "data": {
            "text/plain": [
              "MultinomialNB(alpha=1.0, class_prior=None, fit_prior=True)"
            ]
          },
          "metadata": {
            "tags": []
          },
          "execution_count": 60
        }
      ]
    },
    {
      "cell_type": "code",
      "metadata": {
        "colab": {
          "base_uri": "https://localhost:8080/"
        },
        "id": "wJS7j_K0kjde",
        "outputId": "6690bac3-0325-499a-80ee-18de0d98cd1c"
      },
      "source": [
        "X_test_vectorized = vectorizer.transform(X_test)\n",
        "y_pred = clf.predict(X_test_vectorized)\n",
        "print(classification_report(y_test, y_pred))"
      ],
      "execution_count": 61,
      "outputs": [
        {
          "output_type": "stream",
          "text": [
            "              precision    recall  f1-score   support\n",
            "\n",
            "          -1       0.70      0.73      0.71      8244\n",
            "           1       0.72      0.69      0.71      8256\n",
            "\n",
            "    accuracy                           0.71     16500\n",
            "   macro avg       0.71      0.71      0.71     16500\n",
            "weighted avg       0.71      0.71      0.71     16500\n",
            "\n"
          ],
          "name": "stdout"
        }
      ]
    },
    {
      "cell_type": "markdown",
      "metadata": {
        "id": "mFTJ41zM9z6a"
      },
      "source": [
        "Обучим несколько моделей с разным диапазоном n и сохраним значения метрик качества в датафрейм"
      ]
    },
    {
      "cell_type": "code",
      "metadata": {
        "id": "0EdUYZKsjWSQ"
      },
      "source": [
        "eval_data = {'vectorizer': [], 'parameters': [], \n",
        "             'precision': [], 'recall': [],\n",
        "             'accuracy': [], 'f_measure': []}"
      ],
      "execution_count": 68,
      "outputs": []
    },
    {
      "cell_type": "code",
      "metadata": {
        "id": "GuT7Ljk4qDnw"
      },
      "source": [
        "n_ranges = [(1, 1), (1, 2), (1, 3), (1, 4), (1, 5), (1, 6)]\n",
        "\n",
        "for n_range in n_ranges:\n",
        "  vectorizer = CountVectorizer(ngram_range=n_range)\n",
        "  X_train_vectorized = vectorizer.fit_transform(X_train)\n",
        "\n",
        "  clf.fit(X_train_vectorized, y_train)\n",
        "\n",
        "  X_test_vectorized = vectorizer.transform(X_test)\n",
        "  y_pred = clf.predict(X_test_vectorized)\n",
        "\n",
        "  precision = precision_score(y_test, y_pred)\n",
        "  recall = recall_score(y_test, y_pred)\n",
        "  accuracy = accuracy_score(y_test, y_pred)\n",
        "  f_measure = f1_score(y_test, y_pred)\n",
        "\n",
        "  eval_data['vectorizer'].append('ngrams')\n",
        "  eval_data['parameters'].append(n_range)\n",
        "  eval_data['precision'].append(precision)\n",
        "  eval_data['recall'].append(recall)\n",
        "  eval_data['accuracy'].append(accuracy)\n",
        "  eval_data['f_measure'].append(f_measure)"
      ],
      "execution_count": 69,
      "outputs": []
    },
    {
      "cell_type": "markdown",
      "metadata": {
        "id": "GhTdBqqIHGtf"
      },
      "source": [
        "# Мешок символьных n-грамм"
      ]
    },
    {
      "cell_type": "markdown",
      "metadata": {
        "id": "yZr_mGH1Hf84"
      },
      "source": [
        "Аналогичным образом обучим модель с использованием символьных n-грамм"
      ]
    },
    {
      "cell_type": "code",
      "metadata": {
        "id": "W3B8J3VtHQwX"
      },
      "source": [
        "n_ranges = [(2, 8), (3, 8), (4,8), (5, 8)]\n",
        "\n",
        "for n_range in n_ranges:\n",
        "  char_vectorizer = CountVectorizer(analyzer='char', ngram_range=n_range)\n",
        "  X_train_vectorized = char_vectorizer.fit_transform(X_train)\n",
        "\n",
        "  clf = MultinomialNB()\n",
        "  clf.fit(X_train_vectorized, y_train)\n",
        "\n",
        "  X_test_vectorized = char_vectorizer.transform(X_test)\n",
        "  y_pred = clf.predict(X_test_vectorized)\n",
        "\n",
        "  precision = precision_score(y_test, y_pred)\n",
        "  recall = recall_score(y_test, y_pred)\n",
        "  accuracy = accuracy_score(y_test, y_pred)\n",
        "  f_measure = f1_score(y_test, y_pred)\n",
        "\n",
        "  eval_data['vectorizer'].append('nchars')\n",
        "  eval_data['parameters'].append(n_range)\n",
        "  eval_data['precision'].append(precision)\n",
        "  eval_data['recall'].append(recall)\n",
        "  eval_data['accuracy'].append(accuracy)\n",
        "  eval_data['f_measure'].append(f_measure)"
      ],
      "execution_count": 70,
      "outputs": []
    },
    {
      "cell_type": "markdown",
      "metadata": {
        "id": "yXpzCrBIbusu"
      },
      "source": [
        "# Tf-Idf векторизация"
      ]
    },
    {
      "cell_type": "markdown",
      "metadata": {
        "id": "vnkRrs9ybzLw"
      },
      "source": [
        "Повторим то же самое с использованием Tf-Idf векторизации"
      ]
    },
    {
      "cell_type": "code",
      "metadata": {
        "id": "ZVnTYIA1b-g8"
      },
      "source": [
        "n_ranges = [(1, 3), (1, 4)]\n",
        "max_df_list = [0.95]\n",
        "min_df_list = [1, 2, 3, 4]\n",
        "\n",
        "for n_range in n_ranges:\n",
        "  for max_df in max_df_list:\n",
        "    for min_df in min_df_list:\n",
        "      tfidf_vectorizer = TfidfVectorizer(ngram_range=n_range, max_df = max_df, min_df = min_df)\n",
        "      X_train_vectorized = tfidf_vectorizer.fit_transform(X_train)\n",
        "\n",
        "      clf = MultinomialNB()\n",
        "      clf.fit(X_train_vectorized, y_train)\n",
        "\n",
        "      X_test_vectorized = tfidf_vectorizer.transform(X_test)\n",
        "      y_pred = clf.predict(X_test_vectorized)\n",
        "\n",
        "      precision = precision_score(y_test, y_pred)\n",
        "      recall = recall_score(y_test, y_pred)\n",
        "      accuracy = accuracy_score(y_test, y_pred)\n",
        "      f_measure = f1_score(y_test, y_pred)\n",
        "\n",
        "      eval_data['vectorizer'].append('tf-idf')\n",
        "      eval_data['parameters'].append((n_range, max_df, min_df))\n",
        "      eval_data['precision'].append(precision)\n",
        "      eval_data['recall'].append(recall)\n",
        "      eval_data['accuracy'].append(accuracy)\n",
        "      eval_data['f_measure'].append(f_measure)"
      ],
      "execution_count": 71,
      "outputs": []
    },
    {
      "cell_type": "markdown",
      "metadata": {
        "id": "r9kZElSvmsCA"
      },
      "source": [
        "# Сравнение метрик качества"
      ]
    },
    {
      "cell_type": "markdown",
      "metadata": {
        "id": "TEvgP41BmwkL"
      },
      "source": [
        "Сохраним значения метрик качества в виде датафрейма"
      ]
    },
    {
      "cell_type": "code",
      "metadata": {
        "colab": {
          "base_uri": "https://localhost:8080/",
          "height": 603
        },
        "id": "QQfaapUtmp36",
        "outputId": "0e135850-09ef-40ce-8ef1-04f822c7ac8c"
      },
      "source": [
        "eval_data = pd.DataFrame(eval_data)\n",
        "eval_data"
      ],
      "execution_count": 72,
      "outputs": [
        {
          "output_type": "execute_result",
          "data": {
            "text/html": [
              "<div>\n",
              "<style scoped>\n",
              "    .dataframe tbody tr th:only-of-type {\n",
              "        vertical-align: middle;\n",
              "    }\n",
              "\n",
              "    .dataframe tbody tr th {\n",
              "        vertical-align: top;\n",
              "    }\n",
              "\n",
              "    .dataframe thead th {\n",
              "        text-align: right;\n",
              "    }\n",
              "</style>\n",
              "<table border=\"1\" class=\"dataframe\">\n",
              "  <thead>\n",
              "    <tr style=\"text-align: right;\">\n",
              "      <th></th>\n",
              "      <th>vectorizer</th>\n",
              "      <th>parameters</th>\n",
              "      <th>precision</th>\n",
              "      <th>recall</th>\n",
              "      <th>accuracy</th>\n",
              "      <th>f_measure</th>\n",
              "    </tr>\n",
              "  </thead>\n",
              "  <tbody>\n",
              "    <tr>\n",
              "      <th>0</th>\n",
              "      <td>ngrams</td>\n",
              "      <td>(1, 1)</td>\n",
              "      <td>0.705912</td>\n",
              "      <td>0.688313</td>\n",
              "      <td>0.701758</td>\n",
              "      <td>0.697001</td>\n",
              "    </tr>\n",
              "    <tr>\n",
              "      <th>1</th>\n",
              "      <td>ngrams</td>\n",
              "      <td>(1, 2)</td>\n",
              "      <td>0.707429</td>\n",
              "      <td>0.693664</td>\n",
              "      <td>0.704364</td>\n",
              "      <td>0.700479</td>\n",
              "    </tr>\n",
              "    <tr>\n",
              "      <th>2</th>\n",
              "      <td>ngrams</td>\n",
              "      <td>(1, 3)</td>\n",
              "      <td>0.706559</td>\n",
              "      <td>0.694272</td>\n",
              "      <td>0.703939</td>\n",
              "      <td>0.700362</td>\n",
              "    </tr>\n",
              "    <tr>\n",
              "      <th>3</th>\n",
              "      <td>ngrams</td>\n",
              "      <td>(1, 4)</td>\n",
              "      <td>0.706574</td>\n",
              "      <td>0.694029</td>\n",
              "      <td>0.703879</td>\n",
              "      <td>0.700245</td>\n",
              "    </tr>\n",
              "    <tr>\n",
              "      <th>4</th>\n",
              "      <td>ngrams</td>\n",
              "      <td>(1, 5)</td>\n",
              "      <td>0.706743</td>\n",
              "      <td>0.693421</td>\n",
              "      <td>0.703818</td>\n",
              "      <td>0.700018</td>\n",
              "    </tr>\n",
              "    <tr>\n",
              "      <th>5</th>\n",
              "      <td>ngrams</td>\n",
              "      <td>(1, 6)</td>\n",
              "      <td>0.707175</td>\n",
              "      <td>0.692813</td>\n",
              "      <td>0.703939</td>\n",
              "      <td>0.699920</td>\n",
              "    </tr>\n",
              "    <tr>\n",
              "      <th>6</th>\n",
              "      <td>nchars</td>\n",
              "      <td>(2, 8)</td>\n",
              "      <td>0.708096</td>\n",
              "      <td>0.679679</td>\n",
              "      <td>0.700727</td>\n",
              "      <td>0.693596</td>\n",
              "    </tr>\n",
              "    <tr>\n",
              "      <th>7</th>\n",
              "      <td>nchars</td>\n",
              "      <td>(3, 8)</td>\n",
              "      <td>0.708730</td>\n",
              "      <td>0.678220</td>\n",
              "      <td>0.700727</td>\n",
              "      <td>0.693139</td>\n",
              "    </tr>\n",
              "    <tr>\n",
              "      <th>8</th>\n",
              "      <td>nchars</td>\n",
              "      <td>(4, 8)</td>\n",
              "      <td>0.708360</td>\n",
              "      <td>0.679071</td>\n",
              "      <td>0.700727</td>\n",
              "      <td>0.693406</td>\n",
              "    </tr>\n",
              "    <tr>\n",
              "      <th>9</th>\n",
              "      <td>nchars</td>\n",
              "      <td>(5, 8)</td>\n",
              "      <td>0.705882</td>\n",
              "      <td>0.674206</td>\n",
              "      <td>0.697636</td>\n",
              "      <td>0.689681</td>\n",
              "    </tr>\n",
              "    <tr>\n",
              "      <th>10</th>\n",
              "      <td>tf-idf</td>\n",
              "      <td>((1, 3), 0.95, 1)</td>\n",
              "      <td>0.712635</td>\n",
              "      <td>0.690016</td>\n",
              "      <td>0.706848</td>\n",
              "      <td>0.701143</td>\n",
              "    </tr>\n",
              "    <tr>\n",
              "      <th>11</th>\n",
              "      <td>tf-idf</td>\n",
              "      <td>((1, 3), 0.95, 2)</td>\n",
              "      <td>0.684030</td>\n",
              "      <td>0.753740</td>\n",
              "      <td>0.703758</td>\n",
              "      <td>0.717195</td>\n",
              "    </tr>\n",
              "    <tr>\n",
              "      <th>12</th>\n",
              "      <td>tf-idf</td>\n",
              "      <td>((1, 3), 0.95, 3)</td>\n",
              "      <td>0.683428</td>\n",
              "      <td>0.732215</td>\n",
              "      <td>0.697515</td>\n",
              "      <td>0.706981</td>\n",
              "    </tr>\n",
              "    <tr>\n",
              "      <th>13</th>\n",
              "      <td>tf-idf</td>\n",
              "      <td>((1, 3), 0.95, 4)</td>\n",
              "      <td>0.682597</td>\n",
              "      <td>0.717378</td>\n",
              "      <td>0.692909</td>\n",
              "      <td>0.699555</td>\n",
              "    </tr>\n",
              "    <tr>\n",
              "      <th>14</th>\n",
              "      <td>tf-idf</td>\n",
              "      <td>((1, 4), 0.95, 1)</td>\n",
              "      <td>0.713439</td>\n",
              "      <td>0.688192</td>\n",
              "      <td>0.706848</td>\n",
              "      <td>0.700588</td>\n",
              "    </tr>\n",
              "    <tr>\n",
              "      <th>15</th>\n",
              "      <td>tf-idf</td>\n",
              "      <td>((1, 4), 0.95, 2)</td>\n",
              "      <td>0.680074</td>\n",
              "      <td>0.758726</td>\n",
              "      <td>0.701879</td>\n",
              "      <td>0.717250</td>\n",
              "    </tr>\n",
              "    <tr>\n",
              "      <th>16</th>\n",
              "      <td>tf-idf</td>\n",
              "      <td>((1, 4), 0.95, 3)</td>\n",
              "      <td>0.681557</td>\n",
              "      <td>0.734768</td>\n",
              "      <td>0.696727</td>\n",
              "      <td>0.707163</td>\n",
              "    </tr>\n",
              "    <tr>\n",
              "      <th>17</th>\n",
              "      <td>tf-idf</td>\n",
              "      <td>((1, 4), 0.95, 4)</td>\n",
              "      <td>0.682543</td>\n",
              "      <td>0.717986</td>\n",
              "      <td>0.693030</td>\n",
              "      <td>0.699816</td>\n",
              "    </tr>\n",
              "  </tbody>\n",
              "</table>\n",
              "</div>"
            ],
            "text/plain": [
              "   vectorizer         parameters  precision    recall  accuracy  f_measure\n",
              "0      ngrams             (1, 1)   0.705912  0.688313  0.701758   0.697001\n",
              "1      ngrams             (1, 2)   0.707429  0.693664  0.704364   0.700479\n",
              "2      ngrams             (1, 3)   0.706559  0.694272  0.703939   0.700362\n",
              "3      ngrams             (1, 4)   0.706574  0.694029  0.703879   0.700245\n",
              "4      ngrams             (1, 5)   0.706743  0.693421  0.703818   0.700018\n",
              "5      ngrams             (1, 6)   0.707175  0.692813  0.703939   0.699920\n",
              "6      nchars             (2, 8)   0.708096  0.679679  0.700727   0.693596\n",
              "7      nchars             (3, 8)   0.708730  0.678220  0.700727   0.693139\n",
              "8      nchars             (4, 8)   0.708360  0.679071  0.700727   0.693406\n",
              "9      nchars             (5, 8)   0.705882  0.674206  0.697636   0.689681\n",
              "10     tf-idf  ((1, 3), 0.95, 1)   0.712635  0.690016  0.706848   0.701143\n",
              "11     tf-idf  ((1, 3), 0.95, 2)   0.684030  0.753740  0.703758   0.717195\n",
              "12     tf-idf  ((1, 3), 0.95, 3)   0.683428  0.732215  0.697515   0.706981\n",
              "13     tf-idf  ((1, 3), 0.95, 4)   0.682597  0.717378  0.692909   0.699555\n",
              "14     tf-idf  ((1, 4), 0.95, 1)   0.713439  0.688192  0.706848   0.700588\n",
              "15     tf-idf  ((1, 4), 0.95, 2)   0.680074  0.758726  0.701879   0.717250\n",
              "16     tf-idf  ((1, 4), 0.95, 3)   0.681557  0.734768  0.696727   0.707163\n",
              "17     tf-idf  ((1, 4), 0.95, 4)   0.682543  0.717986  0.693030   0.699816"
            ]
          },
          "metadata": {
            "tags": []
          },
          "execution_count": 72
        }
      ]
    },
    {
      "cell_type": "markdown",
      "metadata": {
        "id": "BlvhLUpsm3fT"
      },
      "source": [
        "Выведем три лучших векторизатора по F-мере"
      ]
    },
    {
      "cell_type": "code",
      "metadata": {
        "colab": {
          "base_uri": "https://localhost:8080/",
          "height": 141
        },
        "id": "tEI36jPWjcWZ",
        "outputId": "e617a130-49a6-473e-fb92-59b2b63ba120"
      },
      "source": [
        "eval_data.sort_values(by='f_measure', ascending=False).iloc[:3]"
      ],
      "execution_count": 73,
      "outputs": [
        {
          "output_type": "execute_result",
          "data": {
            "text/html": [
              "<div>\n",
              "<style scoped>\n",
              "    .dataframe tbody tr th:only-of-type {\n",
              "        vertical-align: middle;\n",
              "    }\n",
              "\n",
              "    .dataframe tbody tr th {\n",
              "        vertical-align: top;\n",
              "    }\n",
              "\n",
              "    .dataframe thead th {\n",
              "        text-align: right;\n",
              "    }\n",
              "</style>\n",
              "<table border=\"1\" class=\"dataframe\">\n",
              "  <thead>\n",
              "    <tr style=\"text-align: right;\">\n",
              "      <th></th>\n",
              "      <th>vectorizer</th>\n",
              "      <th>parameters</th>\n",
              "      <th>precision</th>\n",
              "      <th>recall</th>\n",
              "      <th>accuracy</th>\n",
              "      <th>f_measure</th>\n",
              "    </tr>\n",
              "  </thead>\n",
              "  <tbody>\n",
              "    <tr>\n",
              "      <th>15</th>\n",
              "      <td>tf-idf</td>\n",
              "      <td>((1, 4), 0.95, 2)</td>\n",
              "      <td>0.680074</td>\n",
              "      <td>0.758726</td>\n",
              "      <td>0.701879</td>\n",
              "      <td>0.717250</td>\n",
              "    </tr>\n",
              "    <tr>\n",
              "      <th>11</th>\n",
              "      <td>tf-idf</td>\n",
              "      <td>((1, 3), 0.95, 2)</td>\n",
              "      <td>0.684030</td>\n",
              "      <td>0.753740</td>\n",
              "      <td>0.703758</td>\n",
              "      <td>0.717195</td>\n",
              "    </tr>\n",
              "    <tr>\n",
              "      <th>16</th>\n",
              "      <td>tf-idf</td>\n",
              "      <td>((1, 4), 0.95, 3)</td>\n",
              "      <td>0.681557</td>\n",
              "      <td>0.734768</td>\n",
              "      <td>0.696727</td>\n",
              "      <td>0.707163</td>\n",
              "    </tr>\n",
              "  </tbody>\n",
              "</table>\n",
              "</div>"
            ],
            "text/plain": [
              "   vectorizer         parameters  precision    recall  accuracy  f_measure\n",
              "15     tf-idf  ((1, 4), 0.95, 2)   0.680074  0.758726  0.701879   0.717250\n",
              "11     tf-idf  ((1, 3), 0.95, 2)   0.684030  0.753740  0.703758   0.717195\n",
              "16     tf-idf  ((1, 4), 0.95, 3)   0.681557  0.734768  0.696727   0.707163"
            ]
          },
          "metadata": {
            "tags": []
          },
          "execution_count": 73
        }
      ]
    },
    {
      "cell_type": "markdown",
      "metadata": {
        "id": "8swNTFHonRCT"
      },
      "source": [
        "Три лучших векторизатора по precision"
      ]
    },
    {
      "cell_type": "code",
      "metadata": {
        "colab": {
          "base_uri": "https://localhost:8080/",
          "height": 141
        },
        "id": "8xI3FvuhnLT9",
        "outputId": "dd476f7e-770a-4ea1-c406-99f8f0acf833"
      },
      "source": [
        "eval_data.sort_values(by='precision', ascending=False).iloc[:3]"
      ],
      "execution_count": 74,
      "outputs": [
        {
          "output_type": "execute_result",
          "data": {
            "text/html": [
              "<div>\n",
              "<style scoped>\n",
              "    .dataframe tbody tr th:only-of-type {\n",
              "        vertical-align: middle;\n",
              "    }\n",
              "\n",
              "    .dataframe tbody tr th {\n",
              "        vertical-align: top;\n",
              "    }\n",
              "\n",
              "    .dataframe thead th {\n",
              "        text-align: right;\n",
              "    }\n",
              "</style>\n",
              "<table border=\"1\" class=\"dataframe\">\n",
              "  <thead>\n",
              "    <tr style=\"text-align: right;\">\n",
              "      <th></th>\n",
              "      <th>vectorizer</th>\n",
              "      <th>parameters</th>\n",
              "      <th>precision</th>\n",
              "      <th>recall</th>\n",
              "      <th>accuracy</th>\n",
              "      <th>f_measure</th>\n",
              "    </tr>\n",
              "  </thead>\n",
              "  <tbody>\n",
              "    <tr>\n",
              "      <th>14</th>\n",
              "      <td>tf-idf</td>\n",
              "      <td>((1, 4), 0.95, 1)</td>\n",
              "      <td>0.713439</td>\n",
              "      <td>0.688192</td>\n",
              "      <td>0.706848</td>\n",
              "      <td>0.700588</td>\n",
              "    </tr>\n",
              "    <tr>\n",
              "      <th>10</th>\n",
              "      <td>tf-idf</td>\n",
              "      <td>((1, 3), 0.95, 1)</td>\n",
              "      <td>0.712635</td>\n",
              "      <td>0.690016</td>\n",
              "      <td>0.706848</td>\n",
              "      <td>0.701143</td>\n",
              "    </tr>\n",
              "    <tr>\n",
              "      <th>7</th>\n",
              "      <td>nchars</td>\n",
              "      <td>(3, 8)</td>\n",
              "      <td>0.708730</td>\n",
              "      <td>0.678220</td>\n",
              "      <td>0.700727</td>\n",
              "      <td>0.693139</td>\n",
              "    </tr>\n",
              "  </tbody>\n",
              "</table>\n",
              "</div>"
            ],
            "text/plain": [
              "   vectorizer         parameters  precision    recall  accuracy  f_measure\n",
              "14     tf-idf  ((1, 4), 0.95, 1)   0.713439  0.688192  0.706848   0.700588\n",
              "10     tf-idf  ((1, 3), 0.95, 1)   0.712635  0.690016  0.706848   0.701143\n",
              "7      nchars             (3, 8)   0.708730  0.678220  0.700727   0.693139"
            ]
          },
          "metadata": {
            "tags": []
          },
          "execution_count": 74
        }
      ]
    },
    {
      "cell_type": "markdown",
      "metadata": {
        "id": "IHJnRJYGnXES"
      },
      "source": [
        "Три лучших векторизатора по recall"
      ]
    },
    {
      "cell_type": "code",
      "metadata": {
        "colab": {
          "base_uri": "https://localhost:8080/",
          "height": 141
        },
        "id": "zm7rIysznLvj",
        "outputId": "c30af943-44a1-40b6-e5f2-716b2aa1eff9"
      },
      "source": [
        "eval_data.sort_values(by='recall', ascending=False).iloc[:3]"
      ],
      "execution_count": 75,
      "outputs": [
        {
          "output_type": "execute_result",
          "data": {
            "text/html": [
              "<div>\n",
              "<style scoped>\n",
              "    .dataframe tbody tr th:only-of-type {\n",
              "        vertical-align: middle;\n",
              "    }\n",
              "\n",
              "    .dataframe tbody tr th {\n",
              "        vertical-align: top;\n",
              "    }\n",
              "\n",
              "    .dataframe thead th {\n",
              "        text-align: right;\n",
              "    }\n",
              "</style>\n",
              "<table border=\"1\" class=\"dataframe\">\n",
              "  <thead>\n",
              "    <tr style=\"text-align: right;\">\n",
              "      <th></th>\n",
              "      <th>vectorizer</th>\n",
              "      <th>parameters</th>\n",
              "      <th>precision</th>\n",
              "      <th>recall</th>\n",
              "      <th>accuracy</th>\n",
              "      <th>f_measure</th>\n",
              "    </tr>\n",
              "  </thead>\n",
              "  <tbody>\n",
              "    <tr>\n",
              "      <th>15</th>\n",
              "      <td>tf-idf</td>\n",
              "      <td>((1, 4), 0.95, 2)</td>\n",
              "      <td>0.680074</td>\n",
              "      <td>0.758726</td>\n",
              "      <td>0.701879</td>\n",
              "      <td>0.717250</td>\n",
              "    </tr>\n",
              "    <tr>\n",
              "      <th>11</th>\n",
              "      <td>tf-idf</td>\n",
              "      <td>((1, 3), 0.95, 2)</td>\n",
              "      <td>0.684030</td>\n",
              "      <td>0.753740</td>\n",
              "      <td>0.703758</td>\n",
              "      <td>0.717195</td>\n",
              "    </tr>\n",
              "    <tr>\n",
              "      <th>16</th>\n",
              "      <td>tf-idf</td>\n",
              "      <td>((1, 4), 0.95, 3)</td>\n",
              "      <td>0.681557</td>\n",
              "      <td>0.734768</td>\n",
              "      <td>0.696727</td>\n",
              "      <td>0.707163</td>\n",
              "    </tr>\n",
              "  </tbody>\n",
              "</table>\n",
              "</div>"
            ],
            "text/plain": [
              "   vectorizer         parameters  precision    recall  accuracy  f_measure\n",
              "15     tf-idf  ((1, 4), 0.95, 2)   0.680074  0.758726  0.701879   0.717250\n",
              "11     tf-idf  ((1, 3), 0.95, 2)   0.684030  0.753740  0.703758   0.717195\n",
              "16     tf-idf  ((1, 4), 0.95, 3)   0.681557  0.734768  0.696727   0.707163"
            ]
          },
          "metadata": {
            "tags": []
          },
          "execution_count": 75
        }
      ]
    },
    {
      "cell_type": "markdown",
      "metadata": {
        "id": "4KfDxrASnByJ"
      },
      "source": [
        "Выведем лидеров по набору параметров для каждого вида векторизатора"
      ]
    },
    {
      "cell_type": "code",
      "metadata": {
        "colab": {
          "base_uri": "https://localhost:8080/",
          "height": 172
        },
        "id": "3eZTsA__l1M6",
        "outputId": "a59e6eed-6b11-4019-ed8c-99132e172f0b"
      },
      "source": [
        "eval_data.groupby('vectorizer').apply(\n",
        "    lambda x: x.sort_values(by='f_measure', ascending=False).head(1))"
      ],
      "execution_count": 77,
      "outputs": [
        {
          "output_type": "execute_result",
          "data": {
            "text/html": [
              "<div>\n",
              "<style scoped>\n",
              "    .dataframe tbody tr th:only-of-type {\n",
              "        vertical-align: middle;\n",
              "    }\n",
              "\n",
              "    .dataframe tbody tr th {\n",
              "        vertical-align: top;\n",
              "    }\n",
              "\n",
              "    .dataframe thead th {\n",
              "        text-align: right;\n",
              "    }\n",
              "</style>\n",
              "<table border=\"1\" class=\"dataframe\">\n",
              "  <thead>\n",
              "    <tr style=\"text-align: right;\">\n",
              "      <th></th>\n",
              "      <th></th>\n",
              "      <th>vectorizer</th>\n",
              "      <th>parameters</th>\n",
              "      <th>precision</th>\n",
              "      <th>recall</th>\n",
              "      <th>accuracy</th>\n",
              "      <th>f_measure</th>\n",
              "    </tr>\n",
              "    <tr>\n",
              "      <th>vectorizer</th>\n",
              "      <th></th>\n",
              "      <th></th>\n",
              "      <th></th>\n",
              "      <th></th>\n",
              "      <th></th>\n",
              "      <th></th>\n",
              "      <th></th>\n",
              "    </tr>\n",
              "  </thead>\n",
              "  <tbody>\n",
              "    <tr>\n",
              "      <th>nchars</th>\n",
              "      <th>6</th>\n",
              "      <td>nchars</td>\n",
              "      <td>(2, 8)</td>\n",
              "      <td>0.708096</td>\n",
              "      <td>0.679679</td>\n",
              "      <td>0.700727</td>\n",
              "      <td>0.693596</td>\n",
              "    </tr>\n",
              "    <tr>\n",
              "      <th>ngrams</th>\n",
              "      <th>1</th>\n",
              "      <td>ngrams</td>\n",
              "      <td>(1, 2)</td>\n",
              "      <td>0.707429</td>\n",
              "      <td>0.693664</td>\n",
              "      <td>0.704364</td>\n",
              "      <td>0.700479</td>\n",
              "    </tr>\n",
              "    <tr>\n",
              "      <th>tf-idf</th>\n",
              "      <th>15</th>\n",
              "      <td>tf-idf</td>\n",
              "      <td>((1, 4), 0.95, 2)</td>\n",
              "      <td>0.680074</td>\n",
              "      <td>0.758726</td>\n",
              "      <td>0.701879</td>\n",
              "      <td>0.717250</td>\n",
              "    </tr>\n",
              "  </tbody>\n",
              "</table>\n",
              "</div>"
            ],
            "text/plain": [
              "              vectorizer         parameters  ...  accuracy  f_measure\n",
              "vectorizer                                   ...                     \n",
              "nchars     6      nchars             (2, 8)  ...  0.700727   0.693596\n",
              "ngrams     1      ngrams             (1, 2)  ...  0.704364   0.700479\n",
              "tf-idf     15     tf-idf  ((1, 4), 0.95, 2)  ...  0.701879   0.717250\n",
              "\n",
              "[3 rows x 6 columns]"
            ]
          },
          "metadata": {
            "tags": []
          },
          "execution_count": 77
        }
      ]
    },
    {
      "cell_type": "markdown",
      "metadata": {
        "id": "Yk3pF8FTniJn"
      },
      "source": [
        "Как можно видеть, наиболее высокий результат дает **векторизатор tf-idf** с диапазоном размера **n-грамм (1,4)**: \n",
        "* **F-мера = 0.717** \n",
        "* **recall = 0.725**\n",
        "* **precision** не очень сильно отклоняется от максимально возможного значения 0.71 (здесь 0.68)"
      ]
    }
  ]
}