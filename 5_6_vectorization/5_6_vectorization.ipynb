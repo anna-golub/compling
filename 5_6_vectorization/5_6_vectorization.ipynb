{
  "nbformat": 4,
  "nbformat_minor": 0,
  "metadata": {
    "colab": {
      "name": "5_6_vectorization.ipynb",
      "provenance": [],
      "collapsed_sections": []
    },
    "kernelspec": {
      "name": "python3",
      "display_name": "Python 3"
    },
    "language_info": {
      "name": "python"
    }
  },
  "cells": [
    {
      "cell_type": "markdown",
      "metadata": {
        "id": "EBUtvvMAPOEE"
      },
      "source": [
        "# Загружаем библиотеки"
      ]
    },
    {
      "cell_type": "code",
      "metadata": {
        "id": "KT6ZUZaSaru_"
      },
      "source": [
        "import pandas as pd\n",
        "from nltk.tokenize import word_tokenize\n",
        "import string"
      ],
      "execution_count": 1,
      "outputs": []
    },
    {
      "cell_type": "code",
      "metadata": {
        "colab": {
          "base_uri": "https://localhost:8080/"
        },
        "id": "silE_on5G78B",
        "outputId": "e29b1b13-3000-49d9-89c1-5276689db708"
      },
      "source": [
        "import nltk\n",
        "nltk.download('punkt')"
      ],
      "execution_count": 2,
      "outputs": [
        {
          "output_type": "stream",
          "text": [
            "[nltk_data] Downloading package punkt to /root/nltk_data...\n",
            "[nltk_data]   Unzipping tokenizers/punkt.zip.\n"
          ],
          "name": "stdout"
        },
        {
          "output_type": "execute_result",
          "data": {
            "text/plain": [
              "True"
            ]
          },
          "metadata": {
            "tags": []
          },
          "execution_count": 2
        }
      ]
    },
    {
      "cell_type": "code",
      "metadata": {
        "colab": {
          "base_uri": "https://localhost:8080/"
        },
        "id": "8zK6qQJqKJOl",
        "outputId": "cb63cd06-8826-4f0b-b8ff-52a07691a6ac"
      },
      "source": [
        "!pip install pymorphy2"
      ],
      "execution_count": 3,
      "outputs": [
        {
          "output_type": "stream",
          "text": [
            "Collecting pymorphy2\n",
            "\u001b[?25l  Downloading https://files.pythonhosted.org/packages/07/57/b2ff2fae3376d4f3c697b9886b64a54b476e1a332c67eee9f88e7f1ae8c9/pymorphy2-0.9.1-py3-none-any.whl (55kB)\n",
            "\u001b[K     |████████████████████████████████| 61kB 3.1MB/s \n",
            "\u001b[?25hCollecting dawg-python>=0.7.1\n",
            "  Downloading https://files.pythonhosted.org/packages/6a/84/ff1ce2071d4c650ec85745766c0047ccc3b5036f1d03559fd46bb38b5eeb/DAWG_Python-0.7.2-py2.py3-none-any.whl\n",
            "Requirement already satisfied: docopt>=0.6 in /usr/local/lib/python3.7/dist-packages (from pymorphy2) (0.6.2)\n",
            "Collecting pymorphy2-dicts-ru<3.0,>=2.4\n",
            "\u001b[?25l  Downloading https://files.pythonhosted.org/packages/3a/79/bea0021eeb7eeefde22ef9e96badf174068a2dd20264b9a378f2be1cdd9e/pymorphy2_dicts_ru-2.4.417127.4579844-py2.py3-none-any.whl (8.2MB)\n",
            "\u001b[K     |████████████████████████████████| 8.2MB 5.3MB/s \n",
            "\u001b[?25hInstalling collected packages: dawg-python, pymorphy2-dicts-ru, pymorphy2\n",
            "Successfully installed dawg-python-0.7.2 pymorphy2-0.9.1 pymorphy2-dicts-ru-2.4.417127.4579844\n"
          ],
          "name": "stdout"
        }
      ]
    },
    {
      "cell_type": "code",
      "metadata": {
        "id": "lLbq--ovKMYT"
      },
      "source": [
        "from pymorphy2 import MorphAnalyzer"
      ],
      "execution_count": 4,
      "outputs": []
    },
    {
      "cell_type": "code",
      "metadata": {
        "id": "u0G9EPNBmVcE"
      },
      "source": [
        "from sklearn.model_selection import train_test_split\n",
        "from sklearn.feature_extraction.text import CountVectorizer\n",
        "from sklearn.feature_extraction.text import TfidfVectorizer\n",
        "from sklearn.naive_bayes import MultinomialNB\n",
        "from sklearn.metrics import * "
      ],
      "execution_count": 5,
      "outputs": []
    },
    {
      "cell_type": "markdown",
      "metadata": {
        "id": "xFH19kInPTcY"
      },
      "source": [
        "# Читаем данные"
      ]
    },
    {
      "cell_type": "markdown",
      "metadata": {
        "id": "e8-UMG8NPerK"
      },
      "source": [
        "[Датасет с твитами на русском языке](http://study.mokoron.com/) с разметкой *positive/negative*."
      ]
    },
    {
      "cell_type": "markdown",
      "metadata": {
        "id": "iAFTFQgMP6JA"
      },
      "source": [
        "Читаем датафрейм с позитивными твитами, затем с негативными"
      ]
    },
    {
      "cell_type": "code",
      "metadata": {
        "id": "Y_d-y6fBBgHi"
      },
      "source": [
        "tweets_positive = pd.read_csv('/content/drive/MyDrive/Colab Notebooks/комп линг/tweets sentiment dataset/positive.csv',\n",
        "                              sep=';', header=None, \n",
        "                              names=['id', 'date', 'author', 'text', 'type', 'replies', 'added_to_faves', 'author_tweets_count', 'retweets', 'followers','followed', 'lists'])"
      ],
      "execution_count": 6,
      "outputs": []
    },
    {
      "cell_type": "code",
      "metadata": {
        "colab": {
          "base_uri": "https://localhost:8080/"
        },
        "id": "nCmBEaQLEVll",
        "outputId": "4cce64f3-dc86-40b5-f7fa-333326a14a2b"
      },
      "source": [
        "print(tweets_positive.shape)\n",
        "tweets_positive['type'].unique()"
      ],
      "execution_count": 7,
      "outputs": [
        {
          "output_type": "stream",
          "text": [
            "(114911, 12)\n"
          ],
          "name": "stdout"
        },
        {
          "output_type": "execute_result",
          "data": {
            "text/plain": [
              "array([1])"
            ]
          },
          "metadata": {
            "tags": []
          },
          "execution_count": 7
        }
      ]
    },
    {
      "cell_type": "code",
      "metadata": {
        "id": "zGOriqSoDb--"
      },
      "source": [
        "tweets_negative = pd.read_csv('/content/drive/MyDrive/Colab Notebooks/комп линг/tweets sentiment dataset/negative.csv',\n",
        "                              sep=';', header=None, \n",
        "                              names=['id', 'date', 'author', 'text', 'type', 'replies', 'added_to_faves', 'author_tweets_count', 'retweets', 'followers','followed', 'lists'])"
      ],
      "execution_count": 8,
      "outputs": []
    },
    {
      "cell_type": "code",
      "metadata": {
        "colab": {
          "base_uri": "https://localhost:8080/"
        },
        "id": "QRdyAqDiEc_b",
        "outputId": "30d42d72-dff1-426a-a110-4a0d0b458502"
      },
      "source": [
        "print(tweets_negative.shape)\n",
        "tweets_negative['type'].unique()"
      ],
      "execution_count": 9,
      "outputs": [
        {
          "output_type": "stream",
          "text": [
            "(111923, 12)\n"
          ],
          "name": "stdout"
        },
        {
          "output_type": "execute_result",
          "data": {
            "text/plain": [
              "array([-1])"
            ]
          },
          "metadata": {
            "tags": []
          },
          "execution_count": 9
        }
      ]
    },
    {
      "cell_type": "markdown",
      "metadata": {
        "id": "cX7lrrgQcfYn"
      },
      "source": [
        "Датасеты очень большие (около 100 000 строк каждый), поэтому возьмем часть данных - по 25 000 твитов с позитивной и негативной меткой"
      ]
    },
    {
      "cell_type": "code",
      "metadata": {
        "id": "UWixNjNEDP6D"
      },
      "source": [
        "# tweets = tweets_positive.head(25000).append(tweets_negative.head(25000))\n",
        "tweets = tweets_positive.append(tweets_negative)"
      ],
      "execution_count": 72,
      "outputs": []
    },
    {
      "cell_type": "code",
      "metadata": {
        "colab": {
          "base_uri": "https://localhost:8080/"
        },
        "id": "jrUtAwYBEhok",
        "outputId": "df2cc156-023d-49d3-f43d-6e31de15bf79"
      },
      "source": [
        "print(tweets.shape)\n",
        "tweets['type'].unique()"
      ],
      "execution_count": 73,
      "outputs": [
        {
          "output_type": "stream",
          "text": [
            "(226834, 12)\n"
          ],
          "name": "stdout"
        },
        {
          "output_type": "execute_result",
          "data": {
            "text/plain": [
              "array([ 1, -1])"
            ]
          },
          "metadata": {
            "tags": []
          },
          "execution_count": 73
        }
      ]
    },
    {
      "cell_type": "markdown",
      "metadata": {
        "id": "algMCr29QQkN"
      },
      "source": [
        "Оставляем только столбцы *text* (текст твита) и *type* (индикатор разметки) - с ними будем работать."
      ]
    },
    {
      "cell_type": "code",
      "metadata": {
        "colab": {
          "base_uri": "https://localhost:8080/",
          "height": 203
        },
        "id": "JOumkCdyE-9a",
        "outputId": "bed95a6a-78d8-4542-cd2c-e8d85cb5a8bb"
      },
      "source": [
        "df = tweets[['text', 'type']]\n",
        "df.head()"
      ],
      "execution_count": 74,
      "outputs": [
        {
          "output_type": "execute_result",
          "data": {
            "text/html": [
              "<div>\n",
              "<style scoped>\n",
              "    .dataframe tbody tr th:only-of-type {\n",
              "        vertical-align: middle;\n",
              "    }\n",
              "\n",
              "    .dataframe tbody tr th {\n",
              "        vertical-align: top;\n",
              "    }\n",
              "\n",
              "    .dataframe thead th {\n",
              "        text-align: right;\n",
              "    }\n",
              "</style>\n",
              "<table border=\"1\" class=\"dataframe\">\n",
              "  <thead>\n",
              "    <tr style=\"text-align: right;\">\n",
              "      <th></th>\n",
              "      <th>text</th>\n",
              "      <th>type</th>\n",
              "    </tr>\n",
              "  </thead>\n",
              "  <tbody>\n",
              "    <tr>\n",
              "      <th>0</th>\n",
              "      <td>@first_timee хоть я и школота, но поверь, у на...</td>\n",
              "      <td>1</td>\n",
              "    </tr>\n",
              "    <tr>\n",
              "      <th>1</th>\n",
              "      <td>Да, все-таки он немного похож на него. Но мой ...</td>\n",
              "      <td>1</td>\n",
              "    </tr>\n",
              "    <tr>\n",
              "      <th>2</th>\n",
              "      <td>RT @KatiaCheh: Ну ты идиотка) я испугалась за ...</td>\n",
              "      <td>1</td>\n",
              "    </tr>\n",
              "    <tr>\n",
              "      <th>3</th>\n",
              "      <td>RT @digger2912: \"Кто то в углу сидит и погибае...</td>\n",
              "      <td>1</td>\n",
              "    </tr>\n",
              "    <tr>\n",
              "      <th>4</th>\n",
              "      <td>@irina_dyshkant Вот что значит страшилка :D\\nН...</td>\n",
              "      <td>1</td>\n",
              "    </tr>\n",
              "  </tbody>\n",
              "</table>\n",
              "</div>"
            ],
            "text/plain": [
              "                                                text  type\n",
              "0  @first_timee хоть я и школота, но поверь, у на...     1\n",
              "1  Да, все-таки он немного похож на него. Но мой ...     1\n",
              "2  RT @KatiaCheh: Ну ты идиотка) я испугалась за ...     1\n",
              "3  RT @digger2912: \"Кто то в углу сидит и погибае...     1\n",
              "4  @irina_dyshkant Вот что значит страшилка :D\\nН...     1"
            ]
          },
          "metadata": {
            "tags": []
          },
          "execution_count": 74
        }
      ]
    },
    {
      "cell_type": "code",
      "metadata": {
        "id": "Ibd7Nq3dPN0J"
      },
      "source": [
        "df.to_csv('tweets_dataset.csv')"
      ],
      "execution_count": 13,
      "outputs": []
    },
    {
      "cell_type": "markdown",
      "metadata": {
        "id": "hvksUhfpQjRh"
      },
      "source": [
        "# Предобработка"
      ]
    },
    {
      "cell_type": "markdown",
      "metadata": {
        "id": "g0f9L1SJQhka"
      },
      "source": [
        "Очищаем от тегов других пользователей и лишних пробельных символов."
      ]
    },
    {
      "cell_type": "code",
      "metadata": {
        "colab": {
          "base_uri": "https://localhost:8080/",
          "height": 291
        },
        "id": "G04rnLGjF633",
        "outputId": "64fe8387-99eb-4373-9ee9-ebe2bdea009b"
      },
      "source": [
        "df['text'].replace('(RT )?@[\\w]*:?','', regex=True, inplace = True)\n",
        "df['text'].replace('\\s',' ', regex=True, inplace = True)\n",
        "df.head()"
      ],
      "execution_count": 75,
      "outputs": [
        {
          "output_type": "stream",
          "text": [
            "/usr/local/lib/python3.7/dist-packages/pandas/core/series.py:4582: SettingWithCopyWarning: \n",
            "A value is trying to be set on a copy of a slice from a DataFrame\n",
            "\n",
            "See the caveats in the documentation: https://pandas.pydata.org/pandas-docs/stable/user_guide/indexing.html#returning-a-view-versus-a-copy\n",
            "  method=method,\n"
          ],
          "name": "stderr"
        },
        {
          "output_type": "execute_result",
          "data": {
            "text/html": [
              "<div>\n",
              "<style scoped>\n",
              "    .dataframe tbody tr th:only-of-type {\n",
              "        vertical-align: middle;\n",
              "    }\n",
              "\n",
              "    .dataframe tbody tr th {\n",
              "        vertical-align: top;\n",
              "    }\n",
              "\n",
              "    .dataframe thead th {\n",
              "        text-align: right;\n",
              "    }\n",
              "</style>\n",
              "<table border=\"1\" class=\"dataframe\">\n",
              "  <thead>\n",
              "    <tr style=\"text-align: right;\">\n",
              "      <th></th>\n",
              "      <th>text</th>\n",
              "      <th>type</th>\n",
              "    </tr>\n",
              "  </thead>\n",
              "  <tbody>\n",
              "    <tr>\n",
              "      <th>0</th>\n",
              "      <td>хоть я и школота, но поверь, у нас то же само...</td>\n",
              "      <td>1</td>\n",
              "    </tr>\n",
              "    <tr>\n",
              "      <th>1</th>\n",
              "      <td>Да, все-таки он немного похож на него. Но мой ...</td>\n",
              "      <td>1</td>\n",
              "    </tr>\n",
              "    <tr>\n",
              "      <th>2</th>\n",
              "      <td>Ну ты идиотка) я испугалась за тебя!!!</td>\n",
              "      <td>1</td>\n",
              "    </tr>\n",
              "    <tr>\n",
              "      <th>3</th>\n",
              "      <td>\"Кто то в углу сидит и погибает от голода, а ...</td>\n",
              "      <td>1</td>\n",
              "    </tr>\n",
              "    <tr>\n",
              "      <th>4</th>\n",
              "      <td>Вот что значит страшилка :D Но блин,посмотрев...</td>\n",
              "      <td>1</td>\n",
              "    </tr>\n",
              "  </tbody>\n",
              "</table>\n",
              "</div>"
            ],
            "text/plain": [
              "                                                text  type\n",
              "0   хоть я и школота, но поверь, у нас то же само...     1\n",
              "1  Да, все-таки он немного похож на него. Но мой ...     1\n",
              "2             Ну ты идиотка) я испугалась за тебя!!!     1\n",
              "3   \"Кто то в углу сидит и погибает от голода, а ...     1\n",
              "4   Вот что значит страшилка :D Но блин,посмотрев...     1"
            ]
          },
          "metadata": {
            "tags": []
          },
          "execution_count": 75
        }
      ]
    },
    {
      "cell_type": "code",
      "metadata": {
        "colab": {
          "base_uri": "https://localhost:8080/"
        },
        "id": "NK0UIejcGJw5",
        "outputId": "6c06ba00-442c-416d-a4fb-c249c6f814cc"
      },
      "source": [
        "corpus = df['text'].to_list()\n",
        "corpus[:5]"
      ],
      "execution_count": 76,
      "outputs": [
        {
          "output_type": "execute_result",
          "data": {
            "text/plain": [
              "[' хоть я и школота, но поверь, у нас то же самое :D общество профилирующий предмет типа)',\n",
              " 'Да, все-таки он немного похож на него. Но мой мальчик все равно лучше:D',\n",
              " ' Ну ты идиотка) я испугалась за тебя!!!',\n",
              " ' \"Кто то в углу сидит и погибает от голода, а мы ещё 2 порции взяли, хотя уже и так жрать не хотим\" :DD http://t.co/GqG6iuE2…',\n",
              " ' Вот что значит страшилка :D Но блин,посмотрев все части,у тебя создастся ощущение,что авторы курили что-то :D']"
            ]
          },
          "metadata": {
            "tags": []
          },
          "execution_count": 76
        }
      ]
    },
    {
      "cell_type": "markdown",
      "metadata": {
        "id": "BjioGK2oQm2W"
      },
      "source": [
        "Токенизация, приведение к нижнему регистру и удаление знаков препинания"
      ]
    },
    {
      "cell_type": "code",
      "metadata": {
        "id": "xVqgya6xJGHU"
      },
      "source": [
        "punct_marks = string.punctuation + \"—\" + \"«\" + \"»\" + \"`\" + \"``\""
      ],
      "execution_count": 16,
      "outputs": []
    },
    {
      "cell_type": "code",
      "metadata": {
        "colab": {
          "base_uri": "https://localhost:8080/"
        },
        "id": "RRddeJYOIDPI",
        "outputId": "36b62756-ea1a-4333-a40f-4d7f8f37b9ee"
      },
      "source": [
        "for i in range(len(corpus)):\n",
        "  doc = corpus[i]\n",
        "  doc = word_tokenize(doc)\n",
        "  doc = [word.lower() for word in doc if word not in punct_marks]\n",
        "  corpus[i] = doc\n",
        "\n",
        "corpus[0]"
      ],
      "execution_count": 77,
      "outputs": [
        {
          "output_type": "execute_result",
          "data": {
            "text/plain": [
              "['хоть',\n",
              " 'я',\n",
              " 'и',\n",
              " 'школота',\n",
              " 'но',\n",
              " 'поверь',\n",
              " 'у',\n",
              " 'нас',\n",
              " 'то',\n",
              " 'же',\n",
              " 'самое',\n",
              " 'd',\n",
              " 'общество',\n",
              " 'профилирующий',\n",
              " 'предмет',\n",
              " 'типа']"
            ]
          },
          "metadata": {
            "tags": []
          },
          "execution_count": 77
        }
      ]
    },
    {
      "cell_type": "markdown",
      "metadata": {
        "id": "QqvLiCFiQuz9"
      },
      "source": [
        "Лемматизация и удаление стоп-слов: \n",
        "* предлогов\n",
        "* союзов\n",
        "* частиц\n",
        "* междометий \n",
        "* местоимений"
      ]
    },
    {
      "cell_type": "code",
      "metadata": {
        "id": "Ug1LecacKYD-"
      },
      "source": [
        "morph = MorphAnalyzer()"
      ],
      "execution_count": 18,
      "outputs": []
    },
    {
      "cell_type": "code",
      "metadata": {
        "id": "q9eepK2GKBv7"
      },
      "source": [
        "corpus_lemmatized = []\n",
        "\n",
        "for i in range(len(corpus)):\n",
        "  doc = corpus[i]\n",
        "  doc_lemmatized = []\n",
        "  for word in doc:\n",
        "    p = morph.parse(word)[0]\n",
        "    if p.tag.POS is None or \\\n",
        "      p.tag.POS in ('PREP', 'CONJ', 'PRCL', 'INTJ', 'NPRO') or \\\n",
        "      'Anph' in p.tag or 'Apro' in p.tag:\n",
        "      continue\n",
        "    doc_lemmatized.append(p.normal_form)\n",
        "  corpus_lemmatized.append(doc_lemmatized)"
      ],
      "execution_count": 78,
      "outputs": []
    },
    {
      "cell_type": "code",
      "metadata": {
        "colab": {
          "base_uri": "https://localhost:8080/"
        },
        "id": "SK_3RSFpL5tN",
        "outputId": "8fdbacaf-4574-4d27-f1ea-efa73a94c5c0"
      },
      "source": [
        "corpus_lemmatized[:5]"
      ],
      "execution_count": 79,
      "outputs": [
        {
          "output_type": "execute_result",
          "data": {
            "text/plain": [
              "[['школотый', 'общество', 'профилировать', 'предмет', 'тип'],\n",
              " ['немного', 'похожий', 'мальчик', 'хороший'],\n",
              " ['идиотка', 'испугаться'],\n",
              " ['угол',\n",
              "  'сидеть',\n",
              "  'погибать',\n",
              "  'голод',\n",
              "  'ещё',\n",
              "  'порция',\n",
              "  'взять',\n",
              "  'уже',\n",
              "  'жрать',\n",
              "  'хотеть'],\n",
              " ['страшилка',\n",
              "  'посмотреть',\n",
              "  'часть',\n",
              "  'создаться',\n",
              "  'ощущение',\n",
              "  'автор',\n",
              "  'курить',\n",
              "  'что-то']]"
            ]
          },
          "metadata": {
            "tags": []
          },
          "execution_count": 79
        }
      ]
    },
    {
      "cell_type": "markdown",
      "metadata": {
        "id": "R1Xf8MSPnGNz"
      },
      "source": [
        "Сохраним лемматизированные документы в виде строк, чтобы их мог принять векторизатор"
      ]
    },
    {
      "cell_type": "code",
      "metadata": {
        "colab": {
          "base_uri": "https://localhost:8080/",
          "height": 35
        },
        "id": "M3mPCpCvnOus",
        "outputId": "48af2f15-0886-4a66-c36e-5319d8eb4c96"
      },
      "source": [
        "X = [' '.join(text) for text in corpus_lemmatized]\n",
        "X[0]"
      ],
      "execution_count": 80,
      "outputs": [
        {
          "output_type": "execute_result",
          "data": {
            "application/vnd.google.colaboratory.intrinsic+json": {
              "type": "string"
            },
            "text/plain": [
              "'школотый общество профилировать предмет тип'"
            ]
          },
          "metadata": {
            "tags": []
          },
          "execution_count": 80
        }
      ]
    },
    {
      "cell_type": "markdown",
      "metadata": {
        "id": "C7ygeKcanCX4"
      },
      "source": [
        "Разделим выборку на обучающую и тестовую"
      ]
    },
    {
      "cell_type": "code",
      "metadata": {
        "id": "T7qoijDmj6D7"
      },
      "source": [
        "y = df['type']"
      ],
      "execution_count": 81,
      "outputs": []
    },
    {
      "cell_type": "code",
      "metadata": {
        "id": "sp_zAMvQnXNB"
      },
      "source": [
        "X_train, X_test, y_train, y_test = train_test_split(X, y, test_size=0.25)"
      ],
      "execution_count": 82,
      "outputs": []
    },
    {
      "cell_type": "markdown",
      "metadata": {
        "id": "iW82WJrAmRBH"
      },
      "source": [
        "# Мешок слов"
      ]
    },
    {
      "cell_type": "markdown",
      "metadata": {
        "id": "LDJb0fhNoCoZ"
      },
      "source": [
        "Векторизуем тренировочные и тестовые данные"
      ]
    },
    {
      "cell_type": "code",
      "metadata": {
        "id": "kAh7-9p_mZze"
      },
      "source": [
        "vectorizer = CountVectorizer(ngram_range=(1, 3))"
      ],
      "execution_count": 25,
      "outputs": []
    },
    {
      "cell_type": "code",
      "metadata": {
        "colab": {
          "base_uri": "https://localhost:8080/"
        },
        "id": "9AUpZwLmmg9x",
        "outputId": "fa0f767c-4573-4821-fe02-b238c9fd1d58"
      },
      "source": [
        "X_train_vectorized = vectorizer.fit_transform(X_train)\n",
        "list(vectorizer.vocabulary_.items())[:10]"
      ],
      "execution_count": 26,
      "outputs": [
        {
          "output_type": "execute_result",
          "data": {
            "text/plain": [
              "[('завтра', 338865),\n",
              " ('очень', 715197),\n",
              " ('хороший', 1245491),\n",
              " ('день', 242975),\n",
              " ('писать', 751668),\n",
              " ('по', 764416),\n",
              " ('история', 407841),\n",
              " ('билет', 50434),\n",
              " ('биология', 51282),\n",
              " ('завтра очень', 340895)]"
            ]
          },
          "metadata": {
            "tags": []
          },
          "execution_count": 26
        }
      ]
    },
    {
      "cell_type": "markdown",
      "metadata": {
        "id": "6HrZOgC-lIBy"
      },
      "source": [
        "Обучим модель и выведем матрицу с оценками качества классификации"
      ]
    },
    {
      "cell_type": "code",
      "metadata": {
        "colab": {
          "base_uri": "https://localhost:8080/"
        },
        "id": "vAoaAQ1QjCms",
        "outputId": "19311634-04a8-4785-8b84-5b5c2bf62ed5"
      },
      "source": [
        "clf = MultinomialNB()\n",
        "clf.fit(X_train_vectorized, y_train)"
      ],
      "execution_count": 27,
      "outputs": [
        {
          "output_type": "execute_result",
          "data": {
            "text/plain": [
              "MultinomialNB(alpha=1.0, class_prior=None, fit_prior=True)"
            ]
          },
          "metadata": {
            "tags": []
          },
          "execution_count": 27
        }
      ]
    },
    {
      "cell_type": "code",
      "metadata": {
        "colab": {
          "base_uri": "https://localhost:8080/"
        },
        "id": "wJS7j_K0kjde",
        "outputId": "04bac380-e18e-4009-a066-10560c520531"
      },
      "source": [
        "X_test_vectorized = vectorizer.transform(X_test)\n",
        "y_pred = clf.predict(X_test_vectorized)\n",
        "print(classification_report(y_test, y_pred))"
      ],
      "execution_count": 28,
      "outputs": [
        {
          "output_type": "stream",
          "text": [
            "              precision    recall  f1-score   support\n",
            "\n",
            "          -1       0.72      0.73      0.72     28000\n",
            "           1       0.73      0.73      0.73     28709\n",
            "\n",
            "    accuracy                           0.73     56709\n",
            "   macro avg       0.73      0.73      0.73     56709\n",
            "weighted avg       0.73      0.73      0.73     56709\n",
            "\n"
          ],
          "name": "stdout"
        }
      ]
    },
    {
      "cell_type": "markdown",
      "metadata": {
        "id": "mFTJ41zM9z6a"
      },
      "source": [
        "Обучим несколько моделей с разным диапазоном n и сохраним значения метрик качества в датафрейм"
      ]
    },
    {
      "cell_type": "code",
      "metadata": {
        "id": "0EdUYZKsjWSQ"
      },
      "source": [
        "eval_data = {'vectorizer': [], 'n_range': [], \n",
        "             'min_df': [], 'max_df': [],\n",
        "             'precision': [], 'recall': [],\n",
        "             'accuracy': [], 'f_measure': []}"
      ],
      "execution_count": 58,
      "outputs": []
    },
    {
      "cell_type": "code",
      "metadata": {
        "id": "Jk_fWdQWNPEc"
      },
      "source": [
        "n_ranges = [(1, 1), (1, 3), (1, 4), (1, 5), (1, 6)]"
      ],
      "execution_count": 54,
      "outputs": []
    },
    {
      "cell_type": "code",
      "metadata": {
        "id": "A6jPcNkXOo8i"
      },
      "source": [
        "max_df_list = [0.6, 0.75, 0.95, 0.98]\n",
        "min_df_list = [1, 2, 3, 4]"
      ],
      "execution_count": 55,
      "outputs": []
    },
    {
      "cell_type": "code",
      "metadata": {
        "id": "GuT7Ljk4qDnw"
      },
      "source": [
        "for n_range in n_ranges:\n",
        "  for max_df in max_df_list:\n",
        "    for min_df in min_df_list:\n",
        "      vectorizer = CountVectorizer(ngram_range=n_range, \n",
        "                                   min_df=min_df, max_df=max_df)\n",
        "      X_train_vectorized = vectorizer.fit_transform(X_train)\n",
        "\n",
        "      clf.fit(X_train_vectorized, y_train)\n",
        "\n",
        "      X_test_vectorized = vectorizer.transform(X_test)\n",
        "      y_pred = clf.predict(X_test_vectorized)\n",
        "\n",
        "      precision = precision_score(y_test, y_pred)\n",
        "      recall = recall_score(y_test, y_pred)\n",
        "      accuracy = accuracy_score(y_test, y_pred)\n",
        "      f_measure = f1_score(y_test, y_pred)\n",
        "\n",
        "      eval_data['vectorizer'].append('ngrams')\n",
        "      eval_data['n_range'].append(n_range)\n",
        "      eval_data['min_df'].append(min_df)\n",
        "      eval_data['max_df'].append(max_df)\n",
        "      eval_data['precision'].append(precision)\n",
        "      eval_data['recall'].append(recall)\n",
        "      eval_data['accuracy'].append(accuracy)\n",
        "      eval_data['f_measure'].append(f_measure)"
      ],
      "execution_count": 59,
      "outputs": []
    },
    {
      "cell_type": "markdown",
      "metadata": {
        "id": "yXpzCrBIbusu"
      },
      "source": [
        "# Tf-Idf векторизация"
      ]
    },
    {
      "cell_type": "markdown",
      "metadata": {
        "id": "vnkRrs9ybzLw"
      },
      "source": [
        "Повторим то же самое с использованием Tf-Idf векторизации"
      ]
    },
    {
      "cell_type": "code",
      "metadata": {
        "id": "ZVnTYIA1b-g8"
      },
      "source": [
        "for n_range in n_ranges:\n",
        "  for max_df in max_df_list:\n",
        "    for min_df in min_df_list:\n",
        "      tfidf_vectorizer = TfidfVectorizer(ngram_range=n_range, max_df = max_df, min_df = min_df)\n",
        "      X_train_vectorized = tfidf_vectorizer.fit_transform(X_train)\n",
        "\n",
        "      clf = MultinomialNB()\n",
        "      clf.fit(X_train_vectorized, y_train)\n",
        "\n",
        "      X_test_vectorized = tfidf_vectorizer.transform(X_test)\n",
        "      y_pred = clf.predict(X_test_vectorized)\n",
        "\n",
        "      precision = precision_score(y_test, y_pred)\n",
        "      recall = recall_score(y_test, y_pred)\n",
        "      accuracy = accuracy_score(y_test, y_pred)\n",
        "      f_measure = f1_score(y_test, y_pred)\n",
        "\n",
        "      eval_data['vectorizer'].append('tf-idf')\n",
        "      eval_data['n_range'].append(n_range)\n",
        "      eval_data['min_df'].append(min_df)\n",
        "      eval_data['max_df'].append(max_df)\n",
        "      eval_data['precision'].append(precision)\n",
        "      eval_data['recall'].append(recall)\n",
        "      eval_data['accuracy'].append(accuracy)\n",
        "      eval_data['f_measure'].append(f_measure)"
      ],
      "execution_count": 60,
      "outputs": []
    },
    {
      "cell_type": "markdown",
      "metadata": {
        "id": "GhTdBqqIHGtf"
      },
      "source": [
        "# Мешок символьных n-грамм"
      ]
    },
    {
      "cell_type": "markdown",
      "metadata": {
        "id": "yZr_mGH1Hf84"
      },
      "source": [
        "Аналогичным образом обучим модель с использованием символьных n-грамм"
      ]
    },
    {
      "cell_type": "code",
      "metadata": {
        "id": "iqE4ekJpOeQ1"
      },
      "source": [
        "n_ranges = [(2, 6), (2, 7), (2, 8), (2, 9), (2, 10), (2, 11)]"
      ],
      "execution_count": 61,
      "outputs": []
    },
    {
      "cell_type": "code",
      "metadata": {
        "id": "cWiAoz9mQEEt"
      },
      "source": [
        "max_df_list = [0.6, 0.75, 0.95, 0.98]\n",
        "min_df_list = [1, 2, 3, 4, 5]"
      ],
      "execution_count": 63,
      "outputs": []
    },
    {
      "cell_type": "code",
      "metadata": {
        "id": "W3B8J3VtHQwX"
      },
      "source": [
        "for n_range in n_ranges:\n",
        "  for max_df in max_df_list:\n",
        "    for min_df in min_df_list:\n",
        "      char_vectorizer = CountVectorizer(analyzer='char', ngram_range=n_range, min_df=min_df, max_df=max_df)\n",
        "      X_train_vectorized = char_vectorizer.fit_transform(X_train)\n",
        "\n",
        "      clf = MultinomialNB()\n",
        "      clf.fit(X_train_vectorized, y_train)\n",
        "\n",
        "      X_test_vectorized = char_vectorizer.transform(X_test)\n",
        "      y_pred = clf.predict(X_test_vectorized)\n",
        "\n",
        "      precision = precision_score(y_test, y_pred)\n",
        "      recall = recall_score(y_test, y_pred)\n",
        "      accuracy = accuracy_score(y_test, y_pred)\n",
        "      f_measure = f1_score(y_test, y_pred)\n",
        "\n",
        "      eval_data['vectorizer'].append('nchars')\n",
        "      eval_data['n_range'].append(n_range)\n",
        "      eval_data['min_df'].append(min_df)\n",
        "      eval_data['max_df'].append(max_df)\n",
        "      eval_data['precision'].append(precision)\n",
        "      eval_data['recall'].append(recall)\n",
        "      eval_data['accuracy'].append(accuracy)\n",
        "      eval_data['f_measure'].append(f_measure)"
      ],
      "execution_count": 64,
      "outputs": []
    },
    {
      "cell_type": "markdown",
      "metadata": {
        "id": "r9kZElSvmsCA"
      },
      "source": [
        "# Сравнение метрик качества"
      ]
    },
    {
      "cell_type": "markdown",
      "metadata": {
        "id": "TEvgP41BmwkL"
      },
      "source": [
        "Сохраним значения метрик качества в виде датафрейма"
      ]
    },
    {
      "cell_type": "code",
      "metadata": {
        "id": "QQfaapUtmp36"
      },
      "source": [
        "eval_data = pd.DataFrame(eval_data)"
      ],
      "execution_count": null,
      "outputs": []
    },
    {
      "cell_type": "code",
      "metadata": {
        "colab": {
          "base_uri": "https://localhost:8080/",
          "height": 417
        },
        "id": "lojh1D-4f109",
        "outputId": "0236f96b-5f6a-48d3-ad8e-6e38c3da03cd"
      },
      "source": [
        "eval_data"
      ],
      "execution_count": 94,
      "outputs": [
        {
          "output_type": "execute_result",
          "data": {
            "text/html": [
              "<div>\n",
              "<style scoped>\n",
              "    .dataframe tbody tr th:only-of-type {\n",
              "        vertical-align: middle;\n",
              "    }\n",
              "\n",
              "    .dataframe tbody tr th {\n",
              "        vertical-align: top;\n",
              "    }\n",
              "\n",
              "    .dataframe thead th {\n",
              "        text-align: right;\n",
              "    }\n",
              "</style>\n",
              "<table border=\"1\" class=\"dataframe\">\n",
              "  <thead>\n",
              "    <tr style=\"text-align: right;\">\n",
              "      <th></th>\n",
              "      <th>vectorizer</th>\n",
              "      <th>n_range</th>\n",
              "      <th>min_df</th>\n",
              "      <th>max_df</th>\n",
              "      <th>precision</th>\n",
              "      <th>recall</th>\n",
              "      <th>accuracy</th>\n",
              "      <th>f_measure</th>\n",
              "    </tr>\n",
              "  </thead>\n",
              "  <tbody>\n",
              "    <tr>\n",
              "      <th>0</th>\n",
              "      <td>ngrams</td>\n",
              "      <td>(1, 1)</td>\n",
              "      <td>1</td>\n",
              "      <td>0.60</td>\n",
              "      <td>0.704115</td>\n",
              "      <td>0.686903</td>\n",
              "      <td>0.70264</td>\n",
              "      <td>0.695403</td>\n",
              "    </tr>\n",
              "    <tr>\n",
              "      <th>1</th>\n",
              "      <td>ngrams</td>\n",
              "      <td>(1, 1)</td>\n",
              "      <td>2</td>\n",
              "      <td>0.60</td>\n",
              "      <td>0.695191</td>\n",
              "      <td>0.699692</td>\n",
              "      <td>0.70000</td>\n",
              "      <td>0.697434</td>\n",
              "    </tr>\n",
              "    <tr>\n",
              "      <th>2</th>\n",
              "      <td>ngrams</td>\n",
              "      <td>(1, 1)</td>\n",
              "      <td>3</td>\n",
              "      <td>0.60</td>\n",
              "      <td>0.691975</td>\n",
              "      <td>0.699369</td>\n",
              "      <td>0.69760</td>\n",
              "      <td>0.695652</td>\n",
              "    </tr>\n",
              "    <tr>\n",
              "      <th>3</th>\n",
              "      <td>ngrams</td>\n",
              "      <td>(1, 1)</td>\n",
              "      <td>4</td>\n",
              "      <td>0.60</td>\n",
              "      <td>0.687841</td>\n",
              "      <td>0.694188</td>\n",
              "      <td>0.69320</td>\n",
              "      <td>0.691000</td>\n",
              "    </tr>\n",
              "    <tr>\n",
              "      <th>4</th>\n",
              "      <td>ngrams</td>\n",
              "      <td>(1, 1)</td>\n",
              "      <td>1</td>\n",
              "      <td>0.75</td>\n",
              "      <td>0.704115</td>\n",
              "      <td>0.686903</td>\n",
              "      <td>0.70264</td>\n",
              "      <td>0.695403</td>\n",
              "    </tr>\n",
              "    <tr>\n",
              "      <th>...</th>\n",
              "      <td>...</td>\n",
              "      <td>...</td>\n",
              "      <td>...</td>\n",
              "      <td>...</td>\n",
              "      <td>...</td>\n",
              "      <td>...</td>\n",
              "      <td>...</td>\n",
              "      <td>...</td>\n",
              "    </tr>\n",
              "    <tr>\n",
              "      <th>275</th>\n",
              "      <td>nchars</td>\n",
              "      <td>(2, 11)</td>\n",
              "      <td>1</td>\n",
              "      <td>0.98</td>\n",
              "      <td>0.698138</td>\n",
              "      <td>0.685932</td>\n",
              "      <td>0.69824</td>\n",
              "      <td>0.691981</td>\n",
              "    </tr>\n",
              "    <tr>\n",
              "      <th>276</th>\n",
              "      <td>nchars</td>\n",
              "      <td>(2, 11)</td>\n",
              "      <td>2</td>\n",
              "      <td>0.98</td>\n",
              "      <td>0.681157</td>\n",
              "      <td>0.728023</td>\n",
              "      <td>0.69720</td>\n",
              "      <td>0.703811</td>\n",
              "    </tr>\n",
              "    <tr>\n",
              "      <th>277</th>\n",
              "      <td>nchars</td>\n",
              "      <td>(2, 11)</td>\n",
              "      <td>3</td>\n",
              "      <td>0.98</td>\n",
              "      <td>0.679286</td>\n",
              "      <td>0.714586</td>\n",
              "      <td>0.69224</td>\n",
              "      <td>0.696489</td>\n",
              "    </tr>\n",
              "    <tr>\n",
              "      <th>278</th>\n",
              "      <td>nchars</td>\n",
              "      <td>(2, 11)</td>\n",
              "      <td>4</td>\n",
              "      <td>0.98</td>\n",
              "      <td>0.682931</td>\n",
              "      <td>0.700178</td>\n",
              "      <td>0.69120</td>\n",
              "      <td>0.691447</td>\n",
              "    </tr>\n",
              "    <tr>\n",
              "      <th>279</th>\n",
              "      <td>nchars</td>\n",
              "      <td>(2, 11)</td>\n",
              "      <td>5</td>\n",
              "      <td>0.98</td>\n",
              "      <td>0.683706</td>\n",
              "      <td>0.692893</td>\n",
              "      <td>0.68984</td>\n",
              "      <td>0.688269</td>\n",
              "    </tr>\n",
              "  </tbody>\n",
              "</table>\n",
              "<p>280 rows × 8 columns</p>\n",
              "</div>"
            ],
            "text/plain": [
              "    vectorizer  n_range  min_df  ...    recall  accuracy  f_measure\n",
              "0       ngrams   (1, 1)       1  ...  0.686903   0.70264   0.695403\n",
              "1       ngrams   (1, 1)       2  ...  0.699692   0.70000   0.697434\n",
              "2       ngrams   (1, 1)       3  ...  0.699369   0.69760   0.695652\n",
              "3       ngrams   (1, 1)       4  ...  0.694188   0.69320   0.691000\n",
              "4       ngrams   (1, 1)       1  ...  0.686903   0.70264   0.695403\n",
              "..         ...      ...     ...  ...       ...       ...        ...\n",
              "275     nchars  (2, 11)       1  ...  0.685932   0.69824   0.691981\n",
              "276     nchars  (2, 11)       2  ...  0.728023   0.69720   0.703811\n",
              "277     nchars  (2, 11)       3  ...  0.714586   0.69224   0.696489\n",
              "278     nchars  (2, 11)       4  ...  0.700178   0.69120   0.691447\n",
              "279     nchars  (2, 11)       5  ...  0.692893   0.68984   0.688269\n",
              "\n",
              "[280 rows x 8 columns]"
            ]
          },
          "metadata": {
            "tags": []
          },
          "execution_count": 94
        }
      ]
    },
    {
      "cell_type": "markdown",
      "metadata": {
        "id": "BlvhLUpsm3fT"
      },
      "source": [
        "Выведем три лучших векторизатора по **F-мере**.  \n",
        "Это оказались векторизаторы с параметрами:\n",
        "* **мешок n-грамм**\n",
        "* **n = (1, 6)**\n",
        "* **min_df = 2**  \n",
        "\n",
        "Значение **max_df**, по-видимому, не влияет на результат.  "
      ]
    },
    {
      "cell_type": "code",
      "metadata": {
        "colab": {
          "base_uri": "https://localhost:8080/",
          "height": 141
        },
        "id": "tEI36jPWjcWZ",
        "outputId": "bab3ed38-8b02-48fb-afac-6ca107369be8"
      },
      "source": [
        "eval_data.sort_values(by='f_measure', ascending=False).iloc[:3]"
      ],
      "execution_count": 66,
      "outputs": [
        {
          "output_type": "execute_result",
          "data": {
            "text/html": [
              "<div>\n",
              "<style scoped>\n",
              "    .dataframe tbody tr th:only-of-type {\n",
              "        vertical-align: middle;\n",
              "    }\n",
              "\n",
              "    .dataframe tbody tr th {\n",
              "        vertical-align: top;\n",
              "    }\n",
              "\n",
              "    .dataframe thead th {\n",
              "        text-align: right;\n",
              "    }\n",
              "</style>\n",
              "<table border=\"1\" class=\"dataframe\">\n",
              "  <thead>\n",
              "    <tr style=\"text-align: right;\">\n",
              "      <th></th>\n",
              "      <th>vectorizer</th>\n",
              "      <th>n_range</th>\n",
              "      <th>min_df</th>\n",
              "      <th>max_df</th>\n",
              "      <th>precision</th>\n",
              "      <th>recall</th>\n",
              "      <th>accuracy</th>\n",
              "      <th>f_measure</th>\n",
              "    </tr>\n",
              "  </thead>\n",
              "  <tbody>\n",
              "    <tr>\n",
              "      <th>73</th>\n",
              "      <td>ngrams</td>\n",
              "      <td>(1, 6)</td>\n",
              "      <td>2</td>\n",
              "      <td>0.95</td>\n",
              "      <td>0.666348</td>\n",
              "      <td>0.790837</td>\n",
              "      <td>0.70096</td>\n",
              "      <td>0.723275</td>\n",
              "    </tr>\n",
              "    <tr>\n",
              "      <th>65</th>\n",
              "      <td>ngrams</td>\n",
              "      <td>(1, 6)</td>\n",
              "      <td>2</td>\n",
              "      <td>0.60</td>\n",
              "      <td>0.666348</td>\n",
              "      <td>0.790837</td>\n",
              "      <td>0.70096</td>\n",
              "      <td>0.723275</td>\n",
              "    </tr>\n",
              "    <tr>\n",
              "      <th>77</th>\n",
              "      <td>ngrams</td>\n",
              "      <td>(1, 6)</td>\n",
              "      <td>2</td>\n",
              "      <td>0.98</td>\n",
              "      <td>0.666348</td>\n",
              "      <td>0.790837</td>\n",
              "      <td>0.70096</td>\n",
              "      <td>0.723275</td>\n",
              "    </tr>\n",
              "  </tbody>\n",
              "</table>\n",
              "</div>"
            ],
            "text/plain": [
              "   vectorizer n_range  min_df  max_df  precision    recall  accuracy  f_measure\n",
              "73     ngrams  (1, 6)       2    0.95   0.666348  0.790837   0.70096   0.723275\n",
              "65     ngrams  (1, 6)       2    0.60   0.666348  0.790837   0.70096   0.723275\n",
              "77     ngrams  (1, 6)       2    0.98   0.666348  0.790837   0.70096   0.723275"
            ]
          },
          "metadata": {
            "tags": []
          },
          "execution_count": 66
        }
      ]
    },
    {
      "cell_type": "markdown",
      "metadata": {
        "id": "8swNTFHonRCT"
      },
      "source": [
        "У векторизаторов наибольший recall, но относительно низкое значение precision.  \n",
        "Выведем три лучших векторизатора по **precision**: \n",
        "* **Tf-Idf** \n",
        "* **n = (1, 6)**\n",
        "* **min_df = 1**\n",
        "* max_df не влияет"
      ]
    },
    {
      "cell_type": "code",
      "metadata": {
        "colab": {
          "base_uri": "https://localhost:8080/",
          "height": 141
        },
        "id": "8xI3FvuhnLT9",
        "outputId": "d9411498-3bcf-45f4-9037-a687ac2ad979"
      },
      "source": [
        "eval_data.sort_values(by='precision', ascending=False).iloc[:3]"
      ],
      "execution_count": 67,
      "outputs": [
        {
          "output_type": "execute_result",
          "data": {
            "text/html": [
              "<div>\n",
              "<style scoped>\n",
              "    .dataframe tbody tr th:only-of-type {\n",
              "        vertical-align: middle;\n",
              "    }\n",
              "\n",
              "    .dataframe tbody tr th {\n",
              "        vertical-align: top;\n",
              "    }\n",
              "\n",
              "    .dataframe thead th {\n",
              "        text-align: right;\n",
              "    }\n",
              "</style>\n",
              "<table border=\"1\" class=\"dataframe\">\n",
              "  <thead>\n",
              "    <tr style=\"text-align: right;\">\n",
              "      <th></th>\n",
              "      <th>vectorizer</th>\n",
              "      <th>n_range</th>\n",
              "      <th>min_df</th>\n",
              "      <th>max_df</th>\n",
              "      <th>precision</th>\n",
              "      <th>recall</th>\n",
              "      <th>accuracy</th>\n",
              "      <th>f_measure</th>\n",
              "    </tr>\n",
              "  </thead>\n",
              "  <tbody>\n",
              "    <tr>\n",
              "      <th>156</th>\n",
              "      <td>tf-idf</td>\n",
              "      <td>(1, 6)</td>\n",
              "      <td>1</td>\n",
              "      <td>0.98</td>\n",
              "      <td>0.715729</td>\n",
              "      <td>0.688036</td>\n",
              "      <td>0.7108</td>\n",
              "      <td>0.70161</td>\n",
              "    </tr>\n",
              "    <tr>\n",
              "      <th>152</th>\n",
              "      <td>tf-idf</td>\n",
              "      <td>(1, 6)</td>\n",
              "      <td>1</td>\n",
              "      <td>0.95</td>\n",
              "      <td>0.715729</td>\n",
              "      <td>0.688036</td>\n",
              "      <td>0.7108</td>\n",
              "      <td>0.70161</td>\n",
              "    </tr>\n",
              "    <tr>\n",
              "      <th>148</th>\n",
              "      <td>tf-idf</td>\n",
              "      <td>(1, 6)</td>\n",
              "      <td>1</td>\n",
              "      <td>0.75</td>\n",
              "      <td>0.715729</td>\n",
              "      <td>0.688036</td>\n",
              "      <td>0.7108</td>\n",
              "      <td>0.70161</td>\n",
              "    </tr>\n",
              "  </tbody>\n",
              "</table>\n",
              "</div>"
            ],
            "text/plain": [
              "    vectorizer n_range  min_df  ...    recall  accuracy  f_measure\n",
              "156     tf-idf  (1, 6)       1  ...  0.688036    0.7108    0.70161\n",
              "152     tf-idf  (1, 6)       1  ...  0.688036    0.7108    0.70161\n",
              "148     tf-idf  (1, 6)       1  ...  0.688036    0.7108    0.70161\n",
              "\n",
              "[3 rows x 8 columns]"
            ]
          },
          "metadata": {
            "tags": []
          },
          "execution_count": 67
        }
      ]
    },
    {
      "cell_type": "markdown",
      "metadata": {
        "id": "4KfDxrASnByJ"
      },
      "source": [
        "Напоследок выведем лидеров по набору параметров для каждого вида векторизатора"
      ]
    },
    {
      "cell_type": "code",
      "metadata": {
        "colab": {
          "base_uri": "https://localhost:8080/",
          "height": 172
        },
        "id": "3eZTsA__l1M6",
        "outputId": "f7168715-8e9b-433e-a082-3db6f4d1b750"
      },
      "source": [
        "eval_data.groupby('vectorizer').apply(\n",
        "    lambda x: x.sort_values(by='f_measure', ascending=False).head(1))"
      ],
      "execution_count": 71,
      "outputs": [
        {
          "output_type": "execute_result",
          "data": {
            "text/html": [
              "<div>\n",
              "<style scoped>\n",
              "    .dataframe tbody tr th:only-of-type {\n",
              "        vertical-align: middle;\n",
              "    }\n",
              "\n",
              "    .dataframe tbody tr th {\n",
              "        vertical-align: top;\n",
              "    }\n",
              "\n",
              "    .dataframe thead th {\n",
              "        text-align: right;\n",
              "    }\n",
              "</style>\n",
              "<table border=\"1\" class=\"dataframe\">\n",
              "  <thead>\n",
              "    <tr style=\"text-align: right;\">\n",
              "      <th></th>\n",
              "      <th></th>\n",
              "      <th>vectorizer</th>\n",
              "      <th>n_range</th>\n",
              "      <th>min_df</th>\n",
              "      <th>max_df</th>\n",
              "      <th>precision</th>\n",
              "      <th>recall</th>\n",
              "      <th>accuracy</th>\n",
              "      <th>f_measure</th>\n",
              "    </tr>\n",
              "    <tr>\n",
              "      <th>vectorizer</th>\n",
              "      <th></th>\n",
              "      <th></th>\n",
              "      <th></th>\n",
              "      <th></th>\n",
              "      <th></th>\n",
              "      <th></th>\n",
              "      <th></th>\n",
              "      <th></th>\n",
              "      <th></th>\n",
              "    </tr>\n",
              "  </thead>\n",
              "  <tbody>\n",
              "    <tr>\n",
              "      <th>nchars</th>\n",
              "      <th>266</th>\n",
              "      <td>nchars</td>\n",
              "      <td>(2, 11)</td>\n",
              "      <td>2</td>\n",
              "      <td>0.75</td>\n",
              "      <td>0.681144</td>\n",
              "      <td>0.728671</td>\n",
              "      <td>0.69736</td>\n",
              "      <td>0.704106</td>\n",
              "    </tr>\n",
              "    <tr>\n",
              "      <th>ngrams</th>\n",
              "      <th>65</th>\n",
              "      <td>ngrams</td>\n",
              "      <td>(1, 6)</td>\n",
              "      <td>2</td>\n",
              "      <td>0.60</td>\n",
              "      <td>0.666348</td>\n",
              "      <td>0.790837</td>\n",
              "      <td>0.70096</td>\n",
              "      <td>0.723275</td>\n",
              "    </tr>\n",
              "    <tr>\n",
              "      <th>tf-idf</th>\n",
              "      <th>149</th>\n",
              "      <td>tf-idf</td>\n",
              "      <td>(1, 6)</td>\n",
              "      <td>2</td>\n",
              "      <td>0.75</td>\n",
              "      <td>0.678987</td>\n",
              "      <td>0.764287</td>\n",
              "      <td>0.70496</td>\n",
              "      <td>0.719117</td>\n",
              "    </tr>\n",
              "  </tbody>\n",
              "</table>\n",
              "</div>"
            ],
            "text/plain": [
              "               vectorizer  n_range  min_df  ...    recall  accuracy  f_measure\n",
              "vectorizer                                  ...                               \n",
              "nchars     266     nchars  (2, 11)       2  ...  0.728671   0.69736   0.704106\n",
              "ngrams     65      ngrams   (1, 6)       2  ...  0.790837   0.70096   0.723275\n",
              "tf-idf     149     tf-idf   (1, 6)       2  ...  0.764287   0.70496   0.719117\n",
              "\n",
              "[3 rows x 8 columns]"
            ]
          },
          "metadata": {
            "tags": []
          },
          "execution_count": 71
        }
      ]
    },
    {
      "cell_type": "markdown",
      "metadata": {
        "id": "mwm3PIfFTNKK"
      },
      "source": [
        "# Обучение на всех данных "
      ]
    },
    {
      "cell_type": "markdown",
      "metadata": {
        "id": "wcKYhcwnS-ER"
      },
      "source": [
        "На четверти данных удается получить значения метрик качества только около 0.7.  \n",
        "Обучим модели с лучшими векторизаторами на полном датасете."
      ]
    },
    {
      "cell_type": "markdown",
      "metadata": {
        "id": "e7APUChBWqys"
      },
      "source": [
        "Векторизатор с лучшими F-мерой и recall"
      ]
    },
    {
      "cell_type": "code",
      "metadata": {
        "id": "2aU6C_1yWgx0"
      },
      "source": [
        "vectorizer = CountVectorizer(ngram_range=(1, 6), min_df=2)\n",
        "X_train_vectorized = vectorizer.fit_transform(X_train)\n",
        "clf = MultinomialNB()\n",
        "clf.fit(X_train_vectorized, y_train)\n",
        "X_test_vectorized = vectorizer.transform(X_test)\n",
        "y_pred = clf.predict(X_test_vectorized)"
      ],
      "execution_count": null,
      "outputs": []
    },
    {
      "cell_type": "code",
      "metadata": {
        "colab": {
          "base_uri": "https://localhost:8080/"
        },
        "id": "tGiVLHEPbJYT",
        "outputId": "28d0a252-0144-42b4-aed7-b1ab2ab5a05e"
      },
      "source": [
        "print(classification_report(y_test, y_pred))"
      ],
      "execution_count": 87,
      "outputs": [
        {
          "output_type": "stream",
          "text": [
            "              precision    recall  f1-score   support\n",
            "\n",
            "          -1       0.73      0.70      0.71     28010\n",
            "           1       0.72      0.74      0.73     28699\n",
            "\n",
            "    accuracy                           0.72     56709\n",
            "   macro avg       0.72      0.72      0.72     56709\n",
            "weighted avg       0.72      0.72      0.72     56709\n",
            "\n"
          ],
          "name": "stdout"
        }
      ]
    },
    {
      "cell_type": "markdown",
      "metadata": {
        "id": "S4tjUL_gXSJ2"
      },
      "source": [
        "Векторизатор с самым высоким precision"
      ]
    },
    {
      "cell_type": "code",
      "metadata": {
        "colab": {
          "base_uri": "https://localhost:8080/"
        },
        "id": "l7cya0wEXSb9",
        "outputId": "b4436e9a-d463-4888-b10d-0091e582307f"
      },
      "source": [
        "tfidf_vectorizer = TfidfVectorizer(ngram_range=(1, 6), min_df = 1)\n",
        "X_train_vectorized = vectorizer.fit_transform(X_train)\n",
        "clf = MultinomialNB()\n",
        "clf.fit(X_train_vectorized, y_train)\n",
        "X_test_vectorized = vectorizer.transform(X_test)\n",
        "y_pred = clf.predict(X_test_vectorized)\n",
        "print(classification_report(y_test, y_pred))"
      ],
      "execution_count": 88,
      "outputs": [
        {
          "output_type": "stream",
          "text": [
            "              precision    recall  f1-score   support\n",
            "\n",
            "          -1       0.73      0.70      0.71     28010\n",
            "           1       0.72      0.74      0.73     28699\n",
            "\n",
            "    accuracy                           0.72     56709\n",
            "   macro avg       0.72      0.72      0.72     56709\n",
            "weighted avg       0.72      0.72      0.72     56709\n",
            "\n"
          ],
          "name": "stdout"
        }
      ]
    },
    {
      "cell_type": "markdown",
      "metadata": {
        "id": "9Qpu8kbecXJA"
      },
      "source": [
        "Лучший векторизатор среди мешков символьных n-грамм"
      ]
    },
    {
      "cell_type": "code",
      "metadata": {
        "colab": {
          "base_uri": "https://localhost:8080/"
        },
        "id": "jnBAbwWjcAPh",
        "outputId": "f2b52c14-b8cf-425b-cc08-d0401ebd28fa"
      },
      "source": [
        "char_vectorizer = CountVectorizer(analyzer='char', ngram_range=(2, 11), min_df=2)\n",
        "X_train_vectorized = vectorizer.fit_transform(X_train)\n",
        "clf = MultinomialNB()\n",
        "clf.fit(X_train_vectorized, y_train)\n",
        "X_test_vectorized = vectorizer.transform(X_test)\n",
        "y_pred = clf.predict(X_test_vectorized)\n",
        "print(classification_report(y_test, y_pred))"
      ],
      "execution_count": 89,
      "outputs": [
        {
          "output_type": "stream",
          "text": [
            "              precision    recall  f1-score   support\n",
            "\n",
            "          -1       0.73      0.70      0.71     28010\n",
            "           1       0.72      0.74      0.73     28699\n",
            "\n",
            "    accuracy                           0.72     56709\n",
            "   macro avg       0.72      0.72      0.72     56709\n",
            "weighted avg       0.72      0.72      0.72     56709\n",
            "\n"
          ],
          "name": "stdout"
        }
      ]
    },
    {
      "cell_type": "markdown",
      "metadata": {
        "id": "ua8HWKH4bTxZ"
      },
      "source": [
        "К сожалению, все три метрики качества все равно остаются около 0.7"
      ]
    }
  ]
}