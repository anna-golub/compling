{
  "nbformat": 4,
  "nbformat_minor": 0,
  "metadata": {
    "colab": {
      "name": "2 regex.ipynb",
      "provenance": [],
      "collapsed_sections": []
    },
    "kernelspec": {
      "name": "python3",
      "display_name": "Python 3"
    }
  },
  "cells": [
    {
      "cell_type": "markdown",
      "metadata": {
        "id": "gYryTel-lOZO"
      },
      "source": [
        "**2.1 Задачи на регулярные выражения**"
      ]
    },
    {
      "cell_type": "code",
      "metadata": {
        "id": "rD7Ezjz3l-ef"
      },
      "source": [
        "import re"
      ],
      "execution_count": 3,
      "outputs": []
    },
    {
      "cell_type": "markdown",
      "metadata": {
        "id": "19nPYFL3lbbe"
      },
      "source": [
        "1. Напишите регулярное выражение, которое возвращает список первых двух букв каждого слова строки. Обратите внимание на работу с дефисом."
      ]
    },
    {
      "cell_type": "code",
      "metadata": {
        "colab": {
          "base_uri": "https://localhost:8080/"
        },
        "id": "o-4E-Q9Jk1xc",
        "outputId": "7d29b1ff-ca50-46c1-924d-af24c9db7c11"
      },
      "source": [
        "s = \"В последнее время мы редко бываем здесь, Антон Павлович, дорогой-с, редко-редко. \" \\\r\n",
        "    \"А вы все так же называете вашу жену крокодилом, а, миленький? Нехорошо это, нехорошо...\"\r\n",
        "re.findall(r'[^\\-](\\b[а-яА-Яa-zA-Z]{2})', s)"
      ],
      "execution_count": null,
      "outputs": [
        {
          "output_type": "execute_result",
          "data": {
            "text/plain": [
              "['по',\n",
              " 'вр',\n",
              " 'мы',\n",
              " 'ре',\n",
              " 'бы',\n",
              " 'зд',\n",
              " 'Ан',\n",
              " 'Па',\n",
              " 'до',\n",
              " 'ре',\n",
              " 'вы',\n",
              " 'вс',\n",
              " 'та',\n",
              " 'же',\n",
              " 'на',\n",
              " 'ва',\n",
              " 'же',\n",
              " 'кр',\n",
              " 'ми',\n",
              " 'Не',\n",
              " 'эт',\n",
              " 'не']"
            ]
          },
          "metadata": {
            "tags": []
          },
          "execution_count": 156
        }
      ]
    },
    {
      "cell_type": "markdown",
      "metadata": {
        "id": "6RhF45PUqxa2"
      },
      "source": [
        "2. Напишите регулярное выражение, которое выбирает из строки все слова, в которых строго больше 3 символов.\r\n"
      ]
    },
    {
      "cell_type": "code",
      "metadata": {
        "colab": {
          "base_uri": "https://localhost:8080/"
        },
        "id": "8f8eADOMqvsq",
        "outputId": "9710e9bc-f824-4238-a14e-9a1817af401a"
      },
      "source": [
        "s = \"В последнее время мы редко бываем здесь, Антон Павлович, дорогой-с, редко-редко. \" \\\r\n",
        "    \"А вы все так же называете вашу жену крокодилом, а, миленький? Нехорошо это, нехорошо...\"\r\n",
        "re.findall(r'\\w{4,}', s)"
      ],
      "execution_count": null,
      "outputs": [
        {
          "output_type": "execute_result",
          "data": {
            "text/plain": [
              "['последнее',\n",
              " 'время',\n",
              " 'редко',\n",
              " 'бываем',\n",
              " 'здесь',\n",
              " 'Антон',\n",
              " 'Павлович',\n",
              " 'дорогой',\n",
              " 'редко',\n",
              " 'редко',\n",
              " 'называете',\n",
              " 'вашу',\n",
              " 'жену',\n",
              " 'крокодилом',\n",
              " 'миленький']"
            ]
          },
          "metadata": {
            "tags": []
          },
          "execution_count": 26
        }
      ]
    },
    {
      "cell_type": "markdown",
      "metadata": {
        "id": "JCDIXtXivXy-"
      },
      "source": [
        "3. Напишите регулярное выражение, которое заменит все подстроки, обозначающие время (только время, не даты), в строке на TBD."
      ]
    },
    {
      "cell_type": "code",
      "metadata": {
        "colab": {
          "base_uri": "https://localhost:8080/",
          "height": 53
        },
        "id": "20fexSomvda8",
        "outputId": "56a20aa7-fc18-46b9-d49a-83e293aed52a"
      },
      "source": [
        "s = 'The event is scheduled for 13:30 or 1.30 in the afternoon on Saturday. It might get moved to 15.30 though, which is 3.30 p.m.'\r\n",
        "re.sub(r'\\d{1,2}:\\d{2}|\\d{1,2}\\.\\d{2}', 'TBD', s)"
      ],
      "execution_count": null,
      "outputs": [
        {
          "output_type": "execute_result",
          "data": {
            "application/vnd.google.colaboratory.intrinsic+json": {
              "type": "string"
            },
            "text/plain": [
              "'The event is scheduled for TBD or TBD in the afternoon on Saturday. It might get moved to TBD though, which is TBD p.m.'"
            ]
          },
          "metadata": {
            "tags": []
          },
          "execution_count": 55
        }
      ]
    },
    {
      "cell_type": "markdown",
      "metadata": {
        "id": "u5f4WbVpyF7N"
      },
      "source": [
        "4. Напишите регулярное выражение, которое заменяет произвольное количество\r\n",
        "пробельных символов внутри строки на один пробел."
      ]
    },
    {
      "cell_type": "code",
      "metadata": {
        "colab": {
          "base_uri": "https://localhost:8080/",
          "height": 123
        },
        "id": "Plg0dbEQyHqc",
        "outputId": "8be96798-b07a-4c99-c2c3-c0ba3f53c9a2"
      },
      "source": [
        "s = \"А вы все так же называете вашу      \\n жену крокодилом, а, \\r\\tмиленький? Нехорошо это,  \\n\\n\\n   нехорошо...  \"\r\n",
        "print(s)\r\n",
        "re.sub(r'\\s+', ' ', s)"
      ],
      "execution_count": null,
      "outputs": [
        {
          "output_type": "stream",
          "text": [
            "А вы все так же называете вашу      \n",
            " жену крокодилом, а, \r\tмиленький? Нехорошо это,  \n",
            "\n",
            "\n",
            "   нехорошо...  \n"
          ],
          "name": "stdout"
        },
        {
          "output_type": "execute_result",
          "data": {
            "application/vnd.google.colaboratory.intrinsic+json": {
              "type": "string"
            },
            "text/plain": [
              "'А вы все так же называете вашу жену крокодилом, а, миленький? Нехорошо это, нехорошо... '"
            ]
          },
          "metadata": {
            "tags": []
          },
          "execution_count": 62
        }
      ]
    },
    {
      "cell_type": "markdown",
      "metadata": {
        "id": "EfUBLHXKzKHN"
      },
      "source": [
        "5. Напишите регулярное выражение, которое удаляет идущие подряд повторы. Одно слово из группы должно остаться."
      ]
    },
    {
      "cell_type": "code",
      "metadata": {
        "colab": {
          "base_uri": "https://localhost:8080/",
          "height": 53
        },
        "id": "ogHuKSQ_zPPM",
        "outputId": "d42e80a4-007e-4ca0-cddc-a7a3ec097b3f"
      },
      "source": [
        "s = 'The the country country was in a a a a great economic depression. ' \\\r\n",
        "    'В последнее время мы мы мы редко бываем здесь, Антон Антон Павлович, дорогой-с, редко редко.'\r\n",
        "re.sub(r'\\b([a-zA-Zа-яА-Я]+)+( \\1\\b)+', r'\\1', s, flags=re.IGNORECASE)"
      ],
      "execution_count": null,
      "outputs": [
        {
          "output_type": "execute_result",
          "data": {
            "application/vnd.google.colaboratory.intrinsic+json": {
              "type": "string"
            },
            "text/plain": [
              "'The country was in a great economic depression. В последнее время мы редко бываем здесь, Антон Павлович, дорогой-с, редко.'"
            ]
          },
          "metadata": {
            "tags": []
          },
          "execution_count": 138
        }
      ]
    },
    {
      "cell_type": "markdown",
      "metadata": {
        "id": "NyMovB_hzVt6"
      },
      "source": [
        "6. Напишите регулярное выражение, которое определяет, что подстрока является адресом электронной почты."
      ]
    },
    {
      "cell_type": "code",
      "metadata": {
        "colab": {
          "base_uri": "https://localhost:8080/"
        },
        "id": "83gDv0nK64KF",
        "outputId": "06129db1-9168-4474-82fd-4c02fb467b34"
      },
      "source": [
        "s = \"Text me: anna.golub_comp-ling@itmo.ru or annagolub@gmailcom.\" \\\r\n",
        "    \"Oops, spelling mistake, here's the correct one: annagolub@gmail.com.\"\r\n",
        "re.findall(r'[a-z\\.\\-_]+@[a-z]+\\.[a-z]+', s)"
      ],
      "execution_count": null,
      "outputs": [
        {
          "output_type": "execute_result",
          "data": {
            "text/plain": [
              "['anna.golub_comp-ling@itmo.ru', 'annagolub@gmail.com']"
            ]
          },
          "metadata": {
            "tags": []
          },
          "execution_count": 117
        }
      ]
    },
    {
      "cell_type": "markdown",
      "metadata": {
        "id": "DHMnWr-GzXzR"
      },
      "source": [
        "7. Напишите регулярное выражение, которое возвращает список аббревиатур в строке."
      ]
    },
    {
      "cell_type": "code",
      "metadata": {
        "colab": {
          "base_uri": "https://localhost:8080/"
        },
        "id": "ZSszTi8lzmYQ",
        "outputId": "e6040415-1660-456c-a68c-50b5d86c2f1c"
      },
      "source": [
        "s = 'The game has been postponed until next week, time TBD.' \\\r\n",
        "    'Чем занимается ООО \"Феникс\"? Или это ОАО? А может быть, просто АО?' \\\r\n",
        "    'Так как же все-таки правильно, Вуз, ВУЗ или, может быть, ВуЗзЗЗ?'\r\n",
        "re.findall(r'[A-ZА-Я]+[a-zа-яA-ZА-Я]*[A-ZА-Я]+', s)"
      ],
      "execution_count": null,
      "outputs": [
        {
          "output_type": "execute_result",
          "data": {
            "text/plain": [
              "['TBD', 'ООО', 'ОАО', 'АО', 'ВУЗ', 'ВуЗзЗЗ']"
            ]
          },
          "metadata": {
            "tags": []
          },
          "execution_count": 68
        }
      ]
    },
    {
      "cell_type": "markdown",
      "metadata": {
        "id": "j9aqEsMXzZ4P"
      },
      "source": [
        "8. Напишите регулярное выражение, которое разделяет текст на предложения."
      ]
    },
    {
      "cell_type": "code",
      "metadata": {
        "colab": {
          "base_uri": "https://localhost:8080/"
        },
        "id": "dnF5bwO-1ZVu",
        "outputId": "517173c9-42c2-4195-bd2e-e0039de19d2f"
      },
      "source": [
        "s = \"В последнее время мы редко бываем здесь, Антон Павлович, дорогой-с, редко-редко. \" \\\r\n",
        "    \"А вы все так же называете вашу жену крокодилом, а, миленький? Нехорошо это, нехорошо..!\"\r\n",
        "re.findall('\\S.*?[\\.!?]+', s)"
      ],
      "execution_count": null,
      "outputs": [
        {
          "output_type": "execute_result",
          "data": {
            "text/plain": [
              "['В последнее время мы редко бываем здесь, Антон Павлович, дорогой-с, редко-редко.',\n",
              " 'А вы все так же называете вашу жену крокодилом, а, миленький?',\n",
              " 'Нехорошо это, нехорошо..!']"
            ]
          },
          "metadata": {
            "tags": []
          },
          "execution_count": 85
        }
      ]
    },
    {
      "cell_type": "markdown",
      "metadata": {
        "id": "9RDSYdwlzb6w"
      },
      "source": [
        "9. Напишите регулярное выражение, которое определяет, что строка является номером российского мобильного телефона любого оператора."
      ]
    },
    {
      "cell_type": "code",
      "metadata": {
        "colab": {
          "base_uri": "https://localhost:8080/",
          "height": 35
        },
        "id": "WTKOLUMT4ivj",
        "outputId": "794d0e8e-8afd-4807-9c07-9e008cfcacc9"
      },
      "source": [
        "s = '+79253457867'\r\n",
        "re.match(r'(\\+7|8){1}(8|9)\\d{9}', s).group()"
      ],
      "execution_count": null,
      "outputs": [
        {
          "output_type": "execute_result",
          "data": {
            "application/vnd.google.colaboratory.intrinsic+json": {
              "type": "string"
            },
            "text/plain": [
              "'+79253457867'"
            ]
          },
          "metadata": {
            "tags": []
          },
          "execution_count": 102
        }
      ]
    },
    {
      "cell_type": "code",
      "metadata": {
        "colab": {
          "base_uri": "https://localhost:8080/",
          "height": 35
        },
        "id": "_AkTgoVO500t",
        "outputId": "29e6d061-6acf-4899-8041-79699c20cbeb"
      },
      "source": [
        "s = '88123457867'\r\n",
        "re.match(r'(\\+7|8){1}(8|9)\\d{9}', s).group()"
      ],
      "execution_count": null,
      "outputs": [
        {
          "output_type": "execute_result",
          "data": {
            "application/vnd.google.colaboratory.intrinsic+json": {
              "type": "string"
            },
            "text/plain": [
              "'88123457867'"
            ]
          },
          "metadata": {
            "tags": []
          },
          "execution_count": 103
        }
      ]
    },
    {
      "cell_type": "markdown",
      "metadata": {
        "id": "mJmdADphzgPV"
      },
      "source": [
        "10. Напишите регулярное выражение, которое проверяет, что все предложения в строке начинаются с заглавной буквы."
      ]
    },
    {
      "cell_type": "code",
      "metadata": {
        "id": "Q9YDMUKV6TTG",
        "colab": {
          "base_uri": "https://localhost:8080/"
        },
        "outputId": "caa3db75-6913-41f0-de44-b0a1ad46f482"
      },
      "source": [
        "s = \"В последнее время мы редко бываем здесь, Антон Павлович, дорогой-с, редко-редко. \" \\\r\n",
        "    \"а вы все так же называете вашу жену крокодилом, а, миленький?\" \\\r\n",
        "    \"Нехорошо это, нехорошо..!\"\r\n",
        "re.findall('[A-ZА-Я]+.*?[\\.!?]+', s)"
      ],
      "execution_count": 2,
      "outputs": [
        {
          "output_type": "execute_result",
          "data": {
            "text/plain": [
              "['В последнее время мы редко бываем здесь, Антон Павлович, дорогой-с, редко-редко.',\n",
              " 'Нехорошо это, нехорошо..!']"
            ]
          },
          "metadata": {
            "tags": []
          },
          "execution_count": 2
        }
      ]
    },
    {
      "cell_type": "markdown",
      "metadata": {
        "id": "SAyeLJ4sGZyU"
      },
      "source": [
        "**2.2 Работа с корпусом**"
      ]
    },
    {
      "cell_type": "markdown",
      "metadata": {
        "id": "X93S6PLvGfRt"
      },
      "source": [
        "Загрузим корпус с помощью библиотеки json.\r\n",
        "\r\n"
      ]
    },
    {
      "cell_type": "code",
      "metadata": {
        "id": "PYZVcx0pI_Ev",
        "colab": {
          "base_uri": "https://localhost:8080/"
        },
        "outputId": "876af63a-82fa-49e5-88d4-2993ea4c3d34"
      },
      "source": [
        "import json\r\n",
        "with open('/content/drive/MyDrive/Colab Notebooks/комп линг/corpus.json', 'r') as corpus_file:\r\n",
        "  corpus = json.loads(corpus_file.readline())\r\n",
        "corpus['0']"
      ],
      "execution_count": 65,
      "outputs": [
        {
          "output_type": "execute_result",
          "data": {
            "text/plain": [
              "{'comments_ids': [1, 2],\n",
              " 'comments_number': 2,\n",
              " 'text': 'По просьбам трудящихся организовали паблик анкетных знакомств с той же политикой, что и здесь.\\nДо 14-го февраля осталось недолго, но, может, вам удастся найти себе компанию на этот день!\\n\\nhttps://vk.com/comfdating!',\n",
              " 'type': 'post',\n",
              " 'words_number': 30}"
            ]
          },
          "metadata": {
            "tags": []
          },
          "execution_count": 65
        }
      ]
    },
    {
      "cell_type": "markdown",
      "metadata": {
        "id": "y_DJFRz21bL-"
      },
      "source": [
        "В тех документах корпуса, чей текст взят из постов на стене группы, выделим тематические **теги** и запишем их в отдельное поле словаря."
      ]
    },
    {
      "cell_type": "code",
      "metadata": {
        "colab": {
          "base_uri": "https://localhost:8080/"
        },
        "id": "0UaFivrH1O2y",
        "outputId": "e2b672c7-6777-4ec2-a1b4-39d1034adb71"
      },
      "source": [
        "pattern = r'#[\\w_]+\\b'\r\n",
        "for key in corpus:\r\n",
        "  if corpus[key]['type'] == 'post':\r\n",
        "    corpus[key]['tags'] = re.findall(pattern, corpus[key]['text'])\r\n",
        "    corpus[key]['text'] = re.sub(pattern, '', corpus[key]['text'])\r\n",
        "\r\n",
        "for key in corpus:\r\n",
        "  if corpus[key]['type'] == 'post' and corpus[key]['tags']:\r\n",
        "    print(corpus[key]['tags'])"
      ],
      "execution_count": 60,
      "outputs": [
        {
          "output_type": "stream",
          "text": [
            "['#зк_нужен_совет']\n",
            "['#зк_нужен_совет']\n",
            "['#зк_нужен_совет', '#зк_выговориться']\n",
            "['#анонимно', '#зк_нужен_совет', '#зк_выговориться', '#зк_нужна_поддержка']\n",
            "['#Анон']\n",
            "['#зк_нужен_совет']\n",
            "['#зк_нуженсовет']\n",
            "['#зк_нужна_поддержка']\n",
            "['#зк_выговориться']\n",
            "['#зк_нужен_совет', '#зк_выговориться']\n",
            "['#зк_нужна_поддержка']\n",
            "['#зк_нужен_совет']\n",
            "['#зк_выговориться']\n",
            "['#зк_выговориться', '#зк_нужна']\n",
            "['#зк_выговориться']\n",
            "['#зк_нужен_совет', '#зк_выговориться']\n",
            "['#зк_выговориться']\n",
            "['#зк_нужен_совет']\n",
            "['#зк_выговориться', '#зк_нужен_совет']\n",
            "['#зк_нужен_совет']\n",
            "['#зк_выговориться', '#зк_нужен_совет']\n",
            "['#зк_нужна_поддержка', '#зк_нужен_совет']\n",
            "['#зк_нужна_помощь']\n",
            "['#зк_нужен_совет']\n",
            "['#зк_нужна_помощь']\n",
            "['#зк_нужен_совет']\n"
          ],
          "name": "stdout"
        }
      ]
    },
    {
      "cell_type": "markdown",
      "metadata": {
        "id": "l1QiogBf1Oi1"
      },
      "source": [
        "**Удалим ссылки**"
      ]
    },
    {
      "cell_type": "markdown",
      "metadata": {
        "id": "2ZFEYZGEDicY"
      },
      "source": [
        "Посмотрим несколько примеров документов со ссылками."
      ]
    },
    {
      "cell_type": "code",
      "metadata": {
        "colab": {
          "base_uri": "https://localhost:8080/",
          "height": 53
        },
        "id": "-g-vjs-N9hyI",
        "outputId": "c4c6d4f0-53c6-412e-d067-7aff09f53adc"
      },
      "source": [
        "corpus['0']['text']"
      ],
      "execution_count": 38,
      "outputs": [
        {
          "output_type": "execute_result",
          "data": {
            "application/vnd.google.colaboratory.intrinsic+json": {
              "type": "string"
            },
            "text/plain": [
              "'По просьбам трудящихся организовали паблик анкетных знакомств с той же политикой, что и здесь.\\nДо 14-го февраля осталось недолго, но, может, вам удастся найти себе компанию на этот день!\\n\\nhttps://vk.com/comfdating!'"
            ]
          },
          "metadata": {
            "tags": []
          },
          "execution_count": 38
        }
      ]
    },
    {
      "cell_type": "code",
      "metadata": {
        "colab": {
          "base_uri": "https://localhost:8080/",
          "height": 70
        },
        "id": "XPvzLoDi9cFp",
        "outputId": "d209d940-2104-4ddf-c4de-0924151e1fcf"
      },
      "source": [
        "corpus['251']['text']"
      ],
      "execution_count": 6,
      "outputs": [
        {
          "output_type": "execute_result",
          "data": {
            "application/vnd.google.colaboratory.intrinsic+json": {
              "type": "string"
            },
            "text/plain": [
              "'В целом Соня всё написала правильно-нужно удалить все данные из соцсетей Ваши,сменить номер телефона. Есть ещё замечательный сайт hospitality.org-автостопщики по всему миру ищут там вписки. Могут и приютить на время,и с работой помочь и может даже найдёте настоящую любовь там.'"
            ]
          },
          "metadata": {
            "tags": []
          },
          "execution_count": 6
        }
      ]
    },
    {
      "cell_type": "code",
      "metadata": {
        "colab": {
          "base_uri": "https://localhost:8080/",
          "height": 70
        },
        "id": "dh4oXHj0B5cv",
        "outputId": "14d8c420-7641-46bc-d21d-8fd256ebd83f"
      },
      "source": [
        "corpus['185']['text']"
      ],
      "execution_count": 66,
      "outputs": [
        {
          "output_type": "execute_result",
          "data": {
            "application/vnd.google.colaboratory.intrinsic+json": {
              "type": "string"
            },
            "text/plain": [
              "'Кроме того ты можешь просто гуглить всякие списки 100 вещей которых \"должен\" уметь взрослый человек. Там действительно есть полезные вещи, которые повышают уверенность в себе и которым легко научиться.\\nhttps://deti.mann-ivanov-ferber.ru/2020/06/08/kak-ponyat-gotov-li-podrostok-k-samostoyatelnoj-zhizni/'"
            ]
          },
          "metadata": {
            "tags": []
          },
          "execution_count": 66
        }
      ]
    },
    {
      "cell_type": "markdown",
      "metadata": {
        "id": "o1ssmfxCDtp7"
      },
      "source": [
        "Заменим ссылки на пустые строки с помощью регулярного выражения."
      ]
    },
    {
      "cell_type": "code",
      "metadata": {
        "id": "IVzYpOS82BYU"
      },
      "source": [
        "pattern = r'((http|https)://)?([-_a-zA-Z]+\\.)+(ru|com|org|de|рф|so)(/?[a-zA-Z\\d]+[-\\./#\\?%$!^:;\"\\'<=>\\+]?)*'\r\n",
        "for key in corpus:\r\n",
        "  corpus[key]['text'] = re.sub(pattern, '', corpus[key]['text'])"
      ],
      "execution_count": 67,
      "outputs": []
    },
    {
      "cell_type": "markdown",
      "metadata": {
        "id": "HQD8Ht35D1X1"
      },
      "source": [
        "Посмотрим, как это отработало на документах из примеров выше."
      ]
    },
    {
      "cell_type": "code",
      "metadata": {
        "colab": {
          "base_uri": "https://localhost:8080/",
          "height": 53
        },
        "id": "W0aNilHV99uV",
        "outputId": "07115444-d0d7-4cc4-f096-b9c568f820f4"
      },
      "source": [
        "corpus['0']['text']"
      ],
      "execution_count": 41,
      "outputs": [
        {
          "output_type": "execute_result",
          "data": {
            "application/vnd.google.colaboratory.intrinsic+json": {
              "type": "string"
            },
            "text/plain": [
              "'По просьбам трудящихся организовали паблик анкетных знакомств с той же политикой, что и здесь.\\nДо 14-го февраля осталось недолго, но, может, вам удастся найти себе компанию на этот день!\\n\\n'"
            ]
          },
          "metadata": {
            "tags": []
          },
          "execution_count": 41
        }
      ]
    },
    {
      "cell_type": "code",
      "metadata": {
        "colab": {
          "base_uri": "https://localhost:8080/",
          "height": 70
        },
        "id": "mjaz0vmZ3CAg",
        "outputId": "eff880c3-24c5-4200-ff17-b9b68dce6e1c"
      },
      "source": [
        "corpus['251']['text']"
      ],
      "execution_count": 42,
      "outputs": [
        {
          "output_type": "execute_result",
          "data": {
            "application/vnd.google.colaboratory.intrinsic+json": {
              "type": "string"
            },
            "text/plain": [
              "'В целом Соня всё написала правильно-нужно удалить все данные из соцсетей Ваши,сменить номер телефона. Есть ещё замечательный сайт -автостопщики по всему миру ищут там вписки. Могут и приютить на время,и с работой помочь и может даже найдёте настоящую любовь там.'"
            ]
          },
          "metadata": {
            "tags": []
          },
          "execution_count": 42
        }
      ]
    },
    {
      "cell_type": "code",
      "metadata": {
        "colab": {
          "base_uri": "https://localhost:8080/",
          "height": 53
        },
        "id": "SohOM4klBFNQ",
        "outputId": "f3a09d78-f850-47a3-d5f1-50aab7710de4"
      },
      "source": [
        "corpus['185']['text']"
      ],
      "execution_count": 68,
      "outputs": [
        {
          "output_type": "execute_result",
          "data": {
            "application/vnd.google.colaboratory.intrinsic+json": {
              "type": "string"
            },
            "text/plain": [
              "'Кроме того ты можешь просто гуглить всякие списки 100 вещей которых \"должен\" уметь взрослый человек. Там действительно есть полезные вещи, которые повышают уверенность в себе и которым легко научиться.\\n'"
            ]
          },
          "metadata": {
            "tags": []
          },
          "execution_count": 68
        }
      ]
    },
    {
      "cell_type": "markdown",
      "metadata": {
        "id": "y2K-2SGm4VYS"
      },
      "source": [
        "**Удалим непонятные символы**"
      ]
    },
    {
      "cell_type": "markdown",
      "metadata": {
        "id": "1rF0vYGzEG8s"
      },
      "source": [
        "Аналогичным образом посмотрим несколько примеров, удалим непонятные символы и снова выведем тексты документов из примеров."
      ]
    },
    {
      "cell_type": "code",
      "metadata": {
        "colab": {
          "base_uri": "https://localhost:8080/",
          "height": 70
        },
        "id": "maPnqZmbJoNp",
        "outputId": "dcd6c8e4-efb4-4969-8de7-c14bbc895bfc"
      },
      "source": [
        "corpus['267']['text']"
      ],
      "execution_count": 10,
      "outputs": [
        {
          "output_type": "execute_result",
          "data": {
            "application/vnd.google.colaboratory.intrinsic+json": {
              "type": "string"
            },
            "text/plain": [
              "'19 лет - это не тётя 🤦\\u200d♀️\\nМне кажется, что вам просто дома мозги промывают, что типа пора взрослеть.\\nБумажки заполнять можно научиться за пару минут, если ты обычный человек. А чтоб приготовить ченить - так можно видос на ютубе найти и всё.'"
            ]
          },
          "metadata": {
            "tags": []
          },
          "execution_count": 10
        }
      ]
    },
    {
      "cell_type": "code",
      "metadata": {
        "colab": {
          "base_uri": "https://localhost:8080/",
          "height": 88
        },
        "id": "VoabI3WZJwgB",
        "outputId": "11b6fbbb-415f-4c86-8fb2-05a2973ebfe6"
      },
      "source": [
        "corpus['320']['text']"
      ],
      "execution_count": 11,
      "outputs": [
        {
          "output_type": "execute_result",
          "data": {
            "application/vnd.google.colaboratory.intrinsic+json": {
              "type": "string"
            },
            "text/plain": [
              "'Если вам действительно нравится и вы будете ее носить - ни в коем случае не жалейте и переставайте себя винить! Эта куртка будет не только вас греть, но и радовать своим видом. Это очень важная покупка, я считаю.\\nСоглашусь, что 3200 это  даже дешево за верхнюю одежду.\\nЕсли ваши родственники не могут/не хотят себе покупать вещи за такие деньги, это не значит, что вы тоже не можете. Радуйте себя на здоровье и никого не слушайте 🌸'"
            ]
          },
          "metadata": {
            "tags": []
          },
          "execution_count": 11
        }
      ]
    },
    {
      "cell_type": "code",
      "metadata": {
        "id": "1uD_dZzd5GbJ"
      },
      "source": [
        "pattern = r'[^a-zA-Zа-яёА-ЯЁ\\s\\d!\"#$%&/\\\\\\\\\\'\\(\\)\\*\\+,\\-\\.:;<=>\\?@\\[\\]^_`{|}~]+'\r\n",
        "for key in corpus:\r\n",
        "  corpus[key]['text'] = re.sub(pattern, '', corpus[key]['text'])"
      ],
      "execution_count": 62,
      "outputs": []
    },
    {
      "cell_type": "code",
      "metadata": {
        "colab": {
          "base_uri": "https://localhost:8080/",
          "height": 70
        },
        "id": "EwvIAQJf-PEn",
        "outputId": "37be434a-1906-4700-87bd-c5916e19732d"
      },
      "source": [
        "corpus['267']['text']"
      ],
      "execution_count": 45,
      "outputs": [
        {
          "output_type": "execute_result",
          "data": {
            "application/vnd.google.colaboratory.intrinsic+json": {
              "type": "string"
            },
            "text/plain": [
              "'19 лет - это не тётя \\nМне кажется, что вам просто дома мозги промывают, что типа пора взрослеть.\\nБумажки заполнять можно научиться за пару минут, если ты обычный человек. А чтоб приготовить ченить - так можно видос на ютубе найти и всё.'"
            ]
          },
          "metadata": {
            "tags": []
          },
          "execution_count": 45
        }
      ]
    },
    {
      "cell_type": "code",
      "metadata": {
        "colab": {
          "base_uri": "https://localhost:8080/",
          "height": 88
        },
        "id": "cS82C6r5-PXd",
        "outputId": "9a885e7e-6ae2-456f-c935-0308a3dd61a9"
      },
      "source": [
        "corpus['320']['text']"
      ],
      "execution_count": 14,
      "outputs": [
        {
          "output_type": "execute_result",
          "data": {
            "application/vnd.google.colaboratory.intrinsic+json": {
              "type": "string"
            },
            "text/plain": [
              "'Если вам действительно нравится и вы будете ее носить - ни в коем случае не жалейте и переставайте себя винить! Эта куртка будет не только вас греть, но и радовать своим видом. Это очень важная покупка, я считаю.\\nСоглашусь, что 3200 это  даже дешево за верхнюю одежду.\\nЕсли ваши родственники не могут/не хотят себе покупать вещи за такие деньги, это не значит, что вы тоже не можете. Радуйте себя на здоровье и никого не слушайте '"
            ]
          },
          "metadata": {
            "tags": []
          },
          "execution_count": 14
        }
      ]
    },
    {
      "cell_type": "markdown",
      "metadata": {
        "id": "mM_wRkSq0QSf"
      },
      "source": [
        "**Заменим произвольное количество пробельных символов подряд на один пробел**"
      ]
    },
    {
      "cell_type": "code",
      "metadata": {
        "colab": {
          "base_uri": "https://localhost:8080/",
          "height": 53
        },
        "id": "u7dJLP4J0PzJ",
        "outputId": "be6259bb-70dd-4c08-f80f-7af99505add7"
      },
      "source": [
        "pattern = r'\\s+'\r\n",
        "for key in corpus:\r\n",
        "  corpus[key]['text'] = re.sub(pattern, ' ', corpus[key]['text'])\r\n",
        "corpus['0']['text']"
      ],
      "execution_count": 63,
      "outputs": [
        {
          "output_type": "execute_result",
          "data": {
            "application/vnd.google.colaboratory.intrinsic+json": {
              "type": "string"
            },
            "text/plain": [
              "'По просьбам трудящихся организовали паблик анкетных знакомств с той же политикой, что и здесь. До 14-го февраля осталось недолго, но, может, вам удастся найти себе компанию на этот день! '"
            ]
          },
          "metadata": {
            "tags": []
          },
          "execution_count": 63
        }
      ]
    },
    {
      "cell_type": "markdown",
      "metadata": {
        "id": "Kzu45ngw-rP_"
      },
      "source": [
        "Запишем корпус в новый файл формата json."
      ]
    },
    {
      "cell_type": "code",
      "metadata": {
        "id": "EEOoppWk-vnR"
      },
      "source": [
        "with open('corpus_re_cleared.json', 'w', encoding='utf-8') as fout:\r\n",
        "  json.dump(corpus, fout, ensure_ascii=False)"
      ],
      "execution_count": 64,
      "outputs": []
    }
  ]
}