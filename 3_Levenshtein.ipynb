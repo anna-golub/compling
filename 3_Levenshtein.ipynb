{
  "nbformat": 4,
  "nbformat_minor": 0,
  "metadata": {
    "colab": {
      "name": "3 Levenshtein.ipynb",
      "provenance": [],
      "collapsed_sections": []
    },
    "kernelspec": {
      "name": "python3",
      "display_name": "Python 3"
    },
    "language_info": {
      "name": "python"
    }
  },
  "cells": [
    {
      "cell_type": "markdown",
      "metadata": {
        "id": "C-OFEYp19Ctg"
      },
      "source": [
        "# Расстояние Левенштейна. Исправление опечаток"
      ]
    },
    {
      "cell_type": "markdown",
      "metadata": {
        "id": "FBXUU40xwbH2"
      },
      "source": [
        "Загрузим необходимые библиотеки"
      ]
    },
    {
      "cell_type": "code",
      "metadata": {
        "id": "0weOEld1u6EB"
      },
      "source": [
        "import json\n",
        "import string\n",
        "from nltk.tokenize import word_tokenize"
      ],
      "execution_count": 5,
      "outputs": []
    },
    {
      "cell_type": "code",
      "metadata": {
        "colab": {
          "base_uri": "https://localhost:8080/"
        },
        "id": "XthqwvEQ0x9F",
        "outputId": "381f14e4-88a8-4ea0-8db9-692f828a12cf"
      },
      "source": [
        "import nltk\n",
        "nltk.download('punkt')"
      ],
      "execution_count": 9,
      "outputs": [
        {
          "output_type": "stream",
          "text": [
            "[nltk_data] Downloading package punkt to /root/nltk_data...\n",
            "[nltk_data]   Unzipping tokenizers/punkt.zip.\n"
          ],
          "name": "stdout"
        },
        {
          "output_type": "execute_result",
          "data": {
            "text/plain": [
              "True"
            ]
          },
          "metadata": {
            "tags": []
          },
          "execution_count": 9
        }
      ]
    },
    {
      "cell_type": "markdown",
      "metadata": {
        "id": "4ilTHWREwhzw"
      },
      "source": [
        "Загрузим корпус"
      ]
    },
    {
      "cell_type": "code",
      "metadata": {
        "colab": {
          "base_uri": "https://localhost:8080/"
        },
        "id": "MWkgBQWkuWLH",
        "outputId": "df6ad446-8332-4365-ae94-4908431d3e06"
      },
      "source": [
        "with open('/content/drive/MyDrive/Colab Notebooks/комп линг/corpus_cleared.json', 'r') as corpus_file:\n",
        "  corpus = json.loads(corpus_file.readline())\n",
        "corpus['0']"
      ],
      "execution_count": 4,
      "outputs": [
        {
          "output_type": "execute_result",
          "data": {
            "text/plain": [
              "{'comments_ids': [1, 2],\n",
              " 'comments_number': 2,\n",
              " 'tags': [],\n",
              " 'text': 'По просьбам трудящихся организовали паблик анкетных знакомств с той же политикой, что и здесь. До 14-го февраля осталось недолго, но, может, вам удастся найти себе компанию на этот день! ',\n",
              " 'type': 'post',\n",
              " 'words_number': 30}"
            ]
          },
          "metadata": {
            "tags": []
          },
          "execution_count": 4
        }
      ]
    },
    {
      "cell_type": "markdown",
      "metadata": {
        "id": "CywcVwl5zi36"
      },
      "source": [
        "Проведем предобработку:\n",
        "\n",
        "* разделим текст на токены\n",
        "* переведем их в нижний регистр\n",
        "* удалим знаки препинания"
      ]
    },
    {
      "cell_type": "markdown",
      "metadata": {
        "id": "2gJwCKXpwnZl"
      },
      "source": [
        "Создадим словарь, где ключами будут являться слова из корпуса, а значениями - списки идентификаторов документов, где они встречаются."
      ]
    },
    {
      "cell_type": "code",
      "metadata": {
        "id": "ca3ux6hC0kjB"
      },
      "source": [
        "punct_marks = string.punctuation + \"—\" + \"«\" + \"»\""
      ],
      "execution_count": 7,
      "outputs": []
    },
    {
      "cell_type": "code",
      "metadata": {
        "id": "tPR4jiw9utYp"
      },
      "source": [
        "words_docs_dict = dict()\n",
        "\n",
        "for doc_id in corpus:\n",
        "  text = word_tokenize(corpus[doc_id]['text'])\n",
        "  text = [token.lower() for token in text if token not in punct_marks]\n",
        "\n",
        "  for word in text:\n",
        "    if word in words_docs_dict:\n",
        "      if doc_id not in words_docs_dict[word]:\n",
        "        words_docs_dict[word].append(doc_id)\n",
        "    else:\n",
        "      words_docs_dict[word] = [doc_id]"
      ],
      "execution_count": 14,
      "outputs": []
    },
    {
      "cell_type": "code",
      "metadata": {
        "colab": {
          "base_uri": "https://localhost:8080/"
        },
        "id": "mntZmJ4W0rZq",
        "outputId": "d8d6e538-f9e9-45b0-9843-551405a83304"
      },
      "source": [
        "words_docs_dict['здесь']"
      ],
      "execution_count": 21,
      "outputs": [
        {
          "output_type": "execute_result",
          "data": {
            "text/plain": [
              "['0', '218', '268', '378', '462']"
            ]
          },
          "metadata": {
            "tags": []
          },
          "execution_count": 21
        }
      ]
    },
    {
      "cell_type": "markdown",
      "metadata": {
        "id": "Ncgd-VKd2Vz3"
      },
      "source": [
        "Напишем функцию, которая будет принимать слово и возвращать:\n",
        "* список идентификаторов документов, где оно встречается, если слово есть в словаре  \n",
        "* иначе - ближайшее к нему слово по расстоянию Левенштейна и список документов, где оно встречается"
      ]
    },
    {
      "cell_type": "markdown",
      "metadata": {
        "id": "0-_3gRvH75f5"
      },
      "source": [
        "Воспользуемся реализацией поиска расстояния Левенштейна из библиотеки NLTK."
      ]
    },
    {
      "cell_type": "code",
      "metadata": {
        "id": "R9PZ_WpQ3r1W"
      },
      "source": [
        "from nltk.metrics import edit_distance"
      ],
      "execution_count": 22,
      "outputs": []
    },
    {
      "cell_type": "code",
      "metadata": {
        "id": "mk4JahVa2VD-"
      },
      "source": [
        "def word_and_docs_where_to_find_it(word: str):\n",
        "  if word in words_docs_dict:\n",
        "    return True, words_docs_dict[word]\n",
        "\n",
        "  min_dist = 1000\n",
        "  correct_word = ''\n",
        "  for corpus_word in words_docs_dict:\n",
        "    this_dist = edit_distance(word, corpus_word)\n",
        "    if this_dist < min_dist:\n",
        "      min_dist = this_dist\n",
        "      correct_word = corpus_word\n",
        "  \n",
        "  if min_dist > 2:\n",
        "    return False, correct_word, 'другое слово'\n",
        "  return False, correct_word, 'опечатка', words_docs_dict[correct_word]"
      ],
      "execution_count": 60,
      "outputs": []
    },
    {
      "cell_type": "code",
      "metadata": {
        "colab": {
          "base_uri": "https://localhost:8080/"
        },
        "id": "PzPDB3LS4t4n",
        "outputId": "7f698418-dce5-457f-93ce-5b9202770ea9"
      },
      "source": [
        "word_and_docs_where_to_find_it('здесь')"
      ],
      "execution_count": 63,
      "outputs": [
        {
          "output_type": "execute_result",
          "data": {
            "text/plain": [
              "(True, ['0', '218', '268', '378', '462'])"
            ]
          },
          "metadata": {
            "tags": []
          },
          "execution_count": 63
        }
      ]
    },
    {
      "cell_type": "code",
      "metadata": {
        "colab": {
          "base_uri": "https://localhost:8080/"
        },
        "id": "9yI_6F6b8D9B",
        "outputId": "dcd89ff9-bf77-4280-bb6b-5bd671e79aef"
      },
      "source": [
        "word_and_docs_where_to_find_it('здес')"
      ],
      "execution_count": 64,
      "outputs": [
        {
          "output_type": "execute_result",
          "data": {
            "text/plain": [
              "(False, 'здесь', 'опечатка', ['0', '218', '268', '378', '462'])"
            ]
          },
          "metadata": {
            "tags": []
          },
          "execution_count": 64
        }
      ]
    },
    {
      "cell_type": "code",
      "metadata": {
        "colab": {
          "base_uri": "https://localhost:8080/"
        },
        "id": "ERneELWT8GXB",
        "outputId": "8a27c5d8-6f88-4f7c-fb39-45c082ce785d"
      },
      "source": [
        "word_and_docs_where_to_find_it('наврено')"
      ],
      "execution_count": 65,
      "outputs": [
        {
          "output_type": "execute_result",
          "data": {
            "text/plain": [
              "(False, 'наверно', 'опечатка', ['141'])"
            ]
          },
          "metadata": {
            "tags": []
          },
          "execution_count": 65
        }
      ]
    },
    {
      "cell_type": "code",
      "metadata": {
        "colab": {
          "base_uri": "https://localhost:8080/"
        },
        "id": "A1AAd3zV8NrB",
        "outputId": "cf1a48db-69d7-4ea3-8dc8-196648a1ca60"
      },
      "source": [
        "word_and_docs_where_to_find_it('искуственый')"
      ],
      "execution_count": 66,
      "outputs": [
        {
          "output_type": "execute_result",
          "data": {
            "text/plain": [
              "(False, 'естественный', 'другое слово')"
            ]
          },
          "metadata": {
            "tags": []
          },
          "execution_count": 66
        }
      ]
    }
  ]
}