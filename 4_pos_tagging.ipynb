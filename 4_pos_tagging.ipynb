{
  "nbformat": 4,
  "nbformat_minor": 0,
  "metadata": {
    "colab": {
      "name": "4 pos-tagging.ipynb",
      "provenance": [],
      "collapsed_sections": []
    },
    "kernelspec": {
      "name": "python3",
      "display_name": "Python 3"
    },
    "language_info": {
      "name": "python"
    }
  },
  "cells": [
    {
      "cell_type": "markdown",
      "metadata": {
        "id": "eZ6sIKe5hLu9"
      },
      "source": [
        "# Частеречная разметка"
      ]
    },
    {
      "cell_type": "markdown",
      "metadata": {
        "id": "Qv_W8QXShE2p"
      },
      "source": [
        "Загрузим необходимые библиотеки"
      ]
    },
    {
      "cell_type": "code",
      "metadata": {
        "id": "egkkHn63gDma"
      },
      "source": [
        "import json\n",
        "import string\n",
        "from nltk.tokenize import word_tokenize\n",
        "from nltk.corpus import stopwords"
      ],
      "execution_count": 1,
      "outputs": []
    },
    {
      "cell_type": "code",
      "metadata": {
        "colab": {
          "base_uri": "https://localhost:8080/"
        },
        "id": "uiSzhCzmgM2K",
        "outputId": "ed3c144f-bf09-4af0-ce19-229d8b0312b1"
      },
      "source": [
        "import nltk\n",
        "nltk.download('punkt')\n",
        "nltk.download('stopwords')"
      ],
      "execution_count": 2,
      "outputs": [
        {
          "output_type": "stream",
          "text": [
            "[nltk_data] Downloading package punkt to /root/nltk_data...\n",
            "[nltk_data]   Unzipping tokenizers/punkt.zip.\n",
            "[nltk_data] Downloading package stopwords to /root/nltk_data...\n",
            "[nltk_data]   Unzipping corpora/stopwords.zip.\n"
          ],
          "name": "stdout"
        },
        {
          "output_type": "execute_result",
          "data": {
            "text/plain": [
              "True"
            ]
          },
          "metadata": {
            "tags": []
          },
          "execution_count": 2
        }
      ]
    },
    {
      "cell_type": "code",
      "metadata": {
        "colab": {
          "base_uri": "https://localhost:8080/"
        },
        "id": "gdhO1Ci_kqPw",
        "outputId": "da236ef3-ac71-4fbb-c607-90b2b4d410f3"
      },
      "source": [
        "!pip install pymorphy2"
      ],
      "execution_count": 3,
      "outputs": [
        {
          "output_type": "stream",
          "text": [
            "Collecting pymorphy2\n",
            "\u001b[?25l  Downloading https://files.pythonhosted.org/packages/07/57/b2ff2fae3376d4f3c697b9886b64a54b476e1a332c67eee9f88e7f1ae8c9/pymorphy2-0.9.1-py3-none-any.whl (55kB)\n",
            "\r\u001b[K     |██████                          | 10kB 11.5MB/s eta 0:00:01\r\u001b[K     |███████████▉                    | 20kB 16.2MB/s eta 0:00:01\r\u001b[K     |█████████████████▊              | 30kB 10.7MB/s eta 0:00:01\r\u001b[K     |███████████████████████▋        | 40kB 8.6MB/s eta 0:00:01\r\u001b[K     |█████████████████████████████▌  | 51kB 4.5MB/s eta 0:00:01\r\u001b[K     |████████████████████████████████| 61kB 3.0MB/s \n",
            "\u001b[?25hRequirement already satisfied: docopt>=0.6 in /usr/local/lib/python3.7/dist-packages (from pymorphy2) (0.6.2)\n",
            "Collecting dawg-python>=0.7.1\n",
            "  Downloading https://files.pythonhosted.org/packages/6a/84/ff1ce2071d4c650ec85745766c0047ccc3b5036f1d03559fd46bb38b5eeb/DAWG_Python-0.7.2-py2.py3-none-any.whl\n",
            "Collecting pymorphy2-dicts-ru<3.0,>=2.4\n",
            "\u001b[?25l  Downloading https://files.pythonhosted.org/packages/3a/79/bea0021eeb7eeefde22ef9e96badf174068a2dd20264b9a378f2be1cdd9e/pymorphy2_dicts_ru-2.4.417127.4579844-py2.py3-none-any.whl (8.2MB)\n",
            "\u001b[K     |████████████████████████████████| 8.2MB 6.9MB/s \n",
            "\u001b[?25hInstalling collected packages: dawg-python, pymorphy2-dicts-ru, pymorphy2\n",
            "Successfully installed dawg-python-0.7.2 pymorphy2-0.9.1 pymorphy2-dicts-ru-2.4.417127.4579844\n"
          ],
          "name": "stdout"
        }
      ]
    },
    {
      "cell_type": "code",
      "metadata": {
        "id": "mLKy3h_dkubD"
      },
      "source": [
        "from pymorphy2 import MorphAnalyzer"
      ],
      "execution_count": 4,
      "outputs": []
    },
    {
      "cell_type": "code",
      "metadata": {
        "id": "sdMtumtQreE8"
      },
      "source": [
        "import pandas as pd\n",
        "import matplotlib.pyplot as plt\n",
        "import numpy as np"
      ],
      "execution_count": 56,
      "outputs": []
    },
    {
      "cell_type": "markdown",
      "metadata": {
        "id": "Cg3HOxsIhH26"
      },
      "source": [
        "Загрузим корпус"
      ]
    },
    {
      "cell_type": "code",
      "metadata": {
        "colab": {
          "base_uri": "https://localhost:8080/"
        },
        "id": "gQG8YXXqgOfa",
        "outputId": "12f754c6-62c4-418a-e828-d50c2bc6ac28"
      },
      "source": [
        "with open('/content/drive/MyDrive/Colab Notebooks/комп линг/corpus_cleared.json', 'r') as corpus_file:\n",
        "  corpus = json.loads(corpus_file.readline())\n",
        "corpus['0']"
      ],
      "execution_count": 6,
      "outputs": [
        {
          "output_type": "execute_result",
          "data": {
            "text/plain": [
              "{'comments_ids': [1, 2],\n",
              " 'comments_number': 2,\n",
              " 'tags': [],\n",
              " 'text': 'По просьбам трудящихся организовали паблик анкетных знакомств с той же политикой, что и здесь. До 14-го февраля осталось недолго, но, может, вам удастся найти себе компанию на этот день! ',\n",
              " 'type': 'post',\n",
              " 'words_number': 30}"
            ]
          },
          "metadata": {
            "tags": []
          },
          "execution_count": 6
        }
      ]
    },
    {
      "cell_type": "markdown",
      "metadata": {
        "id": "sLoYsO2FhK1G"
      },
      "source": [
        "Проведем предобработку: \n",
        "* удалим пустые документы\n",
        "* разделим текст на токены\n",
        "* переведем их в нижний регистр\n",
        "* удалим знаки препинания"
      ]
    },
    {
      "cell_type": "code",
      "metadata": {
        "id": "WCU2dTwhh0NM"
      },
      "source": [
        "punct_marks = string.punctuation + \"—\" + \"«\" + \"»\""
      ],
      "execution_count": 7,
      "outputs": []
    },
    {
      "cell_type": "code",
      "metadata": {
        "id": "bZgD-z8uhGME"
      },
      "source": [
        "corpus_preprocessed = dict()\n",
        "for doc_id in corpus:\n",
        "  text = word_tokenize(corpus[doc_id]['text'])\n",
        "  if not text:\n",
        "    continue\n",
        "  text = [token.lower() for token in text if token not in punct_marks]\n",
        "  corpus_preprocessed[doc_id] = text"
      ],
      "execution_count": 29,
      "outputs": []
    },
    {
      "cell_type": "code",
      "metadata": {
        "colab": {
          "base_uri": "https://localhost:8080/"
        },
        "id": "ZuxFlb-viESn",
        "outputId": "f4a760d7-9980-4e9a-bb64-e9f85c7721e5"
      },
      "source": [
        "corpus_preprocessed['0']"
      ],
      "execution_count": 32,
      "outputs": [
        {
          "output_type": "execute_result",
          "data": {
            "text/plain": [
              "['по',\n",
              " 'просьбам',\n",
              " 'трудящихся',\n",
              " 'организовали',\n",
              " 'паблик',\n",
              " 'анкетных',\n",
              " 'знакомств',\n",
              " 'с',\n",
              " 'той',\n",
              " 'же',\n",
              " 'политикой',\n",
              " 'что',\n",
              " 'и',\n",
              " 'здесь',\n",
              " 'до',\n",
              " '14-го',\n",
              " 'февраля',\n",
              " 'осталось',\n",
              " 'недолго',\n",
              " 'но',\n",
              " 'может',\n",
              " 'вам',\n",
              " 'удастся',\n",
              " 'найти',\n",
              " 'себе',\n",
              " 'компанию',\n",
              " 'на',\n",
              " 'этот',\n",
              " 'день']"
            ]
          },
          "metadata": {
            "tags": []
          },
          "execution_count": 32
        }
      ]
    },
    {
      "cell_type": "markdown",
      "metadata": {
        "id": "FeQVRQjUk6ED"
      },
      "source": [
        "Создадим частеречную разметку с помощью морфологического анализатора из библиотеки pymorphy2.  \n",
        "При этом удалим из корпуса стоп-слова - предлоги, союзы, частицы и междометия."
      ]
    },
    {
      "cell_type": "code",
      "metadata": {
        "id": "8QbkTp_Rg_I3"
      },
      "source": [
        "morph = MorphAnalyzer()"
      ],
      "execution_count": 10,
      "outputs": []
    },
    {
      "cell_type": "code",
      "metadata": {
        "id": "a_hsVnd1lMIu"
      },
      "source": [
        "for doc_id in corpus_preprocessed:\n",
        "  text = corpus_preprocessed[doc_id]\n",
        "  text_tagged = []\n",
        "  for word in text:\n",
        "    p = morph.parse(word)[0]\n",
        "    pos_tag = p.tag.POS\n",
        "    if pos_tag in ('PREP', 'CONJ', 'PRCL', 'INTJ'):\n",
        "      continue\n",
        "    if pos_tag == 'INFN':\n",
        "      pos_tag = 'VERB'\n",
        "    text_tagged.append((p.normal_form, pos_tag))\n",
        "  corpus_preprocessed[doc_id] = text_tagged"
      ],
      "execution_count": 33,
      "outputs": []
    },
    {
      "cell_type": "code",
      "metadata": {
        "colab": {
          "base_uri": "https://localhost:8080/"
        },
        "id": "aMF7xbNTnZfd",
        "outputId": "41606d67-2cb2-4d8e-d890-22d8d8932f05"
      },
      "source": [
        "corpus_preprocessed['0']"
      ],
      "execution_count": 34,
      "outputs": [
        {
          "output_type": "execute_result",
          "data": {
            "text/plain": [
              "[('просьба', 'NOUN'),\n",
              " ('трудящийся', 'ADJF'),\n",
              " ('организовать', 'VERB'),\n",
              " ('паблик', 'NOUN'),\n",
              " ('анкетный', 'ADJF'),\n",
              " ('знакомство', 'NOUN'),\n",
              " ('тот', 'ADJF'),\n",
              " ('политика', 'NOUN'),\n",
              " ('здесь', 'ADVB'),\n",
              " ('14-й', 'ADJF'),\n",
              " ('февраль', 'NOUN'),\n",
              " ('остаться', 'VERB'),\n",
              " ('недолго', 'ADVB'),\n",
              " ('мочь', 'VERB'),\n",
              " ('вы', 'NPRO'),\n",
              " ('удаться', 'VERB'),\n",
              " ('найти', 'VERB'),\n",
              " ('себя', 'NPRO'),\n",
              " ('компания', 'NOUN'),\n",
              " ('этот', 'ADJF'),\n",
              " ('день', 'NOUN')]"
            ]
          },
          "metadata": {
            "tags": []
          },
          "execution_count": 34
        }
      ]
    },
    {
      "cell_type": "markdown",
      "metadata": {
        "id": "nPtiM1LeRaI2"
      },
      "source": [
        "Посчитаем, сколько раз какая часть речи встретилась в корпусе, и выведем отсортированный список."
      ]
    },
    {
      "cell_type": "code",
      "metadata": {
        "colab": {
          "base_uri": "https://localhost:8080/"
        },
        "id": "7Xm2euCPQmfs",
        "outputId": "4dd1d722-c474-4b2c-fb9e-c715acaaba97"
      },
      "source": [
        "pos_count = dict()\n",
        "for doc_id in corpus_preprocessed:\n",
        "  text = corpus_preprocessed[doc_id]\n",
        "  for item in text:\n",
        "    word, pos_tag = item\n",
        "    if pos_tag in pos_count:\n",
        "      pos_count[pos_tag] += 1\n",
        "    else:\n",
        "      pos_count[pos_tag] = 1\n",
        "pos_count = pd.Series(pos_count)\n",
        "pos_count.sort_values(ascending=False)"
      ],
      "execution_count": 72,
      "outputs": [
        {
          "output_type": "execute_result",
          "data": {
            "text/plain": [
              "NOUN    8301\n",
              "VERB    6819\n",
              "ADJF    3786\n",
              "NPRO    3290\n",
              "ADVB    3006\n",
              "NaN      870\n",
              "PRED     352\n",
              "COMP     290\n",
              "ADJS     258\n",
              "PRTF     117\n",
              "NUMR      87\n",
              "GRND      84\n",
              "PRTS      69\n",
              "dtype: int64"
            ]
          },
          "metadata": {
            "tags": []
          },
          "execution_count": 72
        }
      ]
    },
    {
      "cell_type": "code",
      "metadata": {
        "colab": {
          "base_uri": "https://localhost:8080/"
        },
        "id": "CKadkoQgT2Uz",
        "outputId": "b8409a70-c539-426a-aeb8-b3b63aa230f9"
      },
      "source": [
        "pos_count.sum()"
      ],
      "execution_count": 73,
      "outputs": [
        {
          "output_type": "execute_result",
          "data": {
            "text/plain": [
              "27329"
            ]
          },
          "metadata": {
            "tags": []
          },
          "execution_count": 73
        }
      ]
    },
    {
      "cell_type": "markdown",
      "metadata": {
        "id": "hDdlSzqpq6oC"
      },
      "source": [
        "Посчитаем доли разных частей речи в каждом документе и построим их распределения.  \n",
        "Для тех частей речи, где это осмысленно, выведем тексты, в которых доля отклоняется от средней больше, чем на два стандартных отклонения.\n",
        "\n"
      ]
    },
    {
      "cell_type": "code",
      "metadata": {
        "id": "MOF3buD1q5Uo"
      },
      "source": [
        "pos_ratio = {'NOUN': [], 'ADJF': [], \t'ADJS': [], 'COMP': [],\n",
        "             'VERB': [], 'PRTF': [],\t'PRTS': [], 'GRND': [],\t\n",
        "             'NUMR': [],\t'ADVB': [], 'NPRO': [],\t'PRED': []}\n",
        "             \n",
        "for doc_id in corpus_preprocessed:\n",
        "  text = corpus_preprocessed[doc_id]\n",
        "  text_pos_count = dict()\n",
        "  for item in text:\n",
        "    word, pos_tag = item\n",
        "    if pos_tag in text_pos_count:\n",
        "      text_pos_count[pos_tag] += 1\n",
        "    else:\n",
        "      text_pos_count[pos_tag] = 1\n",
        "\n",
        "  text_pos_count = {key: text_pos_count[key] / len(text) \n",
        "                    for key in text_pos_count}\n",
        "  for pos in pos_ratio:\n",
        "    if pos in text_pos_count:\n",
        "      pos_ratio[pos].append(text_pos_count[pos])\n",
        "    else:\n",
        "      pos_ratio[pos].append(0)"
      ],
      "execution_count": 35,
      "outputs": []
    },
    {
      "cell_type": "code",
      "metadata": {
        "colab": {
          "base_uri": "https://localhost:8080/",
          "height": 203
        },
        "id": "CvpOeb6lvPOp",
        "outputId": "696acefa-4e6e-4dd1-f187-43820100bcae"
      },
      "source": [
        "pos_ratio_df = pd.DataFrame(pos_ratio)\n",
        "pos_ratio_df.head()"
      ],
      "execution_count": 36,
      "outputs": [
        {
          "output_type": "execute_result",
          "data": {
            "text/html": [
              "<div>\n",
              "<style scoped>\n",
              "    .dataframe tbody tr th:only-of-type {\n",
              "        vertical-align: middle;\n",
              "    }\n",
              "\n",
              "    .dataframe tbody tr th {\n",
              "        vertical-align: top;\n",
              "    }\n",
              "\n",
              "    .dataframe thead th {\n",
              "        text-align: right;\n",
              "    }\n",
              "</style>\n",
              "<table border=\"1\" class=\"dataframe\">\n",
              "  <thead>\n",
              "    <tr style=\"text-align: right;\">\n",
              "      <th></th>\n",
              "      <th>NOUN</th>\n",
              "      <th>ADJF</th>\n",
              "      <th>ADJS</th>\n",
              "      <th>COMP</th>\n",
              "      <th>VERB</th>\n",
              "      <th>PRTF</th>\n",
              "      <th>PRTS</th>\n",
              "      <th>GRND</th>\n",
              "      <th>NUMR</th>\n",
              "      <th>ADVB</th>\n",
              "      <th>NPRO</th>\n",
              "      <th>PRED</th>\n",
              "    </tr>\n",
              "  </thead>\n",
              "  <tbody>\n",
              "    <tr>\n",
              "      <th>0</th>\n",
              "      <td>0.333333</td>\n",
              "      <td>0.238095</td>\n",
              "      <td>0.000000</td>\n",
              "      <td>0.000000</td>\n",
              "      <td>0.238095</td>\n",
              "      <td>0.000000</td>\n",
              "      <td>0.0</td>\n",
              "      <td>0.000000</td>\n",
              "      <td>0.0</td>\n",
              "      <td>0.095238</td>\n",
              "      <td>0.095238</td>\n",
              "      <td>0.0</td>\n",
              "    </tr>\n",
              "    <tr>\n",
              "      <th>1</th>\n",
              "      <td>0.407407</td>\n",
              "      <td>0.037037</td>\n",
              "      <td>0.000000</td>\n",
              "      <td>0.037037</td>\n",
              "      <td>0.259259</td>\n",
              "      <td>0.037037</td>\n",
              "      <td>0.0</td>\n",
              "      <td>0.000000</td>\n",
              "      <td>0.0</td>\n",
              "      <td>0.074074</td>\n",
              "      <td>0.148148</td>\n",
              "      <td>0.0</td>\n",
              "    </tr>\n",
              "    <tr>\n",
              "      <th>2</th>\n",
              "      <td>0.190476</td>\n",
              "      <td>0.071429</td>\n",
              "      <td>0.000000</td>\n",
              "      <td>0.023810</td>\n",
              "      <td>0.333333</td>\n",
              "      <td>0.000000</td>\n",
              "      <td>0.0</td>\n",
              "      <td>0.000000</td>\n",
              "      <td>0.0</td>\n",
              "      <td>0.166667</td>\n",
              "      <td>0.214286</td>\n",
              "      <td>0.0</td>\n",
              "    </tr>\n",
              "    <tr>\n",
              "      <th>3</th>\n",
              "      <td>0.466667</td>\n",
              "      <td>0.200000</td>\n",
              "      <td>0.000000</td>\n",
              "      <td>0.000000</td>\n",
              "      <td>0.133333</td>\n",
              "      <td>0.000000</td>\n",
              "      <td>0.0</td>\n",
              "      <td>0.000000</td>\n",
              "      <td>0.0</td>\n",
              "      <td>0.066667</td>\n",
              "      <td>0.000000</td>\n",
              "      <td>0.0</td>\n",
              "    </tr>\n",
              "    <tr>\n",
              "      <th>4</th>\n",
              "      <td>0.260870</td>\n",
              "      <td>0.101449</td>\n",
              "      <td>0.014493</td>\n",
              "      <td>0.014493</td>\n",
              "      <td>0.289855</td>\n",
              "      <td>0.000000</td>\n",
              "      <td>0.0</td>\n",
              "      <td>0.014493</td>\n",
              "      <td>0.0</td>\n",
              "      <td>0.159420</td>\n",
              "      <td>0.130435</td>\n",
              "      <td>0.0</td>\n",
              "    </tr>\n",
              "  </tbody>\n",
              "</table>\n",
              "</div>"
            ],
            "text/plain": [
              "       NOUN      ADJF      ADJS      COMP  ...  NUMR      ADVB      NPRO  PRED\n",
              "0  0.333333  0.238095  0.000000  0.000000  ...   0.0  0.095238  0.095238   0.0\n",
              "1  0.407407  0.037037  0.000000  0.037037  ...   0.0  0.074074  0.148148   0.0\n",
              "2  0.190476  0.071429  0.000000  0.023810  ...   0.0  0.166667  0.214286   0.0\n",
              "3  0.466667  0.200000  0.000000  0.000000  ...   0.0  0.066667  0.000000   0.0\n",
              "4  0.260870  0.101449  0.014493  0.014493  ...   0.0  0.159420  0.130435   0.0\n",
              "\n",
              "[5 rows x 12 columns]"
            ]
          },
          "metadata": {
            "tags": []
          },
          "execution_count": 36
        }
      ]
    },
    {
      "cell_type": "markdown",
      "metadata": {
        "id": "zKJcD-cQufpS"
      },
      "source": [
        "**Существительное**"
      ]
    },
    {
      "cell_type": "code",
      "metadata": {
        "colab": {
          "base_uri": "https://localhost:8080/",
          "height": 265
        },
        "id": "dPPLVOgtvkdV",
        "outputId": "9b858987-5fbf-4ac4-975e-6a8c4958997e"
      },
      "source": [
        "pos_ratio_df['NOUN'].hist();\n",
        "plt.savefig('noun.jpg')"
      ],
      "execution_count": 64,
      "outputs": [
        {
          "output_type": "display_data",
          "data": {
            "image/png": "[encoded data removed]",
            "text/plain": [
              "<Figure size 432x288 with 1 Axes>"
            ]
          },
          "metadata": {
            "tags": [],
            "needs_background": "light"
          }
        }
      ]
    },
    {
      "cell_type": "code",
      "metadata": {
        "colab": {
          "base_uri": "https://localhost:8080/"
        },
        "id": "f7ZHE5uzwWKY",
        "outputId": "677caaae-bc2c-4bad-e4d4-77d9f07b0901"
      },
      "source": [
        "mean_value = pos_ratio_df['NOUN'].mean()\n",
        "std_dev = np.std(pos_ratio_df['NOUN'])\n",
        "print(mean_value, std_dev)\n",
        "print(mean_value - 2 * std_dev, mean_value + 2 * std_dev)\n",
        "\n",
        "extra_texts_dict = pos_ratio_df.query(\n",
        "    'NOUN > @mean_value + 2 * @std_dev | NOUN < @mean_value - 2 * @std_dev')[\n",
        "    'NOUN'].to_dict()\n",
        "for key in extra_texts_dict:\n",
        "  print(str(key) + '. ' + corpus[str(key)]['text'])"
      ],
      "execution_count": 39,
      "outputs": [
        {
          "output_type": "stream",
          "text": [
            "0.31347356472215304 0.1551276653967265\n",
            "0.0032182339287000206 0.6237288955156061\n",
            "8. Главный вопрос, который у меня возникает, а графический планшет-то есть? На нем надо привыкнуть рисовать и потом становится чуть ли не удобнее чем в традишке. Программа при этом особого значения не имеет, основной функционал у них +- один.\n",
            "21. всем привет! мне очень нужна ваша помощь для написания курсовой, пишу на тему \"эмоциональная сфера ЛГБТ\",, внизу будут ссылки на тесты(онлайн), если вам не сложно, пожалуйста, пройдите И ОТПРАВЬТЕ МНЕ СКРИН в лс. Если вы не относитесь к ЛГБТ, то пожалуйста, поделитесь с теми в своем окружении, кто относится. Я буду очень благодарна, помолюсь за вас, можете написать мне, если вам тоже нужна в чем-то помощь, только пройдите, пожалуйста. Я подобную аудиторию могу собрать только в интернете, к сожалению:( лайкните, пожалуйста, или оставьте коммент, чтобы высветилось в ленте:) 1) опросник басса и дарки на враждебность\\агрессивность() 2)шкала депрессии Бека() 3) шкала тревоги () 4)Самочувствие-активность-настроение !обратите внимание как нужно нажимать, много кто путается! () 5) тест на алекситимию ()\n",
            "23. Выдает ошибку... Мы не ошибка! Эй!\n",
            "24. А кому отправить....\n",
            "25. да, кому скидывать?\n",
            "28. Мне искренне жаль то, что вам приходится переживать. У меня было похожее расставание, внезапное, без предпосылок, мучительное. Я не могла находиться в квартире, в которую переехали вместе, тоже кричала от боли и не переставала плакать. Стирала все вещи и рыдала, лишь бы перестать чувствовать его запах. Пожалуйста, держитесь. Обратитесь к специалисту, вам как никогда нужна поддержка. Я очень надеюсь, что вам станет хоть чуточку легче. Пишите, если нужно, я могу вас выслушать и поддержать, как смогу.\n",
            "51. Зайдите в паблик #щастьематеринства, там вроде выкладывают подобные истории\n",
            "62. Не знаю, что посоветовать, но если бы меня назвали быдлом, да не один раз, а десять, оправдывая это тем, что я матерюсь (!! чего), то общение бы завершилось.. На такое нормально обижаться. А вы принимаете лекарства по схеме, которую вам назвал лечащий врач? У некоторых лекарств есть синдром отмены, и самостоятельно корректировать схему лечения не стоит\n",
            "72. Анонимно, пожалуйста. Посоветуйте, пожалуйста, в Инстаграме какие-то блоги о сексе очень крутые, прямо очень крутые а то у меня с этим проблема \n",
            "74. Мне нравится sexinforia, Юлия Ярмоленко. Она специализируется на секс-просвещении детей, подростков и родителей, но мне кажется ее блог просто полезен для здорового отношения к телу и сексу.\n",
            "75. Татьяна Никонова\n",
            "78. Анон Я не умею общаться с людьми. У меня пару подруг. И то, я очень сильно скрываю, кто я есть на самом деле. Так как моя настоящая личность противная как по мне (скорее личный загон, ничего ужасного во мне нет). Проблема в том, что я решила расширить кругозор, и найти подругу на тиндере. Пишут девчонки, и даже со многими общаюсь, но во время диалога у меня мысли: а вдруг, я им не нравлюсь, а вдруг я их достала, если мы встретимся , то я разочарую их. И из-за это я сливаюсь. Сама же. А потом ною, что у меня не выходит никого найти. Последняя моя дружба закончилась словами в мой адрес: лол, у тебя вообще друзья то есть? с тобой кто-то разве будет общаться, кроме кати? это не хило, так ударило по мне, так как я отдавала всю себя ей, вытаскивала ее, поддерживала, но мне еще и говна в конце сказали, не делай добра как говорится... Да, проблема явно во мне. Но что делать? Я хочу общаться, я люблю узнавать новых людей, я люблю слушать их истории, буквально все люблю, но мне нужна отдача, которой я никогда не вижу, мне становится гипер-больно и я сливаюсь... Во время общения, я начинаю сравнивать себя с тем, с кем общаюсь хуже или лучше? не выгляжу как дура, со мной все в порядке, вдруг я посмеюсь над неуместной вещью, блин у нее явно кучу друзей кроме меня, я лохушка боже. И так каждый раз. И просто прогулка на раз меня не устраивает, потому что мне становится больно, будто меня бросили. Что делать??? Может мне навсегда забросить попытку найти новое общение, может это не мое? Или что не так...?\n",
            "93. \"Хочет реабилитироваться\" = \"доводит до слез\". Ну такая себе реабилитация. Скорее \"не съем, так понадкусаю\". Ваши родители вложились в то, чтобы сломать вам психику. Вам еще долго лечить последствия этого. Зачем после этого стискивать зубы и что-то там не омрачать - вообще не понимаю. Вы можете заблокировать ее (так многие делают), можете отмораживаться (мне подошло это больше - но сначала я выносила мать из моей квартиры по мышки, подталкивая коленом под зад, и нажимала отбой на 17 подряд звонков с ее визгами о том, какая я плохая, чтобы она научилась разговаривать со мной так же вежливо, как со всеми остальными). Можно взять тайм-аут от общения с ней под любым предлогом, или звонить ей по своей инициативе, скажем, раз в неделю на 15 минут, все остальное от нее обрывать \"я занята, перезвоню, как смогу\".\n",
            "100. Из ухода оставила только детское мыло для лица, какую то болтушку и крем. Никакой разницы особо не увидела. Крем оставила, потому что сушит кожу от лекарств.\n",
            "111.  (не анонимно) Я опять чувствую себя очень уязвимым. Мне страшно. В горле ком. Уровень тревожности возрос до предела, и я не знаю, что делать. Мне хочется причинить себе боль. Я снова рассорился со своими друзьями, отдалился от них, или же они отдалились от меня. Мне совсем не с кем поговорить. Я живу с бабушкой, которая не понимает, что такое депрессия, тревожность и не признает психические расстройства, кроме, разве что, шизофрении. Она делает вид, что все нормально и хорошо, она не замечает, что я плачу каждый день. Я не осуждаю ее, у нее много своих забот, и я уже совершеннолетний, она не обязана беспокоиться о моем состоянии. Я просто хочу сказать, что мне нужно поговорить с кем-то. Нет, я не хочу поныть кому-то в личку о том, как все плохо. Скорее наоборот. Хочу теплой беседы, хоть какой-нибудь и хоть с кем-то. Буду очень рад, если кто-то откликнется.\n",
            "112. Можешь написать если хочешь)\n",
            "113. Пиши если не гей\n",
            "137. Медикаменты и терапия нужна ему\n",
            "163. Магний нужен хороший,хелатная форма,цитрат или пиколинат,вероятно,заказали на известном сайте и ждёте посылку.А пока к Вашим услугам:ромашка, душица,мелисса,пустырник, донник, зверобой,лаванда, шишки хмеля и т.д.Купите лучше седативный сбор.И пейте на ночь.В ромашке,кстати,много магния.\n",
            "167.  Анонимно. Не могу устроиться на работу из-за страха неудач. Смотрю видео на ютюбе, занимаюсь с психологом на тему критики и неудач, но результата нет. Сама убегаю со стажировки как маленький обиженный ребёнок, когда меня начинают критиковать, считаю себя недостойной, что я не справлюсь с работой и терпеть не могу себя, когда не идеально что-то выполняю. Есть также страх увольнения. Как быть, подскажите, пожалуйста.\n",
            "171. Анонимно Привет. У меня такая ситуация... Родители заставляют ходить в автошколу. Вождение мне дается не очень, а заставить свой мозг даже прочесть билеты для экзамена просто нереально. Кроме того, я считаю общественный транспорт более экологичным. Но не суть. Я не могу уйти, потому что родители уже заплатили... я не могу их разочаровать, я думаю получить права и больше никогда не водить. Но это просто невыносимо. Что делать?\n",
            "178. Да, учить билеты не надо, проходи в приложении билеты и ты автоматически все запомнишь, плюс все билеты которые в приложении - они же и встречаются на экзамене\n",
            "185. Кроме того ты можешь просто гуглить всякие списки 100 вещей которых \"должен\" уметь взрослый человек. Там действительно есть полезные вещи, которые повышают уверенность в себе и которым легко научиться. \n",
            "197. Вам нужно спрашивать об этом на форуме 4pda в профильной теме вашего устройства. Будьте готовы рутировать свой смартфон\n",
            "199. Способ с записью экрана не работает :(\n",
            "200. Анонимно пожалуйста. У меня в душе самая настоящая мелодрама. Не понимаю как мне быть. Я влюбилась в персону, посредством интернет переписки. Это страшно, но то, что вытекает из этого гораздо страшнее. Как об этом сказать? Надо ли, если мы возможно никогда не сможем увидеться? У нас очень хорошее общение, не эгоистично будет ли с моей стороны признаваться? Как подгадать момент?\n",
            "214. Симптомы психиатрические\n",
            "269. лично мне не очень нравится онлайн, но многим друзьям помогает. плюс это дешевле, так что если найти хорошего специалиста, то все путем будет. всем советую клинику Эмпатия.\n",
            "302. На кого учишься? 27 работ или дисциплин закрыть надо?\n",
            "315. В смысле 3200 дорого? Вполне адекватная цена для масс маркета) На самом деле, у меня была похожая история, только в моем случае не было назойливых родственников, а я сама гнобила себя за покупку джинс. Купила их на тысячу дороже, чем покупала обычно. С течением времени оказалось, что эти джинсы были настолько охренительны, насколько это возможно) Так что не бойтесь переплатить за хорошую вещь, высокая цена - это необязательно бренд, это скорее всего ещё и качество, хотя, опять же, 3200 за демисезонную куртку - адекватная цена, если мы не говорим о каких-нибудь рынках или секонд-хендах\n",
            "332. Лосьон isdin nutratopic, и их же гель для душа. Для атопической и сухой кожи, мне помогает, чтоб кожа не пересыхала. Цена, правда, большая. Еще мажусь маслом ши, оно жирное и долго впитывается, но смягчает хорошо. Вообще главное регулярность - если после каждого мытья мазаться, то прям кожа кайфовая делается.\n",
            "341. \"Штук 7\" - это не мало. А на улице знакомятся только неадекваты. Не стоит искать себе девушку таким образом, пожалуйста) Обычно знакомятся через общих знакомых, на тусовках, в кружках каких-нибудь, в интернете И, да, как уже написали выше - почему люди на улице должны на вас смотреть? Кто-то в магазин идет, кто-то на работу, кто-то идет детей забирать из детского сада и т.д. Как-то странно воспринимать улицу как бесплатный притон, вы же взрослый дядя уже почти. Я бы вас на улице вообще просто не увидела бы - я не вижу даже собственной обуви, когда стою.\n",
            "342. Не согласен немного с комментами выше, на счёт не смотрят, потому что ни на кого не смотрят. Не, есть люди с яркой внешностью и харизмой на которых женщины обращают внимание. И планка в снг для мужчин не так высока. Я бы посоветовал вам немного инвестировать в свой гардероб и стильную причёску (если есть подруги с хорошим вкусом, попросите помочь), может быть пара месяцев в спортзале и велика вероятность, что вы эту планку перешагнете. Особенно, если придать образу немного уверенности - хороший одеколон и новые часы, например. Я к чему это все веду, к тому, что встречают, увы, обычно по одежке, а дальше уже как повезёт. Ну и в общении с девушками лучше не выглядеть отчаявшимся в поисках спутницы жизни, а просто получать удовольствие от общения. Куда вероятнее, что такая легкость покажется потенциальной спутнице привлекательной. Дайте себе установку, что за спрос не дают в нос.\n",
            "358. Поддерживаю комментарии выше. А вообще нужно понять, что есть источники стресса, которые вы можете контролировать. И взвесить, чтл для вас важнее - психическое здоровье или быть в курсе всего. Я в своё время отписалась от большинства фем-источников, новости специально смотрю только раз в неделю в сводке. Пространство заполняю темами моих нейтральных увлечений, саморазвитием. Жить определённо стало приятнее и спокойнее) Насчёт учителей в школе - это самый неприятный и труднопоправимый момент. Может быть вам удастся не воспринимать их всерьёз. Будто это не живые сознательные люди с ценным личным мнением, а плохая погода, которая как бы льется на вас, когда вы в белом красивом платье. Да, неприятно, но это же погода - ею никак не поуправлять. И слова этих людей лично к вам не относятся, это дурное радио, которое вы не можете выключить, но и прислушиваться к нему не обязаны.\n",
            "361. Вопросы.. Странные\n",
            "377.  Анон Всем привет Вопрос по диетологии, наверное. Буду рада, если кто-то поможет! Вес у меня в пределах нормы, но набрала в последнее время и пытаюсь скинуть до привычного. Довольно много занимаюсь спортом на дому, поэтому мышечная масса тоже прибавляется, но нет способа определить, где прибавилась она, а где жирок после долгих свиданий со сладостями Да и постоянно слышу, что у женщин мышечная масса набирается как-то по-особенному, так вот, первый вопрос - как и почему? Сейчас сижу на диете, не строгой, просто почти исключила сладкое и уменьшила объем порций. Но что-то ничего не происходит с весом вообще, хотя чувствую себя лучше... Не знаю, возможно, я слишком быстро жду результатов? Просто раньше они были уже после недели, неужели в 24 года уже настолько сложнее скинуть? Так что второй вопрос - какие советы в такой ситуации могут быть, чтоб сбросить 4-5 кг? Спасибо отозвавшимся\n",
            "397. Торопиться не надо, неспешно к лору, на промывание\n",
            "433. Не анонимно. Здравствуйте. Хотелось бы найти человека для взаимоподдержки, душевного отклика. Было бы хорошо, если бы наши интересы были похожи или, если нет, то чтобы меня могли зажечь своими. Хочу изучать английский, заниматься спортом, саморазвитием. Не нахожу таковых людей в своей жизни, а без стимула извне сложнее двигаться в нужном направлении. Кажется будто вся жизнь погрязла в моменте отсроченного счастья, а душа стремится к познанию нового и так хочется дышать идеями и начать жить по-настоящему. Надеюсь на отклик.\n",
            "469. Ко всем советам, что писали выше, хочу добавить, что лучше отдавать собаку стерилизованную, или с условием обязательной стерилизации, так как есть большое количество людей, которые берут породистых собак даже без документов в разведение. Можете заранее составить список вопросов очень подробных: если дети, сколько времени готовы тратить на выгул, как далеко находится ближайшая вет клиника, чем собираетесь кормить и тд. Важно смотреть как человек общается, когда звонит по поводу собаки. Если он раздражён и не понимает зачем вам так много знать о их условиях, то таким людям собаку лучше не отдавать. Они вряд-ли будут присылать отчёты, да и могут посадить на цепь во дворе и кормить кашей. Если есть возможность, то можете предложить человеку приехать на знакомство с собакой и пообщаться лично, посмотреть за его поведением. Если отвозить лично и возникли какие-либо сомнения, то лучше не отдавать. Так же стоит обратить внимание на опыт содержания. Если человек всю жизнь держал Йорков, то хаски для него будет ударом и очень высокие шансы, что он окажется на улице\n",
            "475. Аналогичная проблема. Буквально вчера сходила к психотерапевту, получила рецепт на фенибут, уже чувствую, что становится лучше. Отлично понимаю ваше состояние, когда невозможно не уснуть днём. С этим желанием бесполезно бороться, потому что даже если и не поспишь днём, не факт, что ночью получится раньше и быстрее уснуть. Тут надо именно нервную систему восстанавливать, поэтому советую сходить к психотерапевту.\n",
            "532.  анонимно tw: интимные подробности . . . вопрос к женский аудитории: за последние полгода трижды сталкиваюсь с циститом и каждый раз есть такая закомерность, что он проявляется после полового акта. партнёр постоянный, гигиена соблюдается более чем. читала, что такое часто бывает после полового акта по ряду разных причин, но что с этим делать так и не поняла, врачи пока только симптоматически лечили, но меня это уже так достало. может кто-то сталкивался с такой проблемой и знает какие-то меры профилактики?\n"
          ],
          "name": "stdout"
        }
      ]
    },
    {
      "cell_type": "markdown",
      "metadata": {
        "id": "Tb_zQOcSu6dd"
      },
      "source": [
        "**Глагол**"
      ]
    },
    {
      "cell_type": "code",
      "metadata": {
        "colab": {
          "base_uri": "https://localhost:8080/",
          "height": 265
        },
        "id": "h6XDagPzvvgh",
        "outputId": "492f8b80-62ff-4359-928d-b79310857afe"
      },
      "source": [
        "pos_ratio_df['VERB'].hist();\n",
        "plt.savefig('verb.jpg')"
      ],
      "execution_count": 65,
      "outputs": [
        {
          "output_type": "display_data",
          "data": {
            "image/png": "[encoded data removed]",
            "text/plain": [
              "<Figure size 432x288 with 1 Axes>"
            ]
          },
          "metadata": {
            "tags": [],
            "needs_background": "light"
          }
        }
      ]
    },
    {
      "cell_type": "code",
      "metadata": {
        "colab": {
          "base_uri": "https://localhost:8080/"
        },
        "id": "KzhuYPXVxmoM",
        "outputId": "e1ae7bd4-3ff1-4e79-a863-80272f801ec7"
      },
      "source": [
        "mean_value = pos_ratio_df['VERB'].mean()\n",
        "std_dev = np.std(pos_ratio_df['VERB'])\n",
        "print(mean_value, std_dev)\n",
        "print(mean_value - 2 * std_dev, mean_value + 2 * std_dev)\n",
        "\n",
        "extra_texts_dict = pos_ratio_df.query(\n",
        "    'VERB >= @mean_value + 2 * @std_dev | VERB <= @mean_value - 2 * @std_dev')[\n",
        "    'VERB'].to_dict()\n",
        "for key in extra_texts_dict:\n",
        "  print(str(key) + '. ' + corpus[str(key)]['text'])"
      ],
      "execution_count": 40,
      "outputs": [
        {
          "output_type": "stream",
          "text": [
            "0.26245236866087446 0.1229300283320272\n",
            "0.01659231199682007 0.5083124253249288\n",
            "8. Главный вопрос, который у меня возникает, а графический планшет-то есть? На нем надо привыкнуть рисовать и потом становится чуть ли не удобнее чем в традишке. Программа при этом особого значения не имеет, основной функционал у них +- один.\n",
            "21. всем привет! мне очень нужна ваша помощь для написания курсовой, пишу на тему \"эмоциональная сфера ЛГБТ\",, внизу будут ссылки на тесты(онлайн), если вам не сложно, пожалуйста, пройдите И ОТПРАВЬТЕ МНЕ СКРИН в лс. Если вы не относитесь к ЛГБТ, то пожалуйста, поделитесь с теми в своем окружении, кто относится. Я буду очень благодарна, помолюсь за вас, можете написать мне, если вам тоже нужна в чем-то помощь, только пройдите, пожалуйста. Я подобную аудиторию могу собрать только в интернете, к сожалению:( лайкните, пожалуйста, или оставьте коммент, чтобы высветилось в ленте:) 1) опросник басса и дарки на враждебность\\агрессивность() 2)шкала депрессии Бека() 3) шкала тревоги () 4)Самочувствие-активность-настроение !обратите внимание как нужно нажимать, много кто путается! () 5) тест на алекситимию ()\n",
            "34. Живу с депрессией уже несколько лет, прохожу лечение и мне становится лучше) порой тоже испытываю такие чувства, которые ты (ничего, что я на ты?) описала, но я стараюсь верить в лучшее) не знаю, смогу ли чем-то помочь, но можем поговорить, я знаю, каково это - жить не видя смысла\n",
            "72. Анонимно, пожалуйста. Посоветуйте, пожалуйста, в Инстаграме какие-то блоги о сексе очень крутые, прямо очень крутые а то у меня с этим проблема \n",
            "74. Мне нравится sexinforia, Юлия Ярмоленко. Она специализируется на секс-просвещении детей, подростков и родителей, но мне кажется ее блог просто полезен для здорового отношения к телу и сексу.\n",
            "75. Татьяна Никонова\n",
            "76. nochnajaskazka\n",
            "87. Очень много писанины, но может кто сможет подсказать что делать. Я второй ребенок в семье. С сестрой разница 10 лет. Она всегда была сильная, пробивная, всегда добивалась своего. Мои родители меня вроде как хотели, и мечтали что я стану той, кем они не смогли стать, и что не смогла старшая сестра. Я росла неуклюжей, мне не давались танцы на которые меня так упорно тащили. Была слаба в математике, чем вызывала только раздражение родителей. В общем по многим пунктам не оправдывала их ожиданий. Хоть рукоприкладство и мат у нас были под запретом ( так как наша семья должна быть образцовой), они прекрасно владели психилогическим насилием. Возрасте 10 лет из за этого начались открытые конфликты с их подачи. Я хоть безумно жаждала их любви, стала замыкаться в семье. Ведь на все что я делала были стабильные 2 ответа \"тебе просто повезло\" и \" сама виновата\". В 13 лет меня изнасиловали, но я даже побоялась признаться в этом матери. Боялась, что она реально меня убьет, так как наша семья должна выглядеть образцовой. После этого начались проблемы с учебой вплоть до окончания колледжа, и как только получилось, я съехала. Сейчас мне 23 и мать упорно пишет и спрашивает как мои дела, как личная жизнь. Она уже в возрасте, и мне кажется что она просто под старость пытается реабилитироваться. Но мне больно даже получать от нее сообщения, которые обычно закачиваются моими слезами. И вот собственно вопрос : Стоит ли мне высказать матери все что накипело, что бы она перестала пытаться со мной контактировать. Или же стиснуть зубы и пытаться поддерживать какое то подобие общения, что бы не омрачать ее старость?\n",
            "93. \"Хочет реабилитироваться\" = \"доводит до слез\". Ну такая себе реабилитация. Скорее \"не съем, так понадкусаю\". Ваши родители вложились в то, чтобы сломать вам психику. Вам еще долго лечить последствия этого. Зачем после этого стискивать зубы и что-то там не омрачать - вообще не понимаю. Вы можете заблокировать ее (так многие делают), можете отмораживаться (мне подошло это больше - но сначала я выносила мать из моей квартиры по мышки, подталкивая коленом под зад, и нажимала отбой на 17 подряд звонков с ее визгами о том, какая я плохая, чтобы она научилась разговаривать со мной так же вежливо, как со всеми остальными). Можно взять тайм-аут от общения с ней под любым предлогом, или звонить ей по своей инициативе, скажем, раз в неделю на 15 минут, все остальное от нее обрывать \"я занята, перезвоню, как смогу\".\n",
            "111.  (не анонимно) Я опять чувствую себя очень уязвимым. Мне страшно. В горле ком. Уровень тревожности возрос до предела, и я не знаю, что делать. Мне хочется причинить себе боль. Я снова рассорился со своими друзьями, отдалился от них, или же они отдалились от меня. Мне совсем не с кем поговорить. Я живу с бабушкой, которая не понимает, что такое депрессия, тревожность и не признает психические расстройства, кроме, разве что, шизофрении. Она делает вид, что все нормально и хорошо, она не замечает, что я плачу каждый день. Я не осуждаю ее, у нее много своих забот, и я уже совершеннолетний, она не обязана беспокоиться о моем состоянии. Я просто хочу сказать, что мне нужно поговорить с кем-то. Нет, я не хочу поныть кому-то в личку о том, как все плохо. Скорее наоборот. Хочу теплой беседы, хоть какой-нибудь и хоть с кем-то. Буду очень рад, если кто-то откликнется.\n",
            "112. Можешь написать если хочешь)\n",
            "113. Пиши если не гей\n",
            "135. Я был в относительно схожей ситуации пару лет назад. В конце концов я пришёл к такому выводу: если человек сам не решит дать кому-либо возможность повлиять на своё состояние, по-другому не получится. Ты можешь сколько угодно помогать, подбирать самые прекрасные слова от души, поддерживать и т.п., но надо начать с того, что человек сам должен хотеть, чтобы ему помогли. Без этого даже самых колоссальных усилий не хватит на то, чтобы выправить ситуацию. Даже чуть-чуть. Зато можно словить сильнейшее эмоциональное выгорание. Это не призыв к тому, чтобы бросить близкого Вам человека, но будьте внимательны не изматывайте себя и не жертвуйте своим собственным здоровьем. Ни в коем случае.\n",
            "178. Да, учить билеты не надо, проходи в приложении билеты и ты автоматически все запомнишь, плюс все билеты которые в приложении - они же и встречаются на экзамене\n",
            "185. Кроме того ты можешь просто гуглить всякие списки 100 вещей которых \"должен\" уметь взрослый человек. Там действительно есть полезные вещи, которые повышают уверенность в себе и которым легко научиться. \n",
            "189. Анон, пожалуйста. Вопрос связанный с учебой, постараюсь расписать максимально детально, так что текст большой получается. Учусь в худ.училище, поступала после 9-ого класса, выпускной курс, до пред-дипломных работ осталось недолго. Встал вопрос об уходе оттуда. Первоначально поступала по собственному желанию и примерно до 2-ого курса любила учиться там, пока интерес не стал пропадать. Стала прогуливать, конфликты с родными, конфликты с преподавателями. Родня уговаривала по разному, \"ты по своему желанию решила туда поступать, ну доучить еще, дальше станет легче, если бросишь потом вернуться не сумеешь (после первого курса увеличили цену на обучение в разы), будь хотя бы одной из семьи со спец.образованием, у тебя нет 11 классов, что делать будешь вообще\". Я осталась на учебе кое-как скрипя зубами, на третьем курсе второго семестра из-за нервного срыва хотела бросить все, но родные договорили за меня (опять же, из-за нервного срыва мне сказали что-то примерно \"ты сейчас не понимаешь что хочешь, вот и все\".) на академический. Пока была на академическом более точнее определялась чем хочу заниматься, да занималась фрилансом\\коммишинами (3д, анимация и хотел пробовать себя в рисование на заказ, но тогда был месяц до конца академического). Достаточно все хорошо было, если бы не \"мне возвращаться на учебу надо будет скоро, я не могу заниматься этим полноценно\", я думаю и дальше бы занималасьточнее уверена. По возвращение в училище попала в достаточно мирную группу (до академического училась в конфликтной группе, перевод в другую был невозможен), правда потом случилось обучение на удаленке, которое подпортило хорошо так ментальную систему, хоть я и мог благодаря удаленке выделять время на любимое дело. Теперь же четвёртый курс. Мое желание обучаться совершенно нет и хочется просто уйти. Единственное что меня держало, это возможность написать диплом с преподавателем, который ЕДИНСТВЕННЫЙ давал мне знания и перед академическим защищал меня, даже это меня не держит, так как дипломы он больше не принимает (возраст, много нагрузки), даже не по причине моей бездарности. На плечах множество долгов, которые я даже один не могу закрыть уже второй месяц. С финансами стало безумно проблематично в разы, поскольку мать уволили с работы, а она единственная кто зарабатывает, так как я учусь и с моей нагрузкой на учебе невозможно совмещать с какой-либо работой. Совесть гложет, ибо что сейчас я трачу деньги матери, а если я уйду она сердечный приступ тот такого схватит. Но при этом слышу со всех краев как кто-то уходит с 4-ого курса, а то и прямо во время диплома, то как все перепоступают или как и я сидят \"ради корочки\", а потом работают абсолютно в другой сфере, но при этом слышу истории постоянно на тему \"корка нужна, как подушка безопасности\", при том что с моей ментальной системой и с моим уже решеным путем чем я хочу заниматься мало вероятно что я в принципе найду работу, в которой я выживу. Я откровенно говоря не знаю что мне делать и я запуталась, ждать когда меня вышвырнуть саму из колледжа, самой забрать документы или же вообще доучиться, добить себя окончательно и глядеть на эту корочку, котораябудет лежать у меня и все. У меня буквально жизнь стала похожа на \"пока диплом не закончится - никакой своей деятельности и желаний\", но при этом не хочу принести никому боли, даже не столько боюсь за отсутвие корки возможно. Не знаю. Может быть у кого-то был опыт с уходом или посоветовать может что-то, если оставаться, уходить, не уходить. Кажется ничего не пропустила\n",
            "212. Бывают ситуации, когда как раз психиатр и помог бы все хоть немного наладить. И в этом нет ничего такого, бояться туда идти - еще больше усугублять проблему Если есть деньги, можно попробовать платного, дабы уменьшить риск проблем в будущем\n",
            "214. Симптомы психиатрические\n",
            "233. Можно попробовать вам лично с ней не общаться и никак не взаимодействовать. Пусть он отдельно общается, раз ему так хочется. С некоторыми людьми мы действительно несовместимы... Но дистанция восстанавливает гармонию.\n",
            "247. Какие традиции идиотские в мире существуют, сами себе правила выдумали, такой бред\n",
            "332. Лосьон isdin nutratopic, и их же гель для душа. Для атопической и сухой кожи, мне помогает, чтоб кожа не пересыхала. Цена, правда, большая. Еще мажусь маслом ши, оно жирное и долго впитывается, но смягчает хорошо. Вообще главное регулярность - если после каждого мытья мазаться, то прям кожа кайфовая делается.\n",
            "341. \"Штук 7\" - это не мало. А на улице знакомятся только неадекваты. Не стоит искать себе девушку таким образом, пожалуйста) Обычно знакомятся через общих знакомых, на тусовках, в кружках каких-нибудь, в интернете И, да, как уже написали выше - почему люди на улице должны на вас смотреть? Кто-то в магазин идет, кто-то на работу, кто-то идет детей забирать из детского сада и т.д. Как-то странно воспринимать улицу как бесплатный притон, вы же взрослый дядя уже почти. Я бы вас на улице вообще просто не увидела бы - я не вижу даже собственной обуви, когда стою.\n",
            "342. Не согласен немного с комментами выше, на счёт не смотрят, потому что ни на кого не смотрят. Не, есть люди с яркой внешностью и харизмой на которых женщины обращают внимание. И планка в снг для мужчин не так высока. Я бы посоветовал вам немного инвестировать в свой гардероб и стильную причёску (если есть подруги с хорошим вкусом, попросите помочь), может быть пара месяцев в спортзале и велика вероятность, что вы эту планку перешагнете. Особенно, если придать образу немного уверенности - хороший одеколон и новые часы, например. Я к чему это все веду, к тому, что встречают, увы, обычно по одежке, а дальше уже как повезёт. Ну и в общении с девушками лучше не выглядеть отчаявшимся в поисках спутницы жизни, а просто получать удовольствие от общения. Куда вероятнее, что такая легкость покажется потенциальной спутнице привлекательной. Дайте себе установку, что за спрос не дают в нос.\n",
            "357. Стресс - это последний вариант когда другие болезни были исключены. Идите к кардиологу или к терапевту, не запускайте ситуацию. Может стать еще хуже. Лучше перебдеть чем недобдеть.\n",
            "358. Поддерживаю комментарии выше. А вообще нужно понять, что есть источники стресса, которые вы можете контролировать. И взвесить, чтл для вас важнее - психическое здоровье или быть в курсе всего. Я в своё время отписалась от большинства фем-источников, новости специально смотрю только раз в неделю в сводке. Пространство заполняю темами моих нейтральных увлечений, саморазвитием. Жить определённо стало приятнее и спокойнее) Насчёт учителей в школе - это самый неприятный и труднопоправимый момент. Может быть вам удастся не воспринимать их всерьёз. Будто это не живые сознательные люди с ценным личным мнением, а плохая погода, которая как бы льется на вас, когда вы в белом красивом платье. Да, неприятно, но это же погода - ею никак не поуправлять. И слова этих людей лично к вам не относятся, это дурное радио, которое вы не можете выключить, но и прислушиваться к нему не обязаны.\n",
            "361. Вопросы.. Странные\n",
            "384. Хочу Вас поддержать! Вы уже молодец, потому, что обдумываете ситуацию, в частности даже написали сюда. Мне очень знакома тема того, что родители просто не понимают зачем их ребёнку помощь специалиста (психолога или психотерапевта). И слова родителей о том, что визиты к таким специалистам - это напрасная трата денег я тоже слышала часто. У меня есть диагноз и инвалидность, но не в ментальной сфере, теперь добавились ещё психологические проблемы, которые пока не лечу. Согласна с комментариями выше, что нужен зож (нормальное питание) и режим дня. Это банальные вещи, но ментальное здоровье зависит от физического. Лично мне (и мне так советовала психолог) помогало составлять план. Вести дневник и ежедневник. Не зацикливайтесь на том, как Вас оценивают родители. Попробуйте посмотреть специалистов, которые работают онлайн (это дешевле). Иногда врачи работают с пациентами не только из РФ.\n",
            "397. Торопиться не надо, неспешно к лору, на промывание\n",
            "433. Не анонимно. Здравствуйте. Хотелось бы найти человека для взаимоподдержки, душевного отклика. Было бы хорошо, если бы наши интересы были похожи или, если нет, то чтобы меня могли зажечь своими. Хочу изучать английский, заниматься спортом, саморазвитием. Не нахожу таковых людей в своей жизни, а без стимула извне сложнее двигаться в нужном направлении. Кажется будто вся жизнь погрязла в моменте отсроченного счастья, а душа стремится к познанию нового и так хочется дышать идеями и начать жить по-настоящему. Надеюсь на отклик.\n",
            "469. Ко всем советам, что писали выше, хочу добавить, что лучше отдавать собаку стерилизованную, или с условием обязательной стерилизации, так как есть большое количество людей, которые берут породистых собак даже без документов в разведение. Можете заранее составить список вопросов очень подробных: если дети, сколько времени готовы тратить на выгул, как далеко находится ближайшая вет клиника, чем собираетесь кормить и тд. Важно смотреть как человек общается, когда звонит по поводу собаки. Если он раздражён и не понимает зачем вам так много знать о их условиях, то таким людям собаку лучше не отдавать. Они вряд-ли будут присылать отчёты, да и могут посадить на цепь во дворе и кормить кашей. Если есть возможность, то можете предложить человеку приехать на знакомство с собакой и пообщаться лично, посмотреть за его поведением. Если отвозить лично и возникли какие-либо сомнения, то лучше не отдавать. Так же стоит обратить внимание на опыт содержания. Если человек всю жизнь держал Йорков, то хаски для него будет ударом и очень высокие шансы, что он окажется на улице\n",
            "475. Аналогичная проблема. Буквально вчера сходила к психотерапевту, получила рецепт на фенибут, уже чувствую, что становится лучше. Отлично понимаю ваше состояние, когда невозможно не уснуть днём. С этим желанием бесполезно бороться, потому что даже если и не поспишь днём, не факт, что ночью получится раньше и быстрее уснуть. Тут надо именно нервную систему восстанавливать, поэтому советую сходить к психотерапевту.\n",
            "481. Вижу \"младости\" вместо \"молодости\", всякие \"быхом\" там есть разные формы глаголов прошедшего времени (но я их не особо помню, вы скорее всего помните и найдете больше, или возьмите учебник, там должны быть таблицы), словом, помочь сделать не могу, но совет: начните с фонетики и морфологии, найдите что-нибудь на каждый пункт по ним, а когда вы прочешете фонетику и морфологию, вам и на всё остальное какие-нибудь примеры в голову придут, вот всякие \"идолопоклонники\" это сложные слова, религиозная лексика тоже в изобилии.\n",
            "539. А мне помогает фитолизин (но походу он не лечит, а снимает симптомы)\n",
            "545. я согласен в целом, мысль дельная а мир - многообразный, это правда но вот....я, в общем-то, всегда был бодрячком, но в какой-то момент бодряковости поменьше стало. пошёл к психотерапевтке, она выписала мне таблетки.....и через месяц я заметил, что голова поднимается вверх и разглядывает фасады старых домов, когда я иду на работу. это было прекрасно! но чтобы это испытать, мне, бодряковому в некотором роде типу, пришлось пропить таблетки. иногда - шея не поднимается, понимаете, человек бы и рад посмотреть вверх,, но или шея не поднимается или черная пелена в верхней части обзора и такое бывает и вообще нередко бывает. жизнь посложнее, чем - \"погляди на небо, эть там красота то, радуйся)\"\n"
          ],
          "name": "stdout"
        }
      ]
    },
    {
      "cell_type": "markdown",
      "metadata": {
        "id": "FWpSchl4vBzt"
      },
      "source": [
        "**Прилагательное (полное)**"
      ]
    },
    {
      "cell_type": "code",
      "metadata": {
        "colab": {
          "base_uri": "https://localhost:8080/",
          "height": 265
        },
        "id": "5viM-V2ewCk1",
        "outputId": "f0b4472d-d195-40dc-a70a-224ccb926b20"
      },
      "source": [
        "pos_ratio_df['ADJF'].hist();\n",
        "plt.savefig('adjf.jpg')"
      ],
      "execution_count": 66,
      "outputs": [
        {
          "output_type": "display_data",
          "data": {
            "image/png": "[encoded data removed]",
            "text/plain": [
              "<Figure size 432x288 with 1 Axes>"
            ]
          },
          "metadata": {
            "tags": [],
            "needs_background": "light"
          }
        }
      ]
    },
    {
      "cell_type": "code",
      "metadata": {
        "colab": {
          "base_uri": "https://localhost:8080/"
        },
        "id": "Y8Bi_JV9xsvk",
        "outputId": "c7ec4a95-c316-46dc-9b62-2b8bf60ae76f"
      },
      "source": [
        "mean_value = pos_ratio_df['ADJF'].mean()\n",
        "std_dev = np.std(pos_ratio_df['ADJF'])\n",
        "print(mean_value, std_dev)\n",
        "print(mean_value - 2 * std_dev, mean_value + 2 * std_dev)\n",
        "\n",
        "extra_texts_dict = pos_ratio_df.query(\n",
        "    'ADJF >= @mean_value + 2 * @std_dev | ADJF <= @mean_value - 2 * @std_dev')[\n",
        "    'ADJF'].to_dict()\n",
        "for key in extra_texts_dict:\n",
        "  print(str(key) + '. ' + corpus[str(key)]['text'])"
      ],
      "execution_count": 41,
      "outputs": [
        {
          "output_type": "stream",
          "text": [
            "0.12477957946682847 0.08619082380652973\n",
            "-0.047602068146231 0.2971612270798879\n",
            "30. Поддержка Вам. Жить одному в квартире, где раньше счастливо жили с любимым человеком - знакомо. Очень всё напоминает. Надеюсь, вы сможете съехать, как можно быстрее.\n",
            "131. Тоже думаю, что это даже мило. Значит, настоящие чувства испытываете, боитесь \"не в лучшем\" свете перед человеком показаться, хотите быть хорошими друг для друга. Прелесть какая. Я бы на самом деле пустил такое на самотёк. Пусть бы такие заигрывания имели место в жизни. К чему-то большему никогда не поздно прийти, а этих эмоций можно и не найти потом уже. Наслаждайтесь и будьте счастливы :)\n",
            "193. Вы уже на финальном пути, может занять денег на обучение у кого-то из родственников или друзей?\n",
            "199. Способ с записью экрана не работает :(\n",
            "212. Бывают ситуации, когда как раз психиатр и помог бы все хоть немного наладить. И в этом нет ничего такого, бояться туда идти - еще больше усугублять проблему Если есть деньги, можно попробовать платного, дабы уменьшить риск проблем в будущем\n",
            "245. боже, мало чем могу помочь, но отпишитесь потом, пожалуйста, как вы, и все ли удалось! сил вам:( лучше всего обратиться в какой-либо фонд помощи женщинам, где есть не только помощь с жильем, но и, что важно, юристы. можете найти соседку в паблике \"сестра сестре\" и уехать на съёмную квартиру в любой другой город, если запас денег позволяет. ситуация, как я понимаю, срочная. касательно работы, в больших городах очень много вакансий касательно сферы обслуживания. платят не очень много, естественно, но возьмут быстро и необходимый минимум наработать можно будет, чтобы были финансы на жизнь. естественно, не рассказывайте родственникам, куда вы уехали, симки и страницы лучше сменить. удачи вам!\n",
            "255. Вас мучит прокрастинация? Тогда изучите таймменеджмент.\n",
            "357. Стресс - это последний вариант когда другие болезни были исключены. Идите к кардиологу или к терапевту, не запускайте ситуацию. Может стать еще хуже. Лучше перебдеть чем недобдеть.\n",
            "358. Поддерживаю комментарии выше. А вообще нужно понять, что есть источники стресса, которые вы можете контролировать. И взвесить, чтл для вас важнее - психическое здоровье или быть в курсе всего. Я в своё время отписалась от большинства фем-источников, новости специально смотрю только раз в неделю в сводке. Пространство заполняю темами моих нейтральных увлечений, саморазвитием. Жить определённо стало приятнее и спокойнее) Насчёт учителей в школе - это самый неприятный и труднопоправимый момент. Может быть вам удастся не воспринимать их всерьёз. Будто это не живые сознательные люди с ценным личным мнением, а плохая погода, которая как бы льется на вас, когда вы в белом красивом платье. Да, неприятно, но это же погода - ею никак не поуправлять. И слова этих людей лично к вам не относятся, это дурное радио, которое вы не можете выключить, но и прислушиваться к нему не обязаны.\n",
            "359. Здравствуйте, я студентка второго курса направления клиническая психология. Сейчас я пишу курсовую работу на тему особенности связи копинг-стратегий и творческого потенциала личности молодых людей. Буду благодарна, если люди до 30 лет помогут мне, выступив в качестве респондентов. Тестирование должно занять около 20 минут, там 5 тестов, нужно проходить, пока не появится окно с результатом. Спасибо \n",
            "410. Почитайте про активное слушание. У вас должно очень хорошо получиться - вы искренни и умеете сопереживать и сами все глубоко чувствуете. Обнимать не обязательно) И позаботьтесь о том, чтобы люди вокруг вас говорили вам, за что они вас ценят в целом и конкретно за что благодарны/рады в отдельных ситуациях - предполагаю, что источник вопроса - отсутствие такой позитивной обратной связи\n",
            "494. конечно, первый совет это пойти к врачу, у вас такие мешающие симптомы уже который день. Конечно, у вас не рак, это скорее всего реакция именно на клетчатку. Когда с диеты почти без клетчатки резко переходишь на более здоровую диету, организму нужно перестроиться. Дело в том что клетчатка стимулирует пищеварение, и с непривычки кишечнику тяжело. Ну и в принципе новые бактерии там развиваются раз у вас диета новая. Причина скорее всего в резком переходе на другое питание.\n",
            "515. Поймите, у вашей подруги другие взгляды на жизнь, потому поднимать такие темы не стоит. Тем более вы знаете как реакция последует. Старайтесь обходить эту тему стороной, и говорить о чем-нибудь другом. Сейчас много пабликов с направлением феминизма , потому можете там найти себе единомышленницу.\n",
            "539. А мне помогает фитолизин (но походу он не лечит, а снимает симптомы)\n",
            "543. Ваш взгляд не лишен здравого смысла, да, в мире есть и красивые вещи, и доброта есть, но вот назидательный тон все портит. Извините, как будто детей жизни учите. Я не знаю, кто смотрит на мир настолько однобоко. Как оно бывает? Начальник наорал, муж/жена нахамил, люди выговорились, и потом у них снова хорошее настроение. Либо у человека столько проблем, что ему не до цвета неба. Либо глубокая депрессия.\n",
            "545. я согласен в целом, мысль дельная а мир - многообразный, это правда но вот....я, в общем-то, всегда был бодрячком, но в какой-то момент бодряковости поменьше стало. пошёл к психотерапевтке, она выписала мне таблетки.....и через месяц я заметил, что голова поднимается вверх и разглядывает фасады старых домов, когда я иду на работу. это было прекрасно! но чтобы это испытать, мне, бодряковому в некотором роде типу, пришлось пропить таблетки. иногда - шея не поднимается, понимаете, человек бы и рад посмотреть вверх,, но или шея не поднимается или черная пелена в верхней части обзора и такое бывает и вообще нередко бывает. жизнь посложнее, чем - \"погляди на небо, эть там красота то, радуйся)\"\n"
          ],
          "name": "stdout"
        }
      ]
    },
    {
      "cell_type": "markdown",
      "metadata": {
        "id": "bqJJmI8MvEqG"
      },
      "source": [
        "**Наречие**"
      ]
    },
    {
      "cell_type": "code",
      "metadata": {
        "colab": {
          "base_uri": "https://localhost:8080/",
          "height": 265
        },
        "id": "dtPiIGAly9Nc",
        "outputId": "d63bcac1-5189-4c82-c266-4a03bd9634ed"
      },
      "source": [
        "pos_ratio_df['ADVB'].hist();"
      ],
      "execution_count": 49,
      "outputs": [
        {
          "output_type": "display_data",
          "data": {
            "image/png": "[encoded data removed]",
            "text/plain": [
              "<Figure size 432x288 with 1 Axes>"
            ]
          },
          "metadata": {
            "tags": [],
            "needs_background": "light"
          }
        }
      ]
    },
    {
      "cell_type": "code",
      "metadata": {
        "colab": {
          "base_uri": "https://localhost:8080/"
        },
        "id": "v5erGWdMzEhV",
        "outputId": "dc19706e-fb47-41d7-d7c9-2c63553bb370"
      },
      "source": [
        "mean_value = pos_ratio_df['ADVB'].mean()\n",
        "std_dev = np.std(pos_ratio_df['ADVB'])\n",
        "print(mean_value, std_dev)\n",
        "print(mean_value - 2 * std_dev, mean_value + 2 * std_dev)\n",
        "\n",
        "extra_texts_dict = pos_ratio_df.query(\n",
        "    'ADVB >= @mean_value + 2 * @std_dev | ADVB <= @mean_value - 2 * @std_dev')[\n",
        "    'ADVB'].to_dict()\n",
        "for key in extra_texts_dict:\n",
        "  print(str(key) + '. ' + corpus[str(key)]['text'])"
      ],
      "execution_count": 52,
      "outputs": [
        {
          "output_type": "stream",
          "text": [
            "0.10643859724582592 0.07951952475753395\n",
            "-0.05260045226924197 0.2654776467608938\n",
            "59. Из учебника \"Акушерство\" Во время беременности в организме женщины происходят существенные изменения, касающиеся практически всех систем организма. Изменения психологического состояния проявляются в виде эмоциональных ощущений: раздражительность, депрессия и др. На развитие психологических нарушений во время беременности влияют следующие факторы: гормональные и физиологические изменения; личные свойства; социально-экономический статус; отношение в семье; нерешенные конфликты; генетическая предрасположенность (например, депрессии) физические и психические заболевания; употребление алкоголя и наркотиков. Эмоциональные и физические ощущения будущих матерей врачам необходимо учитывать при надзоре за ходом беременности, в родах и в послеродовом периоде. Во время беременности довольно часто возникают типичные дискомфортные состояния, не имеющие серьезных последствий, но приводят к значительному дискомфорта и неприятных ощущений у беременной. К таким состояниям следует относить: усталость, утреннюю тошноту , изжогу, запоры, боли в спине, геморрой, отеки ног. Своевременное разъяснение беременной о сути таких ощущений и профессиональные советы врача значительно улучшат качество жизни беременной. Иммунная система В период беременности возникает состояние физиологической иммуносупрессии. Наблюдается снижение иммунных реакций женщины на фоне незрелости антигенной системы плода. Функции иммунологического барьера, препятствующего отторжению плодного яйца, выполняют плацента, плодовые оболочки и околоплодные воды. эндокринная система Для возникновения и нормального течения беременности необходимые условия, в обеспечении которых важнейшую роль играют железы внутренней секреции. Эндокринная система Для возникновения и нормального течения беременности необходимые условия, в обеспечении которых важнейшую роль играют железы внутренней секреции. Гипофиз. Передняя доля гипофиза (аденогипофиз) во время беременности увеличивается в 2-3 раза. В ней происходит значительная морфологическая перестройка: увеличивается продукция гонадотропных гормонов, способствующих развитию желтого тела и вместе с эстрогенами и прогестероном влияют на изменения в грудных железах. Повышается образование ТТГ и АКТГ, гормона роста (соматотропного). В задней доле гипофиза (нейрогипофиз) накапливаются нейрогормоны - окситоцин и вазопрессин. Секреция гормонов гипофиза происходит под регулировочным влиянием гипоталамуса и коры головного мозга. Щитовидная железа увеличивается в размерах в 35-40% беременных. В первой половине беременности наблюдается ее гиперфункция, во второй половине - гипофункция. Содержание гормонов в плазме существенно не меняется. Паращитовидные железы. Во время беременности часто возникает тенденция к гипофункции паращитовидных желез, что может привести к нарушению обмена кальция, астматических проявлений, ощущение жжения, спастических нарушений (судороги в икроножных мышцах). Надпочечники усиливают продукцию глюкокортикоидов, регулирующих углеводный и белковый обмен и минералокортикоидов, регулирующих минеральный обмен. Под влиянием функционирования надпочечников повышается содержание в крови холестерина и других липидов, усиливается пигментация кожи. Яичники. В самом начале беременности в яичнике развивается новая железа внутренней секреции - желтое тело, выделяет гормон (прогестерон), который снижает возбудимость и сократительную способность матки, что создает благоприятные условия для имплантации и развития беременности. Желтое тело активно функционирует и обеспечивает развитие беременности в первые 10 - 12 недель. Затем оно начинает постепенно регрессировать, и до 16-й недели беременности гормональную функцию практически полностью берет на себя фетоплацентарный комплекс. В период всей беременности в яичниках фолликулы созревают, и овуляция не происходит, однако продукция эстрогенов продолжается. Эстрогены наравне с прогестероном стимулируют рост матки и молочных желез. Плацента. С 7-го дня беременности отмечается рост концентраций хорионического гонадотропина человека (бета-ХГЧ) и прогестерона, эстрогены синтезируются преимущественно комплексом плацента-плод с метаболитов холестерина матери, а их продукция в норме неуклонно увеличивается, что обеспечивает рост и развитие матки, регуляцию биохимических процессов в миометрия, увеличение активности ферментных систем, повышение энергетического обмена, накопления гликогена и АТФ. Плацентарный лактоген (ПЛ) - образуется синцитиотрофобласта плаценты с 5-6-й недели беременности (90% ПЛ находится в плазме беременной и 10% - в амниотической жидкости), и его максимальная концентрация определяется на 36-37 неделе беременности, затем его уровень стабилизируется и начинает снижаться с 40-41-й недели беременности. Концентрация ПЛ прямо коррелирует с массой плода и резко возрастает в случае заболевания почек у матери. Центральная нервная система Возбудимость коры головного мозга снижается до 3-4-го месяца, а затем постепенное повышение возбудимости (связано с формированием в коре головного мозга очага повышенной возбудимости - гестационной доминанты, проявляется определенной заторможенностью беременной и направлением ее интересов на вынашивание беременности). Характерна пониженная возбудимость отделов ЦНС, расположенных ниже, а также рефлекторного аппарата матки. Накануне родов возбудимость спинного мозга и нервных элементов матки увеличивается. Изменяется тонус вегетативной нервной системы, что приводит на ранних сроках беременности такие симптомы, как сонливость, повышенную раздражительность, плаксивость, головокружение. Сердечно-сосудистая система Изменения со стороны сердечно-сосудистой системы связаны с появлением дополнительного плацентарного круга кровообращения, со значительным увеличением сетки кровеносных сосудов матки и молочных желез, увеличением объема крови, смещением сердца под влиянием диафрагмы, которая поднялась. Наблюдаются физиологическая гипертрофия волокон миокарда и усиление его сократительной функции. Во время беременности развивается физиологическая гиперволемия, что является одним из основных механизмов, что является одним из основных механизмов, поддерживают оптимальные условия микроциркуляции в плаценте и жизненно важных органах беременной (сердце, мозг, печень, почки). Объем циркулирующей крови начинает увеличиваться уже в I триместре беременности, достигая максимума к 29 - 36-й недели, преимущественно за счет объема циркулирующей плазмы, возрастает с 10-й недели беременности и достигает максимума на 28-32-й неделе. ОЦП увеличивается почти на 25-47% и до родов составляет 3900 - 4000 мл. Благодаря сосудорасширяющему эффекту прогестерона артериальное давление заметно снижается и остается таким до 24-й недели беременности. Систолическое сосудистое сопротивление снижается на 21%, сопротивление легочных сосудов - на 35%, систолическое артериальное давление - на 5-10 мм рт. ст., диастолическое - на 10-15 мм рт. ст. В период беременности наблюдается физиологическая тахикардия. В III триместре частота сердечных сокращений увеличивается на 15-20 в 1 мин. Центральное венозное давление повышается в среднем до 8 см вод. ст. (До беременности - 2-5 см вод. Ст.). Давление в венах верхних конечностей не меняется, в венах нижних конечностей увеличивается до 7-10 см вод. ст. Беременная матка сжимает нижнюю полую вену. Ухудшение венозного оттока, а также уменьшение минутного объема сердца в некоторых случаях вызывает коллапс (синдром нижней полой вены). Беременные, склонны к подобным состояниям, должны избегать положения лежа на спине. МОС при физиологической беременности до 26-32-й недели увеличивается на 32%. К концу беременности МОС несколько снижается и до начала родов лишь незначительно превышает исходную величину. Повышение МОС происходит за счет увеличения ЧСС и ударного объема сердца. В период беременности значительно увеличивается сердечный выброс - на 30-40%, начиная с 4 - 8-й недели и достигая максимума на 28 - 32-я неделя. В связи с высоким стоянием дна матки в 50% беременных на верхушке сердца и в 10% - на легочной артерии иногда выслушивают систолический шум; после физической нагрузки его интенсивность возрастает. Отмечается усиление I тона на верхушке сердца, II тон не изменен. Может наблюдаться акцент II тона на легочной артерии за счет увеличения амплитуды аортального компонента. На электрокардиограмме - смещение электрической оси сердца влево. Органы кровообращение Происходят значительные изменения в системе кроветворения. Увеличение массы крови, уровня эритроцитов и гемоглобина начинается с первых месяцев беременности. Количество эритроцитов увеличивается на 18-30%. Гемодилюция возникшей приводит к снижению гематокритного числа, наблюдается при физиологической беременности. Уровень гемоглобина составляет в среднем 120 г / л во II триместре и 112 г / л - в III триместре. Низкое значение этого показателя наблюдается на 32-34-й неделе (110 г / л). На протяжении всей беременности в периферической крови определяется прогрессирующее увеличение количества лейкоцитов (до 10,0 - 12,0 109 / л в III триместре). К концу беременности нарастает нейтрофилез до 70% и СОЭ до 34-52 мм / ч. Количество тромбоцитов составляет 25,0-30,0 109 / л. Для беременности характерно состояние гиперкоагуляции, определяется прогрессирующее повышение уровня фибриногена и VII - X факторов свертывания крови. Дыхательная система В период беременности прогрессивно увеличивается потребление кислорода материнским организмом и плодом (перед родами потребность в кислороде возрастает на 30-40%). Легкие функционируют в режиме гипервентиляции. Грудная клетка так же изменится - увеличивается в объеме, расширяется пидгрудинний угол, купол диафрагмы поднимается на 4 см. Изменения легочной функции: дыхательный объем увеличивается до конца беременности на 30-40%. На 10% повышается частота дыхания. Функциональная остаточная емкость и общий объем легких уменьшается вследствие высокого стояния диафрагмы. Слизистая оболочка бронхов в конце беременности гиперемирована и несколько отечна, что создает все условия для ее повреждения при простудных заболеваниях дыхательных путей, особенно во время гриппозной инфекции. Желудочно-кишечный тракт Во время беременности наблюдаем следующее: аппетит увеличивается, иногда с необычными вкусовыми пристрастиями; отмечается утренняя тошнота (почти в 70% беременных), частота которой максимально приходится на 8-10 неделе беременности и прекращается между 14-м и 16-й неделями (объясняется повышением прогестерона, ХГЧ, расслаблением гладких мышц желудка) повышается частота гингивита, могут возникать обильно васкуляризированы опухоли, которые регрессируют после родов; снижается вероятность возникновения язвенной болезни желудка (связывают с усилением секреции муцина слизистой оболочкой желудка и снижением секреции соляной кислоты) увеличивается риск гастроэзофагальной рефлюкса, что обусловлено гипотонией пищевода, снижением тонуса желудочно-пищеводного сфинктера и анатомическим смещением желудка; растет частота (до 30%) запоров (обусловлено снижением перистальтики кишечника и расширением геморроидальных вен за счет повышения центрального венозного давления и действия прогестерона) повышается риск образования желчных камней за счет расширения и ухудшение эвакуации желчи из желчного пузыря и повышение содержания холестерина в крови печень: усиливается кровообращение, размеры печени не увеличиваются, повышается содержание щелочной фосфатазы (за счет дополнительного образования в плаценте), увеличивается активность АсАТ, снижается продукция альбуминов и повышается концентрация глобулинов, происходит повышение синтетической функции печени (липидемия с высоким уровнем холестерина и его эфиров), снижается антитоксическая функция печени увеличивается частота геморроя - результат запоров, повышенного венозного давления и расслабляющего действия прогестерона на сосудистую стенку. обмен веществ В обмене веществ происходят следующие изменения: основной обмен увеличивается на 20%; увеличивается потребность в килокалориях в среднем до 2 000-3 200 ккал в день (150 ккал / день в I триместре и 350 ккал / день во II и III триместрах беременности) усиливаются пластические процессы (преимущество анаболических над процессами катаболизма) усиливается синтез РНК, что приводит к повышению синтеза белков в рибосомах; жировой обмен - повышается ассимиляция жиров, снижается процесс их окисления, что приводит к накоплению в крови кетоновых тел, -аминомасляной и ацетоуксусной кислот, увеличивается отложение жира в различных органах и тканях (надпочечники, плацента, кожа, молочные железы и др.) ; углеводный обмен - лабильный содержание сахара в крови (некоторое превышение нормы) и периодическое появление сахара в моче; обмен витаминов и микроэлементов увеличивается за счет значительной активизации процессов клеточного метаболизма в организме матери и плода. Мочевая система Значительно расширяются почечные лоханки и мочеточника (в основном справа). Отмечается перегиб мочеточника в области перехода его верхней трети средней. Дилатация мочевыводящих путей начинается с 5-6-й недели, достигает максимума на 32-й неделе беременности и до родов снижается. Меняется кровоснабжение почек до 16 недели беременности растут почечный кровоток (на 75%), клубочковая фильтрация (до 5% уже на 12-й неделе), клиренс креатинина (на 40%). Фильтрация белков не меняется. Экскреция глюкозы увеличивается (1-10 г в сутки) в связи с повышением клубочковой фильтрации глюкозы, превышающей реабсорбцию. Гениталии В гениталиях проходят следующие изменения: размеры матки увеличиваются, объем возрастает в 1000 раз, вес матки увеличивается с 50-60 г у небеременных состоянии до 1000 г в конце беременности (увеличение за счет преимущественно гипертрофии клеток миометрия) форма матки удлиненная, шаровидная на 8-й неделе и вновь удлиненная на 16-й неделе беременности; позиция матки - матка выходит из полости таза, возвращается и наклоняется вправо; консистенция матки прогрессивно смягчается, что обусловлено повышенной васкуляризации и наличием амниотической жидкости; шейка матки размягчается и становится цианотической; граница между эндо- и экзоцервикса - предел переходного эпителия смещается наружу, формируется эктопия цилиндрического эпителия, которую нельзя рассматривать как эрозию; сокращение матки с первого триместра нерегулярные и безболезненные (схватки Брэкстон-Гиксона), но на поздних сроках это вызывает дискомфорт и может быть причиной ложного родильного боли; емкость матки возрастает с 4-8 мл у небеременных состоянии, к 5000 мл в конце беременности; миометрий гипертрофируется (эффект эстрогенов), гиперплазуеться (эффект прогестерона), отдельные мышечные волокна удлиняются в 15 раз; кровеносные сосуды матки расширяются, удлиняются, особенно венозные, образуются новые сосуды, за счет чего маточный кровоток возрастает более чем в 10 раз (до беременности он составляет 2 - 3% МОС, а на поздних сроках беременности - 20 - 30%, МОС - 500 - 700 мл / мин). Образуется маточное круг кровообращения - второе сердце, тесно связано с плацентарный и плодовым кровообращением; нервные элементы матки - увеличивается количество чувствительных, баро-, осмо-, хемо- и других рецепторов биохимические изменения - значительный рост количества актомиозину, креатинфосфата и гликогена, возрастает активность ферментных систем (АТФаза актомиозину и др.), Накапливаются высокоэнергетические соединения (гликоген, макроэргические фосфаты), мышечные белки и электролиты (ионы кальция, натрия, калия, магния , хлора и др.) маточные трубы - утолщаются, кровообращение в них значительно усиливается; яичники - несколько увеличиваются, но циклические процессы в них прекращаются. Желтое тело после 16-й недели беременности претерпевает инволюции; связки матки - значительно утолщаются и удлиняются, особенно круглые и крестцово-маточные; И т.д.\n",
            "71. Разрыв шаблона. Типа сначала замкнутая, закомплексованная девочка с кучей страхов из проблем с психикой. И тут упсзаядлая матерщинница. Или трусы или крестик, дорогая. А лучше всего попринимай Селанк, дай своим нервам отдых и прекрати их дергать во все стороны.\n",
            "82. Есть живущие в Оренбурге? Расскажите о городе подробно. Какие места есть, как с фастфудом, кино, развлечения какие, как город, работа и тд и тп.\n",
            "90. Вы живёте не для того чтобы оправдать чьи то ожидания. И тот факт, что Вы чувствуете вину за преступление, которое совершили над Вами (ребёнком!) красноречиво свидетельствует о том, что Ваши родители бездарны и всё проёбли что только могли. Если у Вас найдутся силы простить их, то Вы очень сильный человек.\n",
            "96. Я из Питера, но и в СПб, и в Москве есть много лгбт-френдли кафе и антикафе, погуглите. Также хостелы максимум 1000 за сутки, можно и дешевле найти.\n",
            "100. Из ухода оставила только детское мыло для лица, какую то болтушку и крем. Никакой разницы особо не увидела. Крем оставила, потому что сушит кожу от лекарств.\n",
            "126. У вас точно нет сопутствующих заболеваний? К примеру, себорея может давать симптоматику покраснений/шелушения кожи лица. Могут облегчить проблему: 1) умывание фильтровальной водой комнатной t; 2) детский крем, который хоть и жирный, но гипоаллергенный.\n",
            "200. Анонимно пожалуйста. У меня в душе самая настоящая мелодрама. Не понимаю как мне быть. Я влюбилась в персону, посредством интернет переписки. Это страшно, но то, что вытекает из этого гораздо страшнее. Как об этом сказать? Надо ли, если мы возможно никогда не сможем увидеться? У нас очень хорошее общение, не эгоистично будет ли с моей стороны признаваться? Как подгадать момент?\n",
            "247. Какие традиции идиотские в мире существуют, сами себе правила выдумали, такой бред\n",
            "272. Игорь Лацынников - психолог, специалист в области лечения депрессии Я была его клиенткой.\n",
            "289. Не стесняйся взять с собой кого-то из родителей. Это же отчасти семейное решение. А они помогут себя отстоять пока не научишься сам\n",
            "296. У меня низкий болевой порог, очень развитые рефлексы при случайном вдыхании неприятных запахов и т.д. Но мне было норм, а до этого жутко боялась из-за рассказов других людей о бесплатных процедурах. Идёт рвотный рефлекс, успокаиваешься, дышишь носом, не закрываешь рот, стараешься расслабиться, отвлечься, ждёшь ещё немного, ну и всё. Но делала платно, это того стоило, персонал отлично сработал, горло обезболили до этого, были очень добры, всё объясняли и т.д. Мама тоже делала платно, но в другом месте, немного дешевле (так уж решила), ей меньше понравилось, но она вообще была после отравления, больницы и т.д., а ничего прям такого ужасного в процедуре всё равно не было, по её словам. Когда-то она делала бесплатно, вот тогда жаловалась очень, как и другие. (Не подумайте, что какая-то реклама, я даже не знаю, из какого Вы города).\n",
            "368. Здравствуйте! Я не умею в диагнозы, так как не клинический психолог. Но я хорошо даю поддержку и работаю с любовной зависимостью, так как сама в своё время от неё страдала и смогла справиться. Очень рекомендую выговариваться, хотя бы раз в две недели. Многое откроется и встанет на свои места.\n",
            "387. Похоже на подвывих височно-нижнечелюстного сустава. Консультацию челюстно лицевого хирурга. Ну или стоматолог..\n",
            "393. К врачу конечно идите.\n",
            "403. Можно попробовать почитать книгу \"Прочь из замкнутого круга\" Дж.Янга. И про трудности с привязанностью и близостью. Разобраться в ситуации может помочь психолог с хорошими отзывами, работающий в эффективном подходе (например КПТ, схема-терапия и др).\n",
            "461. Анонимно Надо пристроить взрослую породистую собаку, но я не знаю как найти действительно хорошего хозяина. Как понять что человек не выкинет его если возникнут проблемы, будет кормить нормальной едой, а не помоями со стола, выгуливать и тд? Он ведь может соврать, особенно в вопросе о материальном положении (а содержать собаку недешево). Я боюсь, что новый хозяин окажется говном. А может и вообще пошлет меня подальше когда заберёт пса, а я хочу контакт поддерживать, хотя бы раз в месяц узнавать как у него дела. Как проверить человека перед тем как отдавать собаку? И если уж на то пошло: может кто-нибудь знает группы вк где можно выставить такое объявление и где тусуются нормальные люди. Может, кто-нибудь сам находил добрые руки. Где и как? Знакомых и знакомых знакомых нет, искать буду только через интернет.\n",
            "464. Никак не понять, к сожалению\n",
            "535. Та же проблема, врачи не помогли. Помогает гигиена после па и приём фуродонина при первых болях в животе.\n",
            "547. Мне кажется что вся эта серость неотъемлемая часть человеческой сущности, только потому что мы люди, это и существует, неизбежно. То, каким мы видим мир в данный момент, является последствием деятельности абсолютно всех, нас. А тьма и свет это две стороны одной карты, но каждый выбирает сам, какую сторону видеть, невероятно трудно смотреть на обе сразу, такое чувство что природа сделал так, чтобы человека всегда тянуло к крайностям, и это касается всего. За, или против? Справа, или слева? Да, или нет? Думаю что реальность заключается в том, что мир не может существовать без обеих сторон, просто людей так много, и у каждого свои глаза. Я считаю самый лучший выход, это научиться быть третьей стороной, и наблюдая за всем, принимать для себя решения именно так, чтобы не стать заложником ни света, ни тьмы, таким образом, появляется возможность избежать конфликты, и найти по-настоящему верный путь. Но каждый ведь сам выбирает во что верить, остаётся убедиться что такая вера не загонит нас в один из тупиков.\n"
          ],
          "name": "stdout"
        }
      ]
    },
    {
      "cell_type": "markdown",
      "metadata": {
        "id": "R0PnDzN9vHFM"
      },
      "source": [
        "**Личное местоимение**"
      ]
    },
    {
      "cell_type": "code",
      "metadata": {
        "colab": {
          "base_uri": "https://localhost:8080/",
          "height": 265
        },
        "id": "2fUWihISzM_C",
        "outputId": "182e0062-04c9-44e0-ad79-0b76a9478a91"
      },
      "source": [
        "pos_ratio_df['NPRO'].hist();"
      ],
      "execution_count": 53,
      "outputs": [
        {
          "output_type": "display_data",
          "data": {
            "image/png": "[encoded data removed]",
            "text/plain": [
              "<Figure size 432x288 with 1 Axes>"
            ]
          },
          "metadata": {
            "tags": [],
            "needs_background": "light"
          }
        }
      ]
    },
    {
      "cell_type": "code",
      "metadata": {
        "colab": {
          "base_uri": "https://localhost:8080/"
        },
        "id": "_6J7i0xftnpf",
        "outputId": "1ed902ba-471f-43f1-e9e2-30dfe9485b47"
      },
      "source": [
        "mean_value = pos_ratio_df['NPRO'].mean()\n",
        "std_dev = np.std(pos_ratio_df['NPRO'])\n",
        "print(mean_value, std_dev)\n",
        "print(mean_value - 2 * std_dev, mean_value + 2 * std_dev)\n",
        "\n",
        "extra_texts_dict = pos_ratio_df.query(\n",
        "    'NPRO >= @mean_value + 2 * @std_dev | NPRO <= @mean_value - 2 * @std_dev')[\n",
        "    'NPRO'].to_dict()\n",
        "for key in extra_texts_dict:\n",
        "  print(str(key) + '. ' + corpus[str(key)]['text'])"
      ],
      "execution_count": 54,
      "outputs": [
        {
          "output_type": "stream",
          "text": [
            "0.10719652071956366 0.08345310317619269\n",
            "-0.05970968563282171 0.27410272707194905\n",
            "14.  Анонимно, опубликуйте, пожалуйста. Такая ситуация. Есть у меня подруга и общаемся мы с ней уже лет десять и мне в принципе неплохо с ней дружить. У неё появился парень (уже пару лет). Сначала, я с ними просто нормально общалась, ездила к ним в гости. Ровно два раза я переспала с этим парнем (с одобрения подруги). Странно, что я её потом спросила, нормально ли такое вообще. И она мне ответила, что нормально всё. Мы до сих пор общаемся с ней. Месяца три назад, у меня начались серьёзные проблемы со здоровьем. Так совпало, что второй раз, когда у меня была встреча (свидание, секс) с парнем подруги, пришёлся на эту плохую ситуацию со здоровьем и финансами. Нужно подчеркнуть, что подруга была в курсе, где и с кем парень (даже смс нам вечером писала и говорила, что сама или не может или не хочет к нам приехать). Я из-за доверительной атмосферы, рассказала о своих проблемах парню. Он меня спросил что-то вроде: \"А хочешь я буду оплачивать тебе врача, если ты продолжишь так же скрашивать мой досуг?\". Я тогда решила, что это шутка такая. Сказала, что мол хочу и посмеялась. Он действительно скинул мне деньги. Я сходила к врачу. А потом обдумала ситуацию и деньги парню вернула. Перестала общаться и с ним и с его девушкой (моей подругой). Решила сходить на концерт и написала подруге, чтобы одной не ходить. Мы с ней помирились. Перессказала подруге ситуацию, но без подробностей. Я сказала подруге, что встречалась с парнем (каким-то ещё ей неизвестным), понадобились деньги. Мол, он озвучил, что отработать. Я не стала дальше с ним общаться и деньги вернула. Я так передала эту ситуацию, чтобы хотя бы частично рассказать подруге. Не могу же я ей правду сказать. Но, кто конкретно этот парень я подруге не сказала. Она либо меня не поняла, либо думает, что это ещё кто-то. А потом мы вернулись к разговору уже об её парне, а не о том, что со мной якобы произошло. Она, напомнила, что ее парень дал мне деньги, цитирую: \"совершенно бескорыстно\". Спрашивала, зачем я вернула их ему. Я толком ничего не ответила. Но поскольку мои жалобы на здоровье были известны подруге, все закончилось тем, что её парень (видимо при ней) опять скинул мне деньги. Они считают ситуацию разрешившийся. А мне что делать? Не хочется ни с кем из них общаться в принципе. И чувствую себя очень плохо.\n",
            "23. Выдает ошибку... Мы не ошибка! Эй!\n",
            "24. А кому отправить....\n",
            "25. да, кому скидывать?\n",
            "103. Если пользоваться декоративной косметикой, даже если это только тушь для ресниц, тогда без уходовой, хотя бы в процессе снятия макияжа, не обойтись. Я пользуюсь для умывания и ухода средствами от Sensai, а также могу много хорошего сказать в пользу более бюджетной корейской уходовой косметики. Просто водой у меня лично не получается.\n",
            "107. Никогда и не начинала пользоваться, но у меня и проблем с кожей никогда не было. Да, и сколько смотрю, те кто пользуется и те кто не пользуется разницы никакой нет.\n",
            "110. На фоне того что вы болеете, не очень приятная ситуация становится совсем плохой. Может просто не общаться с ним какое-то время..\n",
            "177. если решите сдавать, учить будет легче, тыкая тесты в приложении, чем с книгами и конспектами. можно поставить цель тыкать тесты 5 мин в день\n",
            "196. Всем привет. Вопрос к тем, у кого андроид 10: каким приложением для записи звонков вы пользуетесь? На прошлом телефоне пользовался Call recorder, записывало прекрасно, на новом телефоне при всех разрешениях и настройках вообще ничего не записал. Но я читал, что на 10 андроиде с этим приложением есть такая фигня. Скачал \"Запись звонка\" (желтый значок) - при всех настройках он записал звонок, но ничего нет - звонок полностью пустой, то есть, запись есть, но в ней - тишина. Запись звонков мне крайне необходима по работе, я не могу без такого приложения.\n",
            "200. Анонимно пожалуйста. У меня в душе самая настоящая мелодрама. Не понимаю как мне быть. Я влюбилась в персону, посредством интернет переписки. Это страшно, но то, что вытекает из этого гораздо страшнее. Как об этом сказать? Надо ли, если мы возможно никогда не сможем увидеться? У нас очень хорошее общение, не эгоистично будет ли с моей стороны признаваться? Как подгадать момент?\n",
            "208. Можно насладиться этими чувствами и по переписке, созваниваться, если ваш собеседник ответит взаимностью, близость может принимать разные формы. Почему бы и не попробовать признаться, намекните на симпатию, для начала, чтобы ни к чему не обязывать. Такое общение, зачастую, создаёт перспективы увидеться и вживую. Но если в реал выйти категорически невозможно, а вам захочется быть вместе не только дистанционно, такие отношения могут причинить вам сильную боль. Думайте о будущем и о том, готовы ли вы к чувствам на расстоянии.\n",
            "247. Какие традиции идиотские в мире существуют, сами себе правила выдумали, такой бред\n",
            "252. Написать заявление в полицию на родителей? Записать на диктофон их угрозы с принуждении к браку? После того, как отнесёте заявление сразу бежать. Какие ещё усатые мужики? Как жить потом, как все? Да лучше умереть, чем жить все время в обслуге хер пойми кого, как рабыня. Чем больше сопротивления, тем быстрее такие дикие \"обычаи\" будут уничтожены. Нельзя оставлять такую дичь безнаказанной.\n",
            "267. 19 лет - это не тётя Мне кажется, что вам просто дома мозги промывают, что типа пора взрослеть. Бумажки заполнять можно научиться за пару минут, если ты обычный человек. А чтоб приготовить ченить - так можно видос на ютубе найти и всё.\n",
            "397. Торопиться не надо, неспешно к лору, на промывание\n",
            "422. может вам проще будет засыпать под какую-то музыку спокойную? типа в приложухах музыка для засыпания или звуки всякие меня вот храп или ТВ тоже бесит очень, а такие звуки нет\n",
            "453. Попробуйте сайты для решения домашки, я не могу дать наводки, но знаю, что такие есть. Или найдите репетитора по русскому, и попросите это сделать\n",
            "499. Было тоже самое, в итоге установили обострение гастродуоденита, пролечилась таблетками, прописали диету, всё пришло в норму, сейчас живу спокойно вхв причем также произошло от смены питания резкого(правда на всякие вредности) На самом деле может у вас какая то непереносимость клетчатки? Звучит как нечто подобное... К примеру я вот открыла в себе то, что ни капусту ни яблоки кушать не могу, точно такая же реакция организма, боль там и прочие побочки Так что соглашусь с комментаторами выше, кажется это просто индивидуальная реакция организма на резкую смену питания\n",
            "517. У меня есть подруга-феминистка, которая всем хороша, кроме этой своей фиксации, я бы сказала. Чтобы вы правильно поняли. Дело не в том, что я патриархалка. У меня достаточно собственных загонов против мужчин с феминизмом не связанных никак. И я просто не готова целью своей жизни делать попытки переубедить каждого встречного мужчину, я не хочу быть активисткой. Кстати, она тоже не хочет. Она просто по всем вопросам, в том числе феминизма, считает себя до мозга костей логичной и правой. И все было бы ничего, если бы не эмоции. Такое чувство, что кроме феминизма обсудить тупо нечего. В мире есть куча интересного. Собственно, она давно этим перестала страдать в общении сл мной. Изредка статьи пришлет, но это можно игнорить, не обидев ее\n"
          ],
          "name": "stdout"
        }
      ]
    },
    {
      "cell_type": "markdown",
      "metadata": {
        "id": "KYiIcIhdvQFx"
      },
      "source": [
        "**Прилагательное (краткое)** и **компаратив**"
      ]
    },
    {
      "cell_type": "code",
      "metadata": {
        "colab": {
          "base_uri": "https://localhost:8080/",
          "height": 265
        },
        "id": "23tz6XrAyVoA",
        "outputId": "72f88129-68b3-46ab-8410-593f32fdda5d"
      },
      "source": [
        "fig, axes = plt.subplots(nrows=1, ncols=2)\n",
        "pos_ratio_df['ADJS'].hist(ax=axes[0], figsize=(12, 4));\n",
        "pos_ratio_df['COMP'].hist(ax=axes[1], figsize=(12, 4));"
      ],
      "execution_count": 57,
      "outputs": [
        {
          "output_type": "display_data",
          "data": {
            "image/png": "[encoded data removed]",
            "text/plain": [
              "<Figure size 864x288 with 2 Axes>"
            ]
          },
          "metadata": {
            "tags": [],
            "needs_background": "light"
          }
        }
      ]
    },
    {
      "cell_type": "markdown",
      "metadata": {
        "id": "25I2lkwaveoB"
      },
      "source": [
        "**Причастие (полное и краткое)**"
      ]
    },
    {
      "cell_type": "code",
      "metadata": {
        "colab": {
          "base_uri": "https://localhost:8080/",
          "height": 265
        },
        "id": "1Ze7eCxpyTlm",
        "outputId": "238b6163-88d5-42ce-ba83-3ace1693b548"
      },
      "source": [
        "fig, axes = plt.subplots(nrows=1, ncols=2)\n",
        "pos_ratio_df['PRTF'].hist(ax=axes[0], figsize=(12, 4));\n",
        "pos_ratio_df['PRTS'].hist(ax=axes[1], figsize=(12, 4));"
      ],
      "execution_count": 58,
      "outputs": [
        {
          "output_type": "display_data",
          "data": {
            "image/png": "[encoded data removed]",
            "text/plain": [
              "<Figure size 864x288 with 2 Axes>"
            ]
          },
          "metadata": {
            "tags": [],
            "needs_background": "light"
          }
        }
      ]
    },
    {
      "cell_type": "markdown",
      "metadata": {
        "id": "w41J4ShuwYYE"
      },
      "source": [
        "**Деепричастие**, **числительное** и **предикатив**"
      ]
    },
    {
      "cell_type": "code",
      "metadata": {
        "colab": {
          "base_uri": "https://localhost:8080/",
          "height": 211
        },
        "id": "VVBTJWFxyxA2",
        "outputId": "92747d4f-0452-4957-e820-4e910022cbd5"
      },
      "source": [
        "fig, axes = plt.subplots(nrows=1, ncols=3)\n",
        "pos_ratio_df['GRND'].hist(ax=axes[0], figsize=(12, 3));\n",
        "pos_ratio_df['NUMR'].hist(ax=axes[1], figsize=(12, 3));\n",
        "pos_ratio_df['PRED'].hist(ax=axes[2], figsize=(12, 3));"
      ],
      "execution_count": 63,
      "outputs": [
        {
          "output_type": "display_data",
          "data": {
            "image/png": "[encoded data removed]",
            "text/plain": [
              "<Figure size 864x216 with 3 Axes>"
            ]
          },
          "metadata": {
            "tags": [],
            "needs_background": "light"
          }
        }
      ]
    }
  ]
}